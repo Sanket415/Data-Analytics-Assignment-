{
 "cells": [
  {
   "cell_type": "code",
   "execution_count": 0,
   "metadata": {
    "colab": {
     "base_uri": "https://localhost:8080/",
     "height": 104
    },
    "colab_type": "code",
    "id": "a-BfL3EYPPKi",
    "outputId": "01d2bf5c-8b2c-4f6a-bd4b-2d748add6e97"
   },
   "outputs": [
    {
     "name": "stdout",
     "output_type": "stream",
     "text": [
      "`%tensorflow_version` only switches the major version: 1.x or 2.x.\n",
      "You set: `1.4`. This will be interpreted as: `1.x`.\n",
      "\n",
      "\n",
      "TensorFlow 1.x selected.\n"
     ]
    }
   ],
   "source": [
    "%tensorflow_version 1.4"
   ]
  },
  {
   "cell_type": "code",
   "execution_count": 0,
   "metadata": {
    "colab": {
     "base_uri": "https://localhost:8080/",
     "height": 124
    },
    "colab_type": "code",
    "id": "dqvYLgkqVTyu",
    "outputId": "8123ac42-b21b-4891-c9e9-539f01b02869"
   },
   "outputs": [
    {
     "name": "stderr",
     "output_type": "stream",
     "text": [
      "/usr/local/lib/python3.6/dist-packages/sklearn/externals/joblib/__init__.py:15: FutureWarning: sklearn.externals.joblib is deprecated in 0.21 and will be removed in 0.23. Please import this functionality directly from joblib, which can be installed with: pip install joblib. If this warning is raised when loading pickled models, you may need to re-serialize those models with scikit-learn 0.21+.\n",
      "  warnings.warn(msg, category=FutureWarning)\n",
      "/usr/local/lib/python3.6/dist-packages/statsmodels/tools/_testing.py:19: FutureWarning: pandas.util.testing is deprecated. Use the functions in the public API at pandas.testing instead.\n",
      "  import pandas.util.testing as tm\n",
      "Using TensorFlow backend.\n"
     ]
    }
   ],
   "source": [
    "import os\n",
    "import pandas as pd\n",
    "import numpy as np\n",
    "from sklearn.preprocessing import MinMaxScaler\n",
    "from sklearn.model_selection import train_test_split\n",
    "from sklearn.externals import joblib\n",
    "import seaborn as sns\n",
    "import matplotlib.pyplot as plt\n",
    "%matplotlib inline\n",
    "from numpy.random import seed\n",
    "import tensorflow as tf\n",
    "#tf.logging.set_verbosity(tf.logging.ERROR)\n",
    "from tensorflow import keras\n",
    "from tensorflow.python.keras.layers import Input, Dense\n",
    "from tensorflow.keras import backend\n",
    "\n",
    "from keras.models import Sequential\n",
    "from keras.layers import Input, Dropout, Dense, LSTM, TimeDistributed, RepeatVector\n",
    "from keras.models import Model\n",
    "from keras import regularizers"
   ]
  },
  {
   "cell_type": "code",
   "execution_count": 0,
   "metadata": {
    "colab": {},
    "colab_type": "code",
    "id": "KAkSyrBaWG9s"
   },
   "outputs": [],
   "source": [
    "from tensorflow import set_random_seed\n",
    "seed(10)\n",
    "set_random_seed(10)"
   ]
  },
  {
   "cell_type": "code",
   "execution_count": 0,
   "metadata": {
    "colab": {
     "base_uri": "https://localhost:8080/",
     "height": 75,
     "resources": {
      "http://localhost:8080/nbextensions/google.colab/files.js": {
       "data": "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",
       "headers": [
        [
         "content-type",
         "application/javascript"
        ]
       ],
       "ok": true,
       "status": 200,
       "status_text": ""
      }
     }
    },
    "colab_type": "code",
    "id": "1gjmWMP-WKsA",
    "outputId": "fa6c4019-bd97-407f-b710-a0eff5f3e79f"
   },
   "outputs": [
    {
     "data": {
      "text/html": [
       "\n",
       "     <input type=\"file\" id=\"files-12f152fd-55f2-47c4-9ce0-b59eebd67824\" name=\"files[]\" multiple disabled />\n",
       "     <output id=\"result-12f152fd-55f2-47c4-9ce0-b59eebd67824\">\n",
       "      Upload widget is only available when the cell has been executed in the\n",
       "      current browser session. Please rerun this cell to enable.\n",
       "      </output>\n",
       "      <script src=\"/nbextensions/google.colab/files.js\"></script> "
      ],
      "text/plain": [
       "<IPython.core.display.HTML object>"
      ]
     },
     "metadata": {
      "tags": []
     },
     "output_type": "display_data"
    },
    {
     "name": "stdout",
     "output_type": "stream",
     "text": [
      "Saving merged_exp_normal.csv to merged_exp_normal.csv\n"
     ]
    }
   ],
   "source": [
    "from google.colab import files\n",
    "uploaded = files.upload()"
   ]
  },
  {
   "cell_type": "code",
   "execution_count": 0,
   "metadata": {
    "colab": {
     "base_uri": "https://localhost:8080/",
     "height": 202
    },
    "colab_type": "code",
    "id": "3h6QyGQYWVMj",
    "outputId": "a5734044-04e7-4db4-f12b-a4afdd8fe56a"
   },
   "outputs": [
    {
     "data": {
      "text/html": [
       "<div>\n",
       "<style scoped>\n",
       "    .dataframe tbody tr th:only-of-type {\n",
       "        vertical-align: middle;\n",
       "    }\n",
       "\n",
       "    .dataframe tbody tr th {\n",
       "        vertical-align: top;\n",
       "    }\n",
       "\n",
       "    .dataframe thead th {\n",
       "        text-align: right;\n",
       "    }\n",
       "</style>\n",
       "<table border=\"1\" class=\"dataframe\">\n",
       "  <thead>\n",
       "    <tr style=\"text-align: right;\">\n",
       "      <th></th>\n",
       "      <th>Unnamed: 0</th>\n",
       "      <th>X1</th>\n",
       "      <th>X2</th>\n",
       "      <th>X3</th>\n",
       "      <th>X4</th>\n",
       "      <th>X5</th>\n",
       "      <th>X6</th>\n",
       "      <th>X7</th>\n",
       "      <th>X8</th>\n",
       "      <th>Sds_Armed</th>\n",
       "      <th>Anomaly_Tag</th>\n",
       "    </tr>\n",
       "  </thead>\n",
       "  <tbody>\n",
       "    <tr>\n",
       "      <th>0</th>\n",
       "      <td>622</td>\n",
       "      <td>0.42051</td>\n",
       "      <td>0.73265</td>\n",
       "      <td>6.0160</td>\n",
       "      <td>1.4258</td>\n",
       "      <td>0.22390</td>\n",
       "      <td>0.44638</td>\n",
       "      <td>4.9892</td>\n",
       "      <td>1.3106</td>\n",
       "      <td>1</td>\n",
       "      <td>0</td>\n",
       "    </tr>\n",
       "    <tr>\n",
       "      <th>1</th>\n",
       "      <td>623</td>\n",
       "      <td>0.41743</td>\n",
       "      <td>0.72691</td>\n",
       "      <td>6.0102</td>\n",
       "      <td>1.4259</td>\n",
       "      <td>0.21750</td>\n",
       "      <td>0.44326</td>\n",
       "      <td>5.0469</td>\n",
       "      <td>1.3243</td>\n",
       "      <td>1</td>\n",
       "      <td>0</td>\n",
       "    </tr>\n",
       "    <tr>\n",
       "      <th>2</th>\n",
       "      <td>624</td>\n",
       "      <td>0.41608</td>\n",
       "      <td>0.72337</td>\n",
       "      <td>6.0093</td>\n",
       "      <td>1.4254</td>\n",
       "      <td>0.21875</td>\n",
       "      <td>0.44661</td>\n",
       "      <td>5.0830</td>\n",
       "      <td>1.3227</td>\n",
       "      <td>1</td>\n",
       "      <td>0</td>\n",
       "    </tr>\n",
       "    <tr>\n",
       "      <th>3</th>\n",
       "      <td>625</td>\n",
       "      <td>0.41517</td>\n",
       "      <td>0.72154</td>\n",
       "      <td>6.0002</td>\n",
       "      <td>1.4261</td>\n",
       "      <td>0.23488</td>\n",
       "      <td>0.46345</td>\n",
       "      <td>4.9672</td>\n",
       "      <td>1.3509</td>\n",
       "      <td>1</td>\n",
       "      <td>0</td>\n",
       "    </tr>\n",
       "    <tr>\n",
       "      <th>4</th>\n",
       "      <td>626</td>\n",
       "      <td>0.41376</td>\n",
       "      <td>0.71773</td>\n",
       "      <td>5.9814</td>\n",
       "      <td>1.4257</td>\n",
       "      <td>0.25363</td>\n",
       "      <td>0.48208</td>\n",
       "      <td>4.8346</td>\n",
       "      <td>1.3580</td>\n",
       "      <td>1</td>\n",
       "      <td>0</td>\n",
       "    </tr>\n",
       "  </tbody>\n",
       "</table>\n",
       "</div>"
      ],
      "text/plain": [
       "   Unnamed: 0       X1       X2      X3  ...      X7      X8  Sds_Armed  Anomaly_Tag\n",
       "0         622  0.42051  0.73265  6.0160  ...  4.9892  1.3106          1            0\n",
       "1         623  0.41743  0.72691  6.0102  ...  5.0469  1.3243          1            0\n",
       "2         624  0.41608  0.72337  6.0093  ...  5.0830  1.3227          1            0\n",
       "3         625  0.41517  0.72154  6.0002  ...  4.9672  1.3509          1            0\n",
       "4         626  0.41376  0.71773  5.9814  ...  4.8346  1.3580          1            0\n",
       "\n",
       "[5 rows x 11 columns]"
      ]
     },
     "execution_count": 6,
     "metadata": {
      "tags": []
     },
     "output_type": "execute_result"
    }
   ],
   "source": [
    "import io\n",
    "df = pd.read_csv(io.BytesIO(uploaded['merged_exp_normal.csv']))\n",
    "df.head()"
   ]
  },
  {
   "cell_type": "code",
   "execution_count": 0,
   "metadata": {
    "colab": {
     "base_uri": "https://localhost:8080/",
     "height": 202
    },
    "colab_type": "code",
    "id": "feK4QPEkZSfj",
    "outputId": "054e7ecd-0954-46cd-d1fa-94a5a55a7663"
   },
   "outputs": [
    {
     "data": {
      "text/html": [
       "<div>\n",
       "<style scoped>\n",
       "    .dataframe tbody tr th:only-of-type {\n",
       "        vertical-align: middle;\n",
       "    }\n",
       "\n",
       "    .dataframe tbody tr th {\n",
       "        vertical-align: top;\n",
       "    }\n",
       "\n",
       "    .dataframe thead th {\n",
       "        text-align: right;\n",
       "    }\n",
       "</style>\n",
       "<table border=\"1\" class=\"dataframe\">\n",
       "  <thead>\n",
       "    <tr style=\"text-align: right;\">\n",
       "      <th></th>\n",
       "      <th>X1</th>\n",
       "      <th>X2</th>\n",
       "      <th>X3</th>\n",
       "      <th>X4</th>\n",
       "      <th>X5</th>\n",
       "      <th>X6</th>\n",
       "      <th>X7</th>\n",
       "      <th>X8</th>\n",
       "      <th>Anomaly_Tag</th>\n",
       "    </tr>\n",
       "  </thead>\n",
       "  <tbody>\n",
       "    <tr>\n",
       "      <th>0</th>\n",
       "      <td>0.42051</td>\n",
       "      <td>0.73265</td>\n",
       "      <td>6.0160</td>\n",
       "      <td>1.4258</td>\n",
       "      <td>0.22390</td>\n",
       "      <td>0.44638</td>\n",
       "      <td>4.9892</td>\n",
       "      <td>1.3106</td>\n",
       "      <td>0</td>\n",
       "    </tr>\n",
       "    <tr>\n",
       "      <th>1</th>\n",
       "      <td>0.41743</td>\n",
       "      <td>0.72691</td>\n",
       "      <td>6.0102</td>\n",
       "      <td>1.4259</td>\n",
       "      <td>0.21750</td>\n",
       "      <td>0.44326</td>\n",
       "      <td>5.0469</td>\n",
       "      <td>1.3243</td>\n",
       "      <td>0</td>\n",
       "    </tr>\n",
       "    <tr>\n",
       "      <th>2</th>\n",
       "      <td>0.41608</td>\n",
       "      <td>0.72337</td>\n",
       "      <td>6.0093</td>\n",
       "      <td>1.4254</td>\n",
       "      <td>0.21875</td>\n",
       "      <td>0.44661</td>\n",
       "      <td>5.0830</td>\n",
       "      <td>1.3227</td>\n",
       "      <td>0</td>\n",
       "    </tr>\n",
       "    <tr>\n",
       "      <th>3</th>\n",
       "      <td>0.41517</td>\n",
       "      <td>0.72154</td>\n",
       "      <td>6.0002</td>\n",
       "      <td>1.4261</td>\n",
       "      <td>0.23488</td>\n",
       "      <td>0.46345</td>\n",
       "      <td>4.9672</td>\n",
       "      <td>1.3509</td>\n",
       "      <td>0</td>\n",
       "    </tr>\n",
       "    <tr>\n",
       "      <th>4</th>\n",
       "      <td>0.41376</td>\n",
       "      <td>0.71773</td>\n",
       "      <td>5.9814</td>\n",
       "      <td>1.4257</td>\n",
       "      <td>0.25363</td>\n",
       "      <td>0.48208</td>\n",
       "      <td>4.8346</td>\n",
       "      <td>1.3580</td>\n",
       "      <td>0</td>\n",
       "    </tr>\n",
       "  </tbody>\n",
       "</table>\n",
       "</div>"
      ],
      "text/plain": [
       "        X1       X2      X3      X4  ...       X6      X7      X8  Anomaly_Tag\n",
       "0  0.42051  0.73265  6.0160  1.4258  ...  0.44638  4.9892  1.3106            0\n",
       "1  0.41743  0.72691  6.0102  1.4259  ...  0.44326  5.0469  1.3243            0\n",
       "2  0.41608  0.72337  6.0093  1.4254  ...  0.44661  5.0830  1.3227            0\n",
       "3  0.41517  0.72154  6.0002  1.4261  ...  0.46345  4.9672  1.3509            0\n",
       "4  0.41376  0.71773  5.9814  1.4257  ...  0.48208  4.8346  1.3580            0\n",
       "\n",
       "[5 rows x 9 columns]"
      ]
     },
     "execution_count": 7,
     "metadata": {
      "tags": []
     },
     "output_type": "execute_result"
    }
   ],
   "source": [
    "df.drop(df.columns[df.columns.str.contains('unnamed',case = False)],axis = 1, inplace = True)\n",
    "df = df.drop(['Sds_Armed'], axis = 1)\n",
    "df.head()"
   ]
  },
  {
   "cell_type": "code",
   "execution_count": 4,
   "metadata": {
    "colab": {
     "base_uri": "https://localhost:8080/",
     "height": 52
    },
    "colab_type": "code",
    "id": "XnyyeypMYyfC",
    "outputId": "01200340-a57e-490a-b527-6ad48230cdfd"
   },
   "outputs": [
    {
     "ename": "NameError",
     "evalue": "name 'train_test_split' is not defined",
     "output_type": "error",
     "traceback": [
      "\u001b[1;31m---------------------------------------------------------------------------\u001b[0m",
      "\u001b[1;31mNameError\u001b[0m                                 Traceback (most recent call last)",
      "\u001b[1;32m<ipython-input-4-c2b48266239a>\u001b[0m in \u001b[0;36m<module>\u001b[1;34m\u001b[0m\n\u001b[0;32m      1\u001b[0m \u001b[0mRANDOM_SEED\u001b[0m \u001b[1;33m=\u001b[0m \u001b[1;36m101\u001b[0m\u001b[1;33m\u001b[0m\u001b[1;33m\u001b[0m\u001b[0m\n\u001b[0;32m      2\u001b[0m \u001b[1;33m\u001b[0m\u001b[0m\n\u001b[1;32m----> 3\u001b[1;33m \u001b[0mX_train\u001b[0m\u001b[1;33m,\u001b[0m \u001b[0mX_test\u001b[0m \u001b[1;33m=\u001b[0m \u001b[0mtrain_test_split\u001b[0m\u001b[1;33m(\u001b[0m\u001b[0mdf\u001b[0m\u001b[1;33m,\u001b[0m \u001b[0mtest_size\u001b[0m\u001b[1;33m=\u001b[0m\u001b[1;36m0.2\u001b[0m\u001b[1;33m,\u001b[0m \u001b[0mrandom_state\u001b[0m \u001b[1;33m=\u001b[0m \u001b[0mRANDOM_SEED\u001b[0m\u001b[1;33m)\u001b[0m\u001b[1;33m\u001b[0m\u001b[1;33m\u001b[0m\u001b[0m\n\u001b[0m\u001b[0;32m      4\u001b[0m \u001b[1;33m\u001b[0m\u001b[0m\n\u001b[0;32m      5\u001b[0m \u001b[0mX_train\u001b[0m \u001b[1;33m=\u001b[0m \u001b[0mX_train\u001b[0m\u001b[1;33m[\u001b[0m\u001b[0mX_train\u001b[0m\u001b[1;33m[\u001b[0m\u001b[1;34m'Anomaly_Tag'\u001b[0m\u001b[1;33m]\u001b[0m \u001b[1;33m==\u001b[0m \u001b[1;36m0\u001b[0m\u001b[1;33m]\u001b[0m\u001b[1;33m\u001b[0m\u001b[1;33m\u001b[0m\u001b[0m\n",
      "\u001b[1;31mNameError\u001b[0m: name 'train_test_split' is not defined"
     ]
    }
   ],
   "source": [
    "RANDOM_SEED = 101\n",
    "\n",
    "X_train, X_test = train_test_split(df, test_size=0.2, random_state = RANDOM_SEED)\n",
    "\n",
    "X_train = X_train[X_train['Anomaly_Tag'] == 0]\n",
    "X_train = X_train.drop(['Anomaly_Tag'], axis=1)\n",
    "y_test  = X_test['Anomaly_Tag']\n",
    "X_test  = X_test.drop(['Anomaly_Tag'], axis=1)\n",
    "X_train = X_train.values\n",
    "X_test  = X_test.values\n",
    "print('Training data size   :', X_train.shape)\n",
    "print('Validation data size :', X_test.shape)"
   ]
  },
  {
   "cell_type": "code",
   "execution_count": 5,
   "metadata": {},
   "outputs": [
    {
     "ename": "NameError",
     "evalue": "name 'X_test' is not defined",
     "output_type": "error",
     "traceback": [
      "\u001b[1;31m---------------------------------------------------------------------------\u001b[0m",
      "\u001b[1;31mNameError\u001b[0m                                 Traceback (most recent call last)",
      "\u001b[1;32m<ipython-input-5-c8ff277ea5c9>\u001b[0m in \u001b[0;36m<module>\u001b[1;34m\u001b[0m\n\u001b[1;32m----> 1\u001b[1;33m \u001b[0mX_test\u001b[0m\u001b[1;33m.\u001b[0m\u001b[0mhead\u001b[0m\u001b[1;33m(\u001b[0m\u001b[1;33m)\u001b[0m\u001b[1;33m\u001b[0m\u001b[1;33m\u001b[0m\u001b[0m\n\u001b[0m",
      "\u001b[1;31mNameError\u001b[0m: name 'X_test' is not defined"
     ]
    }
   ],
   "source": [
    "X_test.head()"
   ]
  },
  {
   "cell_type": "code",
   "execution_count": 0,
   "metadata": {
    "colab": {},
    "colab_type": "code",
    "id": "Z_WB1PvXYywA"
   },
   "outputs": [],
   "source": [
    "scaler = MinMaxScaler()\n",
    "X_train = scaler.fit_transform(X_train)\n",
    "X_test  = scaler.transform(X_test)"
   ]
  },
  {
   "cell_type": "code",
   "execution_count": 0,
   "metadata": {
    "colab": {
     "base_uri": "https://localhost:8080/",
     "height": 277
    },
    "colab_type": "code",
    "id": "lNAIeTDdZVMl",
    "outputId": "0db7d733-e851-4ad6-fadd-f06479afebe8"
   },
   "outputs": [
    {
     "name": "stdout",
     "output_type": "stream",
     "text": [
      "             X1       X2      X3      X4  ...       X6       X7      X8  Anomaly_Tag\n",
      "0       0.42051  0.73265  6.0160  1.4258  ...  0.44638   4.9892  1.3106            0\n",
      "1       0.41743  0.72691  6.0102  1.4259  ...  0.44326   5.0469  1.3243            0\n",
      "2       0.41608  0.72337  6.0093  1.4254  ...  0.44661   5.0830  1.3227            0\n",
      "3       0.41517  0.72154  6.0002  1.4261  ...  0.46345   4.9672  1.3509            0\n",
      "4       0.41376  0.71773  5.9814  1.4257  ...  0.48208   4.8346  1.3580            0\n",
      "...         ...      ...     ...     ...  ...      ...      ...     ...          ...\n",
      "152351  0.77400  1.70110  7.1742  3.0244  ...  8.21240  21.4700  1.6362            0\n",
      "152352  0.76942  1.69400  7.0381  2.9757  ...  8.31700  22.1440  1.6047            0\n",
      "152353  0.76204  1.67450  6.9004  2.9260  ...  8.25700  22.1050  1.5607            0\n",
      "152354  0.75973  1.66120  6.7681  2.8843  ...  8.12280  21.9780  1.4982            0\n",
      "152355  0.76065  1.65900  6.7191  2.8671  ...  7.53940  20.7380  1.4338            0\n",
      "\n",
      "[152356 rows x 9 columns]\n",
      "(152356, 9)\n"
     ]
    }
   ],
   "source": [
    "df = df.sort_index()\n",
    "df.head()\n",
    "print(df)\n",
    "print(df.shape)"
   ]
  },
  {
   "cell_type": "code",
   "execution_count": 0,
   "metadata": {
    "colab": {
     "base_uri": "https://localhost:8080/",
     "height": 52
    },
    "colab_type": "code",
    "id": "z6_-BFXoaJV6",
    "outputId": "93a4e66d-e0ea-4524-d009-80b358e82161"
   },
   "outputs": [
    {
     "name": "stdout",
     "output_type": "stream",
     "text": [
      "Training dataset: (121885, 9)\n",
      "Testing dataset: (30471, 9)\n"
     ]
    }
   ],
   "source": [
    "train = df[:121885] # 80% train\n",
    "test = df[121885:] # 20% test\n",
    "print('Training dataset:',train.shape)\n",
    "print('Testing dataset:',test.shape)"
   ]
  },
  {
   "cell_type": "code",
   "execution_count": 0,
   "metadata": {
    "colab": {
     "base_uri": "https://localhost:8080/",
     "height": 483
    },
    "colab_type": "code",
    "id": "H9U34DUjbhs_",
    "outputId": "c676c39c-3e3c-4042-bcfd-775a844ad6e4"
   },
   "outputs": [
    {
     "data": {
      "image/png": "[encoded data removed]",
      "text/plain": [
       "<Figure size 1152x576 with 1 Axes>"
      ]
     },
     "metadata": {
      "tags": []
     },
     "output_type": "display_data"
    }
   ],
   "source": [
    "fig, ax = plt.subplots(figsize = (16,8))\n",
    "ax.plot(train['X1'], label = 'X1', color = 'blue')\n",
    "ax.plot(train['X2'], label = 'X2', color = 'white')\n",
    "ax.plot(train['X3'], label = 'X3', color = 'yellow')\n",
    "ax.plot(train['X4'], label = 'X4', color = 'green')\n",
    "ax.plot(train['X5'], label = 'X5', color = 'magenta')\n",
    "ax.plot(train['X6'], label = 'X6', color = 'black')\n",
    "ax.plot(train['X7'], label = 'X7', color = 'cyan')\n",
    "ax.plot(train['X8'], label = 'X8', color = 'red')\n",
    "plt.legend()\n",
    "plt.show()"
   ]
  },
  {
   "cell_type": "code",
   "execution_count": 0,
   "metadata": {
    "colab": {
     "base_uri": "https://localhost:8080/",
     "height": 483
    },
    "colab_type": "code",
    "id": "baEbYcDMczJj",
    "outputId": "d40069a0-b489-4ad7-cde7-7e2588a7d257"
   },
   "outputs": [
    {
     "data": {
      "image/png": "[encoded data removed]",
      "text/plain": [
       "<Figure size 1152x576 with 1 Axes>"
      ]
     },
     "metadata": {
      "tags": []
     },
     "output_type": "display_data"
    }
   ],
   "source": [
    "fig, ax = plt.subplots(figsize = (16,8))\n",
    "ax.plot(test['X1'], label = 'X1', color = 'blue')\n",
    "ax.plot(test['X2'], label = 'X2', color = 'white')\n",
    "ax.plot(test['X3'], label = 'X3', color = 'yellow')\n",
    "ax.plot(test['X4'], label = 'X4', color = 'green')\n",
    "ax.plot(test['X5'], label = 'X5', color = 'magenta')\n",
    "ax.plot(test['X6'], label = 'X6', color = 'black')\n",
    "ax.plot(test['X7'], label = 'X7', color = 'cyan')\n",
    "ax.plot(test['X8'], label = 'X8', color = 'red')\n",
    "plt.legend()\n",
    "plt.show()"
   ]
  },
  {
   "cell_type": "code",
   "execution_count": 0,
   "metadata": {
    "colab": {
     "base_uri": "https://localhost:8080/",
     "height": 35
    },
    "colab_type": "code",
    "id": "P8m50YFkdRAE",
    "outputId": "3cbcb7ab-0427-45d4-b671-11f1107cab54"
   },
   "outputs": [
    {
     "data": {
      "text/plain": [
       "['Scaler_Data']"
      ]
     },
     "execution_count": 15,
     "metadata": {
      "tags": []
     },
     "output_type": "execute_result"
    }
   ],
   "source": [
    "#Normalize Data\n",
    "scaler = MinMaxScaler()\n",
    "X_train = scaler.fit_transform(train)\n",
    "X_test = scaler.transform(test)\n",
    "scaler_filename = 'Scaler_Data'\n",
    "joblib.dump(scaler,scaler_filename)"
   ]
  },
  {
   "cell_type": "code",
   "execution_count": 0,
   "metadata": {
    "colab": {
     "base_uri": "https://localhost:8080/",
     "height": 52
    },
    "colab_type": "code",
    "id": "FsFEhh9dd3V4",
    "outputId": "065620ed-c337-4065-bba0-8bf37b2f216c"
   },
   "outputs": [
    {
     "name": "stdout",
     "output_type": "stream",
     "text": [
      "Training dataset: (121885, 1, 9)\n",
      "Test dataset: (30471, 1, 9)\n"
     ]
    }
   ],
   "source": [
    "#Reshape inputs for LSTM\n",
    "X_train = X_train.reshape(X_train.shape[0], 1, X_train.shape[1])\n",
    "print('Training dataset:', X_train.shape)\n",
    "X_test = X_test.reshape(X_test.shape[0], 1, X_test.shape[1])\n",
    "print('Test dataset:', X_test.shape)"
   ]
  },
  {
   "cell_type": "code",
   "execution_count": 0,
   "metadata": {
    "colab": {},
    "colab_type": "code",
    "id": "v1vhdNfAeTOe"
   },
   "outputs": [],
   "source": [
    "#AutoEncoder\n",
    "def autoencoder_model(X):\n",
    "  inputs = Input(shape = (X.shape[1], X.shape[2]))\n",
    "  L1 = LSTM(9,activation='relu',return_sequences=True)(inputs)\n",
    "  L2 = LSTM(24, activation='relu', return_sequences=False)(L1)\n",
    "  L3 = RepeatVector(X.shape[1])(L2)\n",
    "  L4 = LSTM(12, activation='relu', return_sequences=True)(L3)\n",
    "  L5 = LSTM(2, activation='relu', return_sequences=True)(L4)\n",
    "  output = TimeDistributed(Dense(X.shape[2]))(L5)\n",
    "  model = Model(inputs = inputs, outputs = output)\n",
    "  return model"
   ]
  },
  {
   "cell_type": "code",
   "execution_count": 0,
   "metadata": {
    "colab": {
     "base_uri": "https://localhost:8080/",
     "height": 399
    },
    "colab_type": "code",
    "id": "64dLEzKth6gr",
    "outputId": "d01015e4-3be6-476f-d1fc-ef0c27f50c56"
   },
   "outputs": [
    {
     "name": "stdout",
     "output_type": "stream",
     "text": [
      "Model: \"model_3\"\n",
      "_________________________________________________________________\n",
      "Layer (type)                 Output Shape              Param #   \n",
      "=================================================================\n",
      "input_3 (InputLayer)         (None, 1, 9)              0         \n",
      "_________________________________________________________________\n",
      "lstm_9 (LSTM)                (None, 1, 9)              684       \n",
      "_________________________________________________________________\n",
      "lstm_10 (LSTM)               (None, 24)                3264      \n",
      "_________________________________________________________________\n",
      "repeat_vector_3 (RepeatVecto (None, 1, 24)             0         \n",
      "_________________________________________________________________\n",
      "lstm_11 (LSTM)               (None, 1, 12)             1776      \n",
      "_________________________________________________________________\n",
      "lstm_12 (LSTM)               (None, 1, 2)              120       \n",
      "_________________________________________________________________\n",
      "time_distributed_3 (TimeDist (None, 1, 9)              27        \n",
      "=================================================================\n",
      "Total params: 5,871\n",
      "Trainable params: 5,871\n",
      "Non-trainable params: 0\n",
      "_________________________________________________________________\n"
     ]
    }
   ],
   "source": [
    "model = autoencoder_model(X_train)\n",
    "model.compile(optimizer='adam',loss='mae')\n",
    "model.summary()"
   ]
  },
  {
   "cell_type": "code",
   "execution_count": 0,
   "metadata": {
    "colab": {
     "base_uri": "https://localhost:8080/",
     "height": 1000
    },
    "colab_type": "code",
    "id": "Shr1OCoHil0W",
    "outputId": "8e120982-6cf4-445d-bb40-6b18463f6594"
   },
   "outputs": [
    {
     "name": "stdout",
     "output_type": "stream",
     "text": [
      "Train on 109696 samples, validate on 12189 samples\n",
      "Epoch 1/50\n",
      "109696/109696 [==============================] - 54s 491us/step - loss: 0.0049 - val_loss: 0.0062\n",
      "Epoch 2/50\n",
      "109696/109696 [==============================] - 51s 466us/step - loss: 0.0033 - val_loss: 0.0053\n",
      "Epoch 3/50\n",
      "109696/109696 [==============================] - 51s 467us/step - loss: 0.0031 - val_loss: 0.0051\n",
      "Epoch 4/50\n",
      "109696/109696 [==============================] - 51s 463us/step - loss: 0.0031 - val_loss: 0.0049\n",
      "Epoch 5/50\n",
      "109696/109696 [==============================] - 52s 473us/step - loss: 0.0031 - val_loss: 0.0049\n",
      "Epoch 6/50\n",
      "109696/109696 [==============================] - 52s 472us/step - loss: 0.0031 - val_loss: 0.0049\n",
      "Epoch 7/50\n",
      "109696/109696 [==============================] - 52s 470us/step - loss: 0.0031 - val_loss: 0.0050\n",
      "Epoch 8/50\n",
      "109696/109696 [==============================] - 52s 472us/step - loss: 0.0031 - val_loss: 0.0050\n",
      "Epoch 9/50\n",
      "109696/109696 [==============================] - 52s 473us/step - loss: 0.0031 - val_loss: 0.0050\n",
      "Epoch 10/50\n",
      "109696/109696 [==============================] - 51s 469us/step - loss: 0.0031 - val_loss: 0.0050\n",
      "Epoch 11/50\n",
      "109696/109696 [==============================] - 52s 471us/step - loss: 0.0031 - val_loss: 0.0050\n",
      "Epoch 12/50\n",
      "109696/109696 [==============================] - 51s 469us/step - loss: 0.0031 - val_loss: 0.0050\n",
      "Epoch 13/50\n",
      "109696/109696 [==============================] - 51s 465us/step - loss: 0.0031 - val_loss: 0.0050\n",
      "Epoch 14/50\n",
      "109696/109696 [==============================] - 51s 462us/step - loss: 0.0031 - val_loss: 0.0049\n",
      "Epoch 15/50\n",
      "109696/109696 [==============================] - 51s 468us/step - loss: 0.0031 - val_loss: 0.0049\n",
      "Epoch 16/50\n",
      "109696/109696 [==============================] - 51s 460us/step - loss: 0.0031 - val_loss: 0.0052\n",
      "Epoch 17/50\n",
      "109696/109696 [==============================] - 51s 467us/step - loss: 0.0030 - val_loss: 0.0050\n",
      "Epoch 18/50\n",
      "109696/109696 [==============================] - 51s 464us/step - loss: 0.0030 - val_loss: 0.0049\n",
      "Epoch 19/50\n",
      "109696/109696 [==============================] - 51s 463us/step - loss: 0.0030 - val_loss: 0.0048\n",
      "Epoch 20/50\n",
      "109696/109696 [==============================] - 51s 464us/step - loss: 0.0031 - val_loss: 0.0049\n",
      "Epoch 21/50\n",
      "109696/109696 [==============================] - 51s 466us/step - loss: 0.0030 - val_loss: 0.0049\n",
      "Epoch 22/50\n",
      "109696/109696 [==============================] - 51s 463us/step - loss: 0.0030 - val_loss: 0.0049\n",
      "Epoch 23/50\n",
      "109696/109696 [==============================] - 51s 463us/step - loss: 0.0030 - val_loss: 0.0049\n",
      "Epoch 24/50\n",
      "109696/109696 [==============================] - 50s 460us/step - loss: 0.0030 - val_loss: 0.0049\n",
      "Epoch 25/50\n",
      "109696/109696 [==============================] - 51s 465us/step - loss: 0.0030 - val_loss: 0.0049\n",
      "Epoch 26/50\n",
      "109696/109696 [==============================] - 51s 464us/step - loss: 0.0030 - val_loss: 0.0048\n",
      "Epoch 27/50\n",
      "109696/109696 [==============================] - 51s 467us/step - loss: 0.0030 - val_loss: 0.0049\n",
      "Epoch 28/50\n",
      "109696/109696 [==============================] - 51s 463us/step - loss: 0.0030 - val_loss: 0.0049\n",
      "Epoch 29/50\n",
      "109696/109696 [==============================] - 51s 463us/step - loss: 0.0030 - val_loss: 0.0049\n",
      "Epoch 30/50\n",
      "109696/109696 [==============================] - 49s 446us/step - loss: 0.0030 - val_loss: 0.0049\n",
      "Epoch 31/50\n",
      "109696/109696 [==============================] - 49s 447us/step - loss: 0.0030 - val_loss: 0.0049\n",
      "Epoch 32/50\n",
      "109696/109696 [==============================] - 49s 446us/step - loss: 0.0030 - val_loss: 0.0049\n",
      "Epoch 33/50\n",
      "109696/109696 [==============================] - 49s 444us/step - loss: 0.0030 - val_loss: 0.0050\n",
      "Epoch 34/50\n",
      "109696/109696 [==============================] - 49s 448us/step - loss: 0.0030 - val_loss: 0.0049\n",
      "Epoch 35/50\n",
      "109696/109696 [==============================] - 49s 447us/step - loss: 0.0030 - val_loss: 0.0049\n",
      "Epoch 36/50\n",
      "109696/109696 [==============================] - 48s 437us/step - loss: 0.0030 - val_loss: 0.0048\n",
      "Epoch 37/50\n",
      "109696/109696 [==============================] - 48s 441us/step - loss: 0.0030 - val_loss: 0.0049\n",
      "Epoch 38/50\n",
      "109696/109696 [==============================] - 48s 437us/step - loss: 0.0030 - val_loss: 0.0049\n",
      "Epoch 39/50\n",
      "109696/109696 [==============================] - 48s 439us/step - loss: 0.0030 - val_loss: 0.0049\n",
      "Epoch 40/50\n",
      "109696/109696 [==============================] - 49s 443us/step - loss: 0.0030 - val_loss: 0.0049\n",
      "Epoch 41/50\n",
      "109696/109696 [==============================] - 48s 439us/step - loss: 0.0030 - val_loss: 0.0047\n",
      "Epoch 42/50\n",
      "109696/109696 [==============================] - 48s 439us/step - loss: 0.0030 - val_loss: 0.0049\n",
      "Epoch 43/50\n",
      "109696/109696 [==============================] - 48s 440us/step - loss: 0.0030 - val_loss: 0.0048\n",
      "Epoch 44/50\n",
      "109696/109696 [==============================] - 48s 441us/step - loss: 0.0030 - val_loss: 0.0048\n",
      "Epoch 45/50\n",
      "109696/109696 [==============================] - 48s 438us/step - loss: 0.0030 - val_loss: 0.0048\n",
      "Epoch 46/50\n",
      "109696/109696 [==============================] - 48s 438us/step - loss: 0.0030 - val_loss: 0.0050\n",
      "Epoch 47/50\n",
      "109696/109696 [==============================] - 49s 443us/step - loss: 0.0030 - val_loss: 0.0049\n",
      "Epoch 48/50\n",
      "109696/109696 [==============================] - 48s 440us/step - loss: 0.0030 - val_loss: 0.0049\n",
      "Epoch 49/50\n",
      "109696/109696 [==============================] - 48s 441us/step - loss: 0.0030 - val_loss: 0.0049\n",
      "Epoch 50/50\n",
      "109696/109696 [==============================] - 48s 440us/step - loss: 0.0030 - val_loss: 0.0049\n"
     ]
    }
   ],
   "source": [
    "#Fit the model to dataset\n",
    "history = model.fit(X_train, X_train,epochs=50,validation_split=0.1).history"
   ]
  },
  {
   "cell_type": "code",
   "execution_count": 0,
   "metadata": {
    "colab": {
     "base_uri": "https://localhost:8080/",
     "height": 513
    },
    "colab_type": "code",
    "id": "grFCpdyHnK1e",
    "outputId": "a0b2e721-7b22-4634-a367-a687d44d28f0"
   },
   "outputs": [
    {
     "data": {
      "image/png": "[encoded data removed]",
      "text/plain": [
       "<Figure size 1152x576 with 1 Axes>"
      ]
     },
     "metadata": {
      "tags": []
     },
     "output_type": "display_data"
    }
   ],
   "source": [
    "#Plot training loss\n",
    "fig, ax = plt.subplots(figsize = (16,8))\n",
    "ax.plot(history['loss'],'b', label = 'Train')\n",
    "ax.plot(history['val_loss'], 'r', label = 'Validation')\n",
    "ax.set_title('Model Loss')\n",
    "ax.set_ylabel('Loss (mae)')\n",
    "ax.set_xlabel('Iterations')\n",
    "ax.legend()\n",
    "plt.show()"
   ]
  },
  {
   "cell_type": "code",
   "execution_count": 0,
   "metadata": {
    "colab": {
     "base_uri": "https://localhost:8080/",
     "height": 531
    },
    "colab_type": "code",
    "id": "FLhaRKTKocrx",
    "outputId": "e9449b93-cfb9-4180-a373-4fa2e961ba68"
   },
   "outputs": [
    {
     "data": {
      "text/plain": [
       "(-0.025, 0.045)"
      ]
     },
     "execution_count": 32,
     "metadata": {
      "tags": []
     },
     "output_type": "execute_result"
    },
    {
     "data": {
      "image/png": "[encoded data removed]",
      "text/plain": [
       "<Figure size 1152x576 with 1 Axes>"
      ]
     },
     "metadata": {
      "tags": []
     },
     "output_type": "display_data"
    }
   ],
   "source": [
    "#Prediction\n",
    "X_predict = model.predict(X_train)\n",
    "X_predict = X_predict.reshape(X_predict.shape[0], X_predict.shape[2])\n",
    "X_predict = pd.DataFrame(X_predict, columns= train.columns)\n",
    "X_predict.index = train.index\n",
    "\n",
    "score = pd.DataFrame(index=train.index)\n",
    "Xtrain = X_train.reshape(X_train.shape[0], X_train.shape[2])\n",
    "score['Loss_mae'] = np.mean(np.abs(X_predict - Xtrain), axis=1)\n",
    "plt.figure(figsize = (16,8))\n",
    "plt.title('Loss Distribution')\n",
    "sns.distplot(score['Loss_mae'], bins = 20, kde =True, color ='blue')\n",
    "plt.xlim([-0.025,0.045])"
   ]
  },
  {
   "cell_type": "code",
   "execution_count": 0,
   "metadata": {
    "colab": {
     "base_uri": "https://localhost:8080/",
     "height": 202
    },
    "colab_type": "code",
    "id": "3i3z5_GPzOZW",
    "outputId": "6c28761f-e2d1-4ef1-e34a-547487c7974c"
   },
   "outputs": [
    {
     "data": {
      "text/html": [
       "<div>\n",
       "<style scoped>\n",
       "    .dataframe tbody tr th:only-of-type {\n",
       "        vertical-align: middle;\n",
       "    }\n",
       "\n",
       "    .dataframe tbody tr th {\n",
       "        vertical-align: top;\n",
       "    }\n",
       "\n",
       "    .dataframe thead th {\n",
       "        text-align: right;\n",
       "    }\n",
       "</style>\n",
       "<table border=\"1\" class=\"dataframe\">\n",
       "  <thead>\n",
       "    <tr style=\"text-align: right;\">\n",
       "      <th></th>\n",
       "      <th>Loss_mae</th>\n",
       "      <th>Threshold</th>\n",
       "      <th>Anomaly</th>\n",
       "    </tr>\n",
       "  </thead>\n",
       "  <tbody>\n",
       "    <tr>\n",
       "      <th>121885</th>\n",
       "      <td>0.000667</td>\n",
       "      <td>0.015</td>\n",
       "      <td>False</td>\n",
       "    </tr>\n",
       "    <tr>\n",
       "      <th>121886</th>\n",
       "      <td>0.000698</td>\n",
       "      <td>0.015</td>\n",
       "      <td>False</td>\n",
       "    </tr>\n",
       "    <tr>\n",
       "      <th>121887</th>\n",
       "      <td>0.000588</td>\n",
       "      <td>0.015</td>\n",
       "      <td>False</td>\n",
       "    </tr>\n",
       "    <tr>\n",
       "      <th>121888</th>\n",
       "      <td>0.000495</td>\n",
       "      <td>0.015</td>\n",
       "      <td>False</td>\n",
       "    </tr>\n",
       "    <tr>\n",
       "      <th>121889</th>\n",
       "      <td>0.000654</td>\n",
       "      <td>0.015</td>\n",
       "      <td>False</td>\n",
       "    </tr>\n",
       "  </tbody>\n",
       "</table>\n",
       "</div>"
      ],
      "text/plain": [
       "        Loss_mae  Threshold  Anomaly\n",
       "121885  0.000667      0.015    False\n",
       "121886  0.000698      0.015    False\n",
       "121887  0.000588      0.015    False\n",
       "121888  0.000495      0.015    False\n",
       "121889  0.000654      0.015    False"
      ]
     },
     "execution_count": 42,
     "metadata": {
      "tags": []
     },
     "output_type": "execute_result"
    }
   ],
   "source": [
    "#Loss on Test dataset\n",
    "X_predict = model.predict(X_test)\n",
    "X_predict = X_predict.reshape(X_predict.shape[0], X_predict.shape[2])\n",
    "X_predict = pd.DataFrame(X_predict, columns= train.columns)\n",
    "X_predict.index = test.index\n",
    "\n",
    "score = pd.DataFrame(index=test.index)\n",
    "Xtest = X_test.reshape(X_test.shape[0], X_test.shape[2])\n",
    "score['Loss_mae'] = np.mean(np.abs(X_predict - Xtest),axis =1)\n",
    "score['Threshold'] = 0.015\n",
    "score['Anomaly'] = score['Loss_mae'] > score['Threshold']\n",
    "score.head()\n"
   ]
  },
  {
   "cell_type": "code",
   "execution_count": 0,
   "metadata": {
    "colab": {
     "base_uri": "https://localhost:8080/",
     "height": 283
    },
    "colab_type": "code",
    "id": "AmpbdgwO0M6D",
    "outputId": "70f70c93-df26-43dd-ba0a-bb8a0519886f"
   },
   "outputs": [
    {
     "data": {
      "text/plain": [
       "<matplotlib.axes._subplots.AxesSubplot at 0x7f703e369400>"
      ]
     },
     "execution_count": 43,
     "metadata": {
      "tags": []
     },
     "output_type": "execute_result"
    },
    {
     "data": {
      "image/png": "[encoded data removed]",
      "text/plain": [
       "<Figure size 432x288 with 1 Axes>"
      ]
     },
     "metadata": {
      "tags": []
     },
     "output_type": "display_data"
    }
   ],
   "source": [
    "score.plot(logy=True,color = ['blue','red'])"
   ]
  }
 ],
 "metadata": {
  "accelerator": "GPU",
  "colab": {
   "collapsed_sections": [],
   "name": "Assignment_2_Q_4.ipynb",
   "provenance": []
  },
  "kernelspec": {
   "display_name": "Python 3",
   "language": "python",
   "name": "python3"
  },
  "language_info": {
   "codemirror_mode": {
    "name": "ipython",
    "version": 3
   },
   "file_extension": ".py",
   "mimetype": "text/x-python",
   "name": "python",
   "nbconvert_exporter": "python",
   "pygments_lexer": "ipython3",
   "version": "3.7.6"
  }
 },
 "nbformat": 4,
 "nbformat_minor": 1
}
