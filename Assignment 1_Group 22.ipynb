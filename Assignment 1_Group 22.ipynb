{
 "cells": [
  {
   "cell_type": "markdown",
   "metadata": {},
   "source": [
    "# Assignment - 1\n",
    "Group No: 22; \n",
    "Deep Singh     251122489,\n",
    "Mandeep Singh  251122474,\n",
    "Sanket Salunke 251102392"
   ]
  },
  {
   "cell_type": "markdown",
   "metadata": {},
   "source": [
    "#### Dependencies\n",
    "First of all, we will import the libraries for the basic requirements such as mathematical calculations, plotting graphs, data visualization, etc and then we will import question specific libraries."
   ]
  },
  {
   "cell_type": "code",
   "execution_count": 1,
   "metadata": {},
   "outputs": [],
   "source": [
    "import matplotlib.pyplot as plt\n",
    "import pandas as pd\n",
    "import numpy as np\n",
    "import seaborn as sns\n",
    "import math\n",
    "\n",
    "import datetime                                  #Q10\n",
    "import tracemalloc \n",
    "\n",
    "import scipy.stats as stats\n",
    "\n",
    "from glob import glob                             #Q1\n",
    "\n",
    "from sklearn.feature_selection import SelectKBest #Q2\n",
    "from sklearn.feature_selection import chi2\n",
    "\n",
    "from scipy.stats import norm                      #Q3\n",
    "from sklearn.preprocessing import MinMaxScaler\n",
    "\n",
    "from sklearn.decomposition import PCA             #Q3c\n",
    "from sklearn.preprocessing import StandardScaler\n",
    "\n",
    "from scipy.stats import multivariate_normal       #Q5\n",
    "\n",
    "from sklearn.metrics import f1_score              #Q6\n",
    "from sklearn.metrics import recall_score\n",
    "from sklearn.metrics import precision_score\n",
    "\n",
    "from sklearn.model_selection import train_test_split # Q8\n",
    "from sklearn.preprocessing import StandardScaler \n",
    "from sklearn.neighbors import KNeighborsClassifier\n",
    "from sklearn.linear_model import LogisticRegression\n",
    "from sklearn.metrics import confusion_matrix \n",
    "\n",
    "from sklearn.cluster import KMeans #Q9\n",
    "\n",
    "%matplotlib inline"
   ]
  },
  {
   "cell_type": "markdown",
   "metadata": {},
   "source": [
    "# Data Preparation"
   ]
  },
  {
   "cell_type": "markdown",
   "metadata": {},
   "source": [
    "###  Question 1 -  Filter all \"Normal Experiments\" by taking into account only active examples \"SDS Armed = 1\", and then, merge them in a new file named as \"merged_exp_normal.csv\".\n",
    "Our first step is to read all the csv files available in the 'Normal_Experiments' folder and after that we will merge all the csv files into one consolidated file.\n",
    "\n",
    "With help of the Pandas DataFrame head() function, we will quickly test if the merged file has the right type of data in it by looking at the first few rows."
   ]
  },
  {
   "cell_type": "code",
   "execution_count": 2,
   "metadata": {},
   "outputs": [
    {
     "data": {
      "text/html": [
       "<div>\n",
       "<style scoped>\n",
       "    .dataframe tbody tr th:only-of-type {\n",
       "        vertical-align: middle;\n",
       "    }\n",
       "\n",
       "    .dataframe tbody tr th {\n",
       "        vertical-align: top;\n",
       "    }\n",
       "\n",
       "    .dataframe thead th {\n",
       "        text-align: right;\n",
       "    }\n",
       "</style>\n",
       "<table border=\"1\" class=\"dataframe\">\n",
       "  <thead>\n",
       "    <tr style=\"text-align: right;\">\n",
       "      <th></th>\n",
       "      <th>X1</th>\n",
       "      <th>X2</th>\n",
       "      <th>X3</th>\n",
       "      <th>X4</th>\n",
       "      <th>X5</th>\n",
       "      <th>X6</th>\n",
       "      <th>X7</th>\n",
       "      <th>X8</th>\n",
       "      <th>Sds_Armed</th>\n",
       "      <th>Anomaly_Tag</th>\n",
       "    </tr>\n",
       "  </thead>\n",
       "  <tbody>\n",
       "    <tr>\n",
       "      <th>0</th>\n",
       "      <td>0.006286</td>\n",
       "      <td>0.011072</td>\n",
       "      <td>0.088714</td>\n",
       "      <td>0.036855</td>\n",
       "      <td>0.12677</td>\n",
       "      <td>0.22329</td>\n",
       "      <td>1.7891</td>\n",
       "      <td>0.74325</td>\n",
       "      <td>0</td>\n",
       "      <td>0</td>\n",
       "    </tr>\n",
       "    <tr>\n",
       "      <th>1</th>\n",
       "      <td>0.008937</td>\n",
       "      <td>0.015274</td>\n",
       "      <td>0.119970</td>\n",
       "      <td>0.051323</td>\n",
       "      <td>0.18024</td>\n",
       "      <td>0.30803</td>\n",
       "      <td>2.4193</td>\n",
       "      <td>1.03500</td>\n",
       "      <td>0</td>\n",
       "      <td>0</td>\n",
       "    </tr>\n",
       "    <tr>\n",
       "      <th>2</th>\n",
       "      <td>0.012156</td>\n",
       "      <td>0.019694</td>\n",
       "      <td>0.150640</td>\n",
       "      <td>0.064529</td>\n",
       "      <td>0.24514</td>\n",
       "      <td>0.39717</td>\n",
       "      <td>3.0379</td>\n",
       "      <td>1.30130</td>\n",
       "      <td>0</td>\n",
       "      <td>0</td>\n",
       "    </tr>\n",
       "    <tr>\n",
       "      <th>3</th>\n",
       "      <td>0.015202</td>\n",
       "      <td>0.024273</td>\n",
       "      <td>0.179940</td>\n",
       "      <td>0.075763</td>\n",
       "      <td>0.30658</td>\n",
       "      <td>0.48950</td>\n",
       "      <td>3.6288</td>\n",
       "      <td>1.52790</td>\n",
       "      <td>0</td>\n",
       "      <td>0</td>\n",
       "    </tr>\n",
       "    <tr>\n",
       "      <th>4</th>\n",
       "      <td>0.017572</td>\n",
       "      <td>0.028237</td>\n",
       "      <td>0.208750</td>\n",
       "      <td>0.087763</td>\n",
       "      <td>0.30470</td>\n",
       "      <td>0.48138</td>\n",
       "      <td>3.6888</td>\n",
       "      <td>1.55960</td>\n",
       "      <td>0</td>\n",
       "      <td>0</td>\n",
       "    </tr>\n",
       "  </tbody>\n",
       "</table>\n",
       "</div>"
      ],
      "text/plain": [
       "         X1        X2        X3        X4       X5       X6      X7       X8  \\\n",
       "0  0.006286  0.011072  0.088714  0.036855  0.12677  0.22329  1.7891  0.74325   \n",
       "1  0.008937  0.015274  0.119970  0.051323  0.18024  0.30803  2.4193  1.03500   \n",
       "2  0.012156  0.019694  0.150640  0.064529  0.24514  0.39717  3.0379  1.30130   \n",
       "3  0.015202  0.024273  0.179940  0.075763  0.30658  0.48950  3.6288  1.52790   \n",
       "4  0.017572  0.028237  0.208750  0.087763  0.30470  0.48138  3.6888  1.55960   \n",
       "\n",
       "   Sds_Armed  Anomaly_Tag  \n",
       "0          0            0  \n",
       "1          0            0  \n",
       "2          0            0  \n",
       "3          0            0  \n",
       "4          0            0  "
      ]
     },
     "execution_count": 2,
     "metadata": {},
     "output_type": "execute_result"
    }
   ],
   "source": [
    "path = r'C:\\Users\\dpsin\\GitHub\\ECE9039_Assignment1\\Normal_Experiments' #specifying path\n",
    "all_files = glob(path + \"/*.csv\")                                      #use glob function to create wildcard for all file names\n",
    "li = []                                                                #empty list to store file \n",
    "for filename in all_files:                                             #read all files using iteration\n",
    "    df = pd.read_csv(filename, index_col=None, header=0)\n",
    "    li.append(df)                                                      \n",
    "frame = pd.concat(li, axis=0, ignore_index=True)                       #merge files into one\n",
    "frame.head()"
   ]
  },
  {
   "cell_type": "markdown",
   "metadata": {},
   "source": [
    "We can see from the above result that we have the required data in the merged file however, we have to exclude the rows with the column Sds_Armed having value = 0 so that we have only active examples in our file."
   ]
  },
  {
   "cell_type": "markdown",
   "metadata": {},
   "source": [
    "After dropping rows with Sds_Armed = 0, we will verify that we have only those rows in our merged file for 'Normal_Experiments' which have column Sds_Armed = 1. After verifying, we will export and save the merged file with name 'merged_exp_normal.csv' in our local directory."
   ]
  },
  {
   "cell_type": "code",
   "execution_count": 3,
   "metadata": {},
   "outputs": [
    {
     "data": {
      "text/html": [
       "<div>\n",
       "<style scoped>\n",
       "    .dataframe tbody tr th:only-of-type {\n",
       "        vertical-align: middle;\n",
       "    }\n",
       "\n",
       "    .dataframe tbody tr th {\n",
       "        vertical-align: top;\n",
       "    }\n",
       "\n",
       "    .dataframe thead th {\n",
       "        text-align: right;\n",
       "    }\n",
       "</style>\n",
       "<table border=\"1\" class=\"dataframe\">\n",
       "  <thead>\n",
       "    <tr style=\"text-align: right;\">\n",
       "      <th></th>\n",
       "      <th>X1</th>\n",
       "      <th>X2</th>\n",
       "      <th>X3</th>\n",
       "      <th>X4</th>\n",
       "      <th>X5</th>\n",
       "      <th>X6</th>\n",
       "      <th>X7</th>\n",
       "      <th>X8</th>\n",
       "      <th>Sds_Armed</th>\n",
       "      <th>Anomaly_Tag</th>\n",
       "    </tr>\n",
       "  </thead>\n",
       "  <tbody>\n",
       "    <tr>\n",
       "      <th>622</th>\n",
       "      <td>0.42051</td>\n",
       "      <td>0.73265</td>\n",
       "      <td>6.0160</td>\n",
       "      <td>1.4258</td>\n",
       "      <td>0.22390</td>\n",
       "      <td>0.44638</td>\n",
       "      <td>4.9892</td>\n",
       "      <td>1.3106</td>\n",
       "      <td>1</td>\n",
       "      <td>0</td>\n",
       "    </tr>\n",
       "    <tr>\n",
       "      <th>623</th>\n",
       "      <td>0.41743</td>\n",
       "      <td>0.72691</td>\n",
       "      <td>6.0102</td>\n",
       "      <td>1.4259</td>\n",
       "      <td>0.21750</td>\n",
       "      <td>0.44326</td>\n",
       "      <td>5.0469</td>\n",
       "      <td>1.3243</td>\n",
       "      <td>1</td>\n",
       "      <td>0</td>\n",
       "    </tr>\n",
       "    <tr>\n",
       "      <th>624</th>\n",
       "      <td>0.41608</td>\n",
       "      <td>0.72337</td>\n",
       "      <td>6.0093</td>\n",
       "      <td>1.4254</td>\n",
       "      <td>0.21875</td>\n",
       "      <td>0.44661</td>\n",
       "      <td>5.0830</td>\n",
       "      <td>1.3227</td>\n",
       "      <td>1</td>\n",
       "      <td>0</td>\n",
       "    </tr>\n",
       "    <tr>\n",
       "      <th>625</th>\n",
       "      <td>0.41517</td>\n",
       "      <td>0.72154</td>\n",
       "      <td>6.0002</td>\n",
       "      <td>1.4261</td>\n",
       "      <td>0.23488</td>\n",
       "      <td>0.46345</td>\n",
       "      <td>4.9672</td>\n",
       "      <td>1.3509</td>\n",
       "      <td>1</td>\n",
       "      <td>0</td>\n",
       "    </tr>\n",
       "    <tr>\n",
       "      <th>626</th>\n",
       "      <td>0.41376</td>\n",
       "      <td>0.71773</td>\n",
       "      <td>5.9814</td>\n",
       "      <td>1.4257</td>\n",
       "      <td>0.25363</td>\n",
       "      <td>0.48208</td>\n",
       "      <td>4.8346</td>\n",
       "      <td>1.3580</td>\n",
       "      <td>1</td>\n",
       "      <td>0</td>\n",
       "    </tr>\n",
       "  </tbody>\n",
       "</table>\n",
       "</div>"
      ],
      "text/plain": [
       "          X1       X2      X3      X4       X5       X6      X7      X8  \\\n",
       "622  0.42051  0.73265  6.0160  1.4258  0.22390  0.44638  4.9892  1.3106   \n",
       "623  0.41743  0.72691  6.0102  1.4259  0.21750  0.44326  5.0469  1.3243   \n",
       "624  0.41608  0.72337  6.0093  1.4254  0.21875  0.44661  5.0830  1.3227   \n",
       "625  0.41517  0.72154  6.0002  1.4261  0.23488  0.46345  4.9672  1.3509   \n",
       "626  0.41376  0.71773  5.9814  1.4257  0.25363  0.48208  4.8346  1.3580   \n",
       "\n",
       "     Sds_Armed  Anomaly_Tag  \n",
       "622          1            0  \n",
       "623          1            0  \n",
       "624          1            0  \n",
       "625          1            0  \n",
       "626          1            0  "
      ]
     },
     "execution_count": 3,
     "metadata": {},
     "output_type": "execute_result"
    }
   ],
   "source": [
    "index = frame[frame['Sds_Armed'] == 0].index                                #find rows with SDs_Armed=0\n",
    "frame.drop(index, inplace = True)                                           #drop rows with SDs_Armed=0\n",
    "# Export merged file to local directory with name 'merged_exp_normal.csv'\n",
    "frame.to_csv(r'C:\\Users\\dpsin\\GitHub\\ECE9039_Assignment1\\merged_exp_normal.csv') #export file\n",
    "\n",
    "#verify Sds_armed=1\n",
    "frame.head()                                                                     #verify remaining data for SDs_Armed=1"
   ]
  },
  {
   "cell_type": "markdown",
   "metadata": {},
   "source": [
    "### Question 2 - Filter all \"Experiments with Anomalies\" by taking into account only active examples \"SDS Armed = 1\"  and then, merge them in a new file named as \"merged_exp_contains_anomalies.csv\"."
   ]
  },
  {
   "cell_type": "markdown",
   "metadata": {},
   "source": [
    "Similar to steps for question 1, we will read all the files from folder 'Experiments_with_Anomalies' and merge them into single file. After that we will figure out the rows with Sds_Armed = 0 and drop those rows from the merged file. After verifying the file, we will export the merged file to our local directory with name 'merged exp contains anomalies.csv'."
   ]
  },
  {
   "cell_type": "code",
   "execution_count": 4,
   "metadata": {},
   "outputs": [],
   "source": [
    "# Read all 'Experiments_with_Anomalies' files\n",
    "path = r'C:\\Users\\dpsin\\GitHub\\ECE9039_Assignment1\\Experiments_with_Anomalies' #specifying path\n",
    "all_files = glob(path + \"/*.csv\")                                              #use glob function to create wildcard for all file names\n",
    "li = []                                                                        #empty list to store file \n",
    "\n",
    "# Merge all 'Experiments_with_Anomalies' files into one merged file\n",
    "for filename in all_files:                                                     #read all files using iteration\n",
    "    df = pd.read_csv(filename, index_col=None, header=0)\n",
    "    li.append(df)                                                      \n",
    "frame = pd.concat(li, axis=0, ignore_index=True)                               #merge files into one\n",
    "index = frame[frame['Sds_Armed'] == 0].index                                   #find rows with SDs_Armed=0\n",
    "frame.drop(index, inplace = True)                                              #drop rows with SDs_Armed=0\n",
    "frame.to_csv(r'C:\\Users\\dpsin\\GitHub\\ECE9039_Assignment1\\merged_exp_contains_anomalies.csv') #export file"
   ]
  },
  {
   "cell_type": "code",
   "execution_count": 5,
   "metadata": {},
   "outputs": [
    {
     "data": {
      "text/html": [
       "<div>\n",
       "<style scoped>\n",
       "    .dataframe tbody tr th:only-of-type {\n",
       "        vertical-align: middle;\n",
       "    }\n",
       "\n",
       "    .dataframe tbody tr th {\n",
       "        vertical-align: top;\n",
       "    }\n",
       "\n",
       "    .dataframe thead th {\n",
       "        text-align: right;\n",
       "    }\n",
       "</style>\n",
       "<table border=\"1\" class=\"dataframe\">\n",
       "  <thead>\n",
       "    <tr style=\"text-align: right;\">\n",
       "      <th></th>\n",
       "      <th>X1</th>\n",
       "      <th>X2</th>\n",
       "      <th>X3</th>\n",
       "      <th>X4</th>\n",
       "      <th>X5</th>\n",
       "      <th>X6</th>\n",
       "      <th>X7</th>\n",
       "      <th>X8</th>\n",
       "      <th>Sds_Armed</th>\n",
       "      <th>Anomaly_Tag</th>\n",
       "    </tr>\n",
       "  </thead>\n",
       "  <tbody>\n",
       "    <tr>\n",
       "      <th>745</th>\n",
       "      <td>1.7957</td>\n",
       "      <td>6.1964</td>\n",
       "      <td>508.57</td>\n",
       "      <td>875.40</td>\n",
       "      <td>0.43922</td>\n",
       "      <td>1.5473</td>\n",
       "      <td>57.021</td>\n",
       "      <td>56.914</td>\n",
       "      <td>1</td>\n",
       "      <td>0</td>\n",
       "    </tr>\n",
       "    <tr>\n",
       "      <th>746</th>\n",
       "      <td>1.7851</td>\n",
       "      <td>6.1508</td>\n",
       "      <td>503.90</td>\n",
       "      <td>867.18</td>\n",
       "      <td>0.43947</td>\n",
       "      <td>1.3525</td>\n",
       "      <td>53.658</td>\n",
       "      <td>58.856</td>\n",
       "      <td>1</td>\n",
       "      <td>0</td>\n",
       "    </tr>\n",
       "    <tr>\n",
       "      <th>747</th>\n",
       "      <td>1.7760</td>\n",
       "      <td>6.1173</td>\n",
       "      <td>499.62</td>\n",
       "      <td>860.56</td>\n",
       "      <td>0.42528</td>\n",
       "      <td>1.3391</td>\n",
       "      <td>52.551</td>\n",
       "      <td>69.101</td>\n",
       "      <td>1</td>\n",
       "      <td>0</td>\n",
       "    </tr>\n",
       "    <tr>\n",
       "      <th>748</th>\n",
       "      <td>1.7641</td>\n",
       "      <td>6.0799</td>\n",
       "      <td>494.07</td>\n",
       "      <td>851.51</td>\n",
       "      <td>0.42802</td>\n",
       "      <td>1.3679</td>\n",
       "      <td>51.228</td>\n",
       "      <td>75.935</td>\n",
       "      <td>1</td>\n",
       "      <td>0</td>\n",
       "    </tr>\n",
       "    <tr>\n",
       "      <th>749</th>\n",
       "      <td>1.7525</td>\n",
       "      <td>6.0333</td>\n",
       "      <td>486.73</td>\n",
       "      <td>840.86</td>\n",
       "      <td>0.40701</td>\n",
       "      <td>1.3128</td>\n",
       "      <td>47.228</td>\n",
       "      <td>72.784</td>\n",
       "      <td>1</td>\n",
       "      <td>0</td>\n",
       "    </tr>\n",
       "  </tbody>\n",
       "</table>\n",
       "</div>"
      ],
      "text/plain": [
       "         X1      X2      X3      X4       X5      X6      X7      X8  \\\n",
       "745  1.7957  6.1964  508.57  875.40  0.43922  1.5473  57.021  56.914   \n",
       "746  1.7851  6.1508  503.90  867.18  0.43947  1.3525  53.658  58.856   \n",
       "747  1.7760  6.1173  499.62  860.56  0.42528  1.3391  52.551  69.101   \n",
       "748  1.7641  6.0799  494.07  851.51  0.42802  1.3679  51.228  75.935   \n",
       "749  1.7525  6.0333  486.73  840.86  0.40701  1.3128  47.228  72.784   \n",
       "\n",
       "     Sds_Armed  Anomaly_Tag  \n",
       "745          1            0  \n",
       "746          1            0  \n",
       "747          1            0  \n",
       "748          1            0  \n",
       "749          1            0  "
      ]
     },
     "execution_count": 5,
     "metadata": {},
     "output_type": "execute_result"
    }
   ],
   "source": [
    "#verify Sds_armed=1\n",
    "frame.head()"
   ]
  },
  {
   "cell_type": "markdown",
   "metadata": {},
   "source": [
    "###### Preparing dataset"
   ]
  },
  {
   "cell_type": "code",
   "execution_count": 6,
   "metadata": {},
   "outputs": [],
   "source": [
    "#Anomalous Dataset\n",
    "dfa = pd.read_csv(\"merged_exp_contains_anomalies.csv\")\n",
    "dfa = dfa.drop(dfa.columns[[0,9]], axis = 1)\n",
    "\n",
    "#Normal Dataset\n",
    "dfn = pd.read_csv(\"merged_exp_normal.csv\")\n",
    "dfn = dfn.drop(dfn.columns[[0,9]], axis = 1)"
   ]
  },
  {
   "cell_type": "code",
   "execution_count": 7,
   "metadata": {
    "scrolled": true
   },
   "outputs": [
    {
     "data": {
      "image/png": "[encoded data removed]",
      "text/plain": [
       "<Figure size 1440x360 with 10 Axes>"
      ]
     },
     "metadata": {
      "needs_background": "light"
     },
     "output_type": "display_data"
    }
   ],
   "source": [
    "#viewing anomalous dataset shapes\n",
    "f, axes = plt.subplots(1, 10,figsize=(20,5))\n",
    "for i in range(0,10):\n",
    "    sns.distplot(dfa.iloc[i],ax=axes[i])\n",
    "    f.tight_layout(pad=1)\n",
    "plt.show()"
   ]
  },
  {
   "cell_type": "code",
   "execution_count": 8,
   "metadata": {
    "scrolled": true
   },
   "outputs": [
    {
     "data": {
      "image/png": "[encoded data removed]",
      "text/plain": [
       "<Figure size 1440x360 with 10 Axes>"
      ]
     },
     "metadata": {
      "needs_background": "light"
     },
     "output_type": "display_data"
    }
   ],
   "source": [
    "#viewing normal dataset shapes\n",
    "f, axes = plt.subplots(1, 10,figsize=(20,5))\n",
    "for i in range(0,10):\n",
    "    sns.distplot(dfn.iloc[i],ax=axes[i])\n",
    "    f.tight_layout(pad=1)\n",
    "plt.show()"
   ]
  },
  {
   "cell_type": "code",
   "execution_count": 9,
   "metadata": {},
   "outputs": [],
   "source": [
    "#Seperating features and targets\n",
    "X_a = dfa.iloc[:,0:8]                #Features columns for anomalous\n",
    "Y_a = pd.DataFrame(dfa.iloc[:,-1])   #target column for anomalous\n",
    "\n",
    "X_n = dfn.iloc[:,0:8]                #Features columns for normal\n",
    "Y_n = pd.DataFrame(dfn.iloc[:,-1])   #target column for normal"
   ]
  },
  {
   "cell_type": "markdown",
   "metadata": {},
   "source": [
    "# Building A Statistical-Based Anomaly Detection Algorithm"
   ]
  },
  {
   "cell_type": "markdown",
   "metadata": {},
   "source": [
    "### Question 3 - Since the merged exp contains anomalies.csv contains anomalies, apply any significance test to rank the significance of each feature (X1, X2, ..., X8) as being a distinctive feature of anomalies."
   ]
  },
  {
   "cell_type": "markdown",
   "metadata": {},
   "source": [
    "We will be using SelectKBest to rank the features and will combine rank and feature names to print the list of features' ranks using SelectKBest."
   ]
  },
  {
   "cell_type": "code",
   "execution_count": 10,
   "metadata": {},
   "outputs": [
    {
     "name": "stdout",
     "output_type": "stream",
     "text": [
      "  Specs         Score\n",
      "3    X4  27179.742048\n",
      "2    X3  20765.545612\n",
      "7    X8  19890.345351\n",
      "5    X6   3277.365923\n",
      "4    X5   1023.073345\n",
      "1    X2    583.152894\n",
      "0    X1    568.161416\n",
      "6    X7    287.134248\n"
     ]
    }
   ],
   "source": [
    "#features ranking using selectkbest\n",
    "bestfeatures = SelectKBest(score_func=chi2, k='all')\n",
    "fit = bestfeatures.fit(X_a,Y_a)\n",
    "\n",
    "dfscores = pd.DataFrame(fit.scores_) #generate feature score\n",
    "dfcolumns = pd.DataFrame(X_a.columns)  #extract feature name\n",
    "\n",
    "#combine rank and feature name\n",
    "featureScores = pd.concat([dfcolumns,dfscores],axis=1)\n",
    "featureScores.columns = ['Specs','Score']  #Headings\n",
    "\n",
    "print(featureScores.nlargest(8,'Score'))  #print score"
   ]
  },
  {
   "cell_type": "markdown",
   "metadata": {},
   "source": [
    "### Question 4 - Model the normal process “merged exp normal.csv” using Gaussian distribution. Assume that the features are independent."
   ]
  },
  {
   "cell_type": "markdown",
   "metadata": {},
   "source": [
    "We will generate mean and standard deviation and use these values to generate the pdf functions."
   ]
  },
  {
   "cell_type": "code",
   "execution_count": 11,
   "metadata": {},
   "outputs": [],
   "source": [
    "# Generating Mean and Standard Deviation\n",
    "def para(x):\n",
    "    mu=np.mean(x)\n",
    "    sigma=np.std(x)\n",
    "    var=np.var(x)\n",
    "    print(\"mu:\",mu,\"\\n\",\"sigma:\",sigma, \"\\n\",\"var:\",var)\n",
    "    return mu,sigma,var"
   ]
  },
  {
   "cell_type": "code",
   "execution_count": 12,
   "metadata": {},
   "outputs": [],
   "source": [
    "#Function to generate PDF functions\n",
    "def gaus(mu, sigma, range):\n",
    "    start = (mu - 3*sigma)\n",
    "    stop = (mu + 3*sigma)\n",
    "    x = np.linspace(start,stop, range)    \n",
    "    pdf = norm.pdf(x,mu,sigma)\n",
    "    return pdf,x"
   ]
  },
  {
   "cell_type": "markdown",
   "metadata": {},
   "source": [
    "### a. Consider all features (X1 to X8)"
   ]
  },
  {
   "cell_type": "code",
   "execution_count": 13,
   "metadata": {
    "scrolled": true
   },
   "outputs": [
    {
     "name": "stdout",
     "output_type": "stream",
     "text": [
      "mu: 2.8788086219487576 \n",
      " sigma: 8.848727756020653 \n",
      " var: 78.29998290017028\n"
     ]
    }
   ],
   "source": [
    "# Mean and standard deviation for Normal Dataset\n",
    "mu_n,sigma_n,var_n=para(X_n.to_numpy())"
   ]
  },
  {
   "cell_type": "code",
   "execution_count": 14,
   "metadata": {},
   "outputs": [],
   "source": [
    "#Generating PDF function\n",
    "pdf_n,x=gaus(mu_n,sigma_n, len(X_n))"
   ]
  },
  {
   "cell_type": "code",
   "execution_count": 15,
   "metadata": {},
   "outputs": [
    {
     "name": "stdout",
     "output_type": "stream",
     "text": [
      "pdfmin:  0.000500845831642022 ,pdfmax:  0.045084704979498604\n"
     ]
    }
   ],
   "source": [
    "print('pdfmin: ',pdf_n.min(), \",pdfmax: \",pdf_n.max())"
   ]
  },
  {
   "cell_type": "markdown",
   "metadata": {},
   "source": [
    "### b. Mark the most important two features\n",
    "Feature X3 and X4 are most important feature as per score obtained in question 3\n",
    "\n",
    "#### X4  27179.742048\n",
    "#### X3  20765.545612"
   ]
  },
  {
   "cell_type": "code",
   "execution_count": 16,
   "metadata": {},
   "outputs": [],
   "source": [
    "#for individual features\n",
    "def gaus_8(mu, sigma, r1, r2):\n",
    "    f, axes = plt.subplots(1, figsize=(10,5))\n",
    "    for i in range(r1, r2):\n",
    "        start = (mu[i] - 3*sigma[i])\n",
    "        stop = (mu[i] + 3*sigma[i])\n",
    "        x = np.linspace(start,stop)    \n",
    "        pdf = norm.pdf(x,mu[i],sigma[i])\n",
    "        axes = plt.gca()                 #get current axis\n",
    "        axes.set_xlim([-0.25,0.25])\n",
    "        plt.plot(x, pdf, label=('X',i+1))\n",
    "        plt.title(\"Probability Distribution\")\n",
    "        plt.legend()\n",
    "    plt.show()\n",
    "    return pdf"
   ]
  },
  {
   "cell_type": "code",
   "execution_count": 17,
   "metadata": {},
   "outputs": [],
   "source": [
    "#Scaling dataset from 0 to 1 range for better view of individual component\n",
    "scaledXn = pd.DataFrame(MinMaxScaler().fit_transform(X_n),columns=X_n.columns)"
   ]
  },
  {
   "cell_type": "code",
   "execution_count": 18,
   "metadata": {},
   "outputs": [
    {
     "name": "stdout",
     "output_type": "stream",
     "text": [
      "mu: X1    0.029275\n",
      "X2    0.029062\n",
      "X3    0.019698\n",
      "X4    0.024321\n",
      "X5    0.005750\n",
      "X6    0.005258\n",
      "X7    0.008949\n",
      "X8    0.012658\n",
      "dtype: float64 \n",
      " sigma: X1    0.031335\n",
      "X2    0.036432\n",
      "X3    0.040718\n",
      "X4    0.040554\n",
      "X5    0.014747\n",
      "X6    0.016393\n",
      "X7    0.025223\n",
      "X8    0.025900\n",
      "dtype: float64 \n",
      " var: X1    0.000982\n",
      "X2    0.001327\n",
      "X3    0.001658\n",
      "X4    0.001645\n",
      "X5    0.000217\n",
      "X6    0.000269\n",
      "X7    0.000636\n",
      "X8    0.000671\n",
      "dtype: float64\n"
     ]
    }
   ],
   "source": [
    "#Based on individual features\n",
    "mu_2n,sigma_2n,var_2n=para(scaledXn)"
   ]
  },
  {
   "cell_type": "code",
   "execution_count": 19,
   "metadata": {},
   "outputs": [
    {
     "data": {
      "image/png": "[encoded data removed]",
      "text/plain": [
       "<Figure size 720x360 with 1 Axes>"
      ]
     },
     "metadata": {
      "needs_background": "light"
     },
     "output_type": "display_data"
    }
   ],
   "source": [
    "#Generating PDF functions based for all invidual features\n",
    "pdf2n=gaus_8(mu_2n,sigma_2n,0,len(mu_2n))"
   ]
  },
  {
   "cell_type": "code",
   "execution_count": 20,
   "metadata": {},
   "outputs": [
    {
     "name": "stdout",
     "output_type": "stream",
     "text": [
      "mu: 5.190242619096064 \n",
      " sigma: 10.451719160375186 \n",
      " var: 109.23843340735377\n",
      "pdfmin:  0.0004240305679796813 ,pdfmax:  0.03817001530586199\n"
     ]
    },
    {
     "data": {
      "image/png": "[encoded data removed]",
      "text/plain": [
       "<Figure size 432x288 with 1 Axes>"
      ]
     },
     "metadata": {
      "needs_background": "light"
     },
     "output_type": "display_data"
    }
   ],
   "source": [
    "#Generating PDF functions based on only important features X1 and X5\n",
    "X34=X_n.drop(['X1','X2','X5','X6','X7','X8'], axis = 1)\n",
    "mu34,sigma34,var34=para(X34.to_numpy())\n",
    "pdf34,x=gaus(mu34,sigma34,len(X34))\n",
    "plt.plot(x,pdf34)\n",
    "print('pdfmin: ',pdf34.min(), \",pdfmax: \",pdf34.max())"
   ]
  },
  {
   "cell_type": "markdown",
   "metadata": {},
   "source": [
    "### c. Projection of feature space into first two components using PCA"
   ]
  },
  {
   "cell_type": "code",
   "execution_count": 21,
   "metadata": {},
   "outputs": [],
   "source": [
    "#scaling dataset\n",
    "scaledset = StandardScaler().fit_transform(dfn) "
   ]
  },
  {
   "cell_type": "code",
   "execution_count": 22,
   "metadata": {},
   "outputs": [
    {
     "data": {
      "text/plain": [
       "(152356, 2)"
      ]
     },
     "execution_count": 22,
     "metadata": {},
     "output_type": "execute_result"
    }
   ],
   "source": [
    "# fitting and transforming to principal components\n",
    "pca = PCA(n_components=2)\n",
    "prcomps = pca.fit_transform(scaledset)\n",
    "\n",
    "#verifying the shape\n",
    "prcomps.shape"
   ]
  },
  {
   "cell_type": "code",
   "execution_count": 23,
   "metadata": {},
   "outputs": [
    {
     "data": {
      "text/plain": [
       "Text(0, 0.5, 'Principal Component 2')"
      ]
     },
     "execution_count": 23,
     "metadata": {},
     "output_type": "execute_result"
    },
    {
     "data": {
      "image/png": "[encoded data removed]",
      "text/plain": [
       "<Figure size 576x576 with 1 Axes>"
      ]
     },
     "metadata": {
      "needs_background": "light"
     },
     "output_type": "display_data"
    }
   ],
   "source": [
    "#projecting the feature space\n",
    "plt.figure(figsize = (8,8))\n",
    "plt.scatter(prcomps[:,0],prcomps[:,1])\n",
    "plt.xlabel('Principal component 1')\n",
    "plt.ylabel('Principal Component 2')"
   ]
  },
  {
   "cell_type": "markdown",
   "metadata": {},
   "source": [
    "## Question 5 - Model the same normal process “merged exp normal.csv” using Gaussian distribution with all requirements in Question 4. However, assume that the features are dependent."
   ]
  },
  {
   "cell_type": "markdown",
   "metadata": {},
   "source": [
    "We will use co variance matrix to generate pdf functions for this case."
   ]
  },
  {
   "cell_type": "code",
   "execution_count": 24,
   "metadata": {},
   "outputs": [
    {
     "name": "stdout",
     "output_type": "stream",
     "text": [
      "Covariance \n",
      "           X1        X2          X3         X4        X5         X6  \\\n",
      "X1  0.237127  0.469539    3.827697   1.283360  0.141805   0.280584   \n",
      "X2  0.469539  0.979348    9.231350   2.875613  0.274458   0.581017   \n",
      "X3  3.827697  9.231350  193.224368  42.086533  1.956296   5.183251   \n",
      "X4  1.283360  2.875613   42.086533  12.015223  0.671428   1.567032   \n",
      "X5  0.141805  0.274458    1.956296   0.671428  0.608147   1.190327   \n",
      "X6  0.280584  0.581017    5.183251   1.567032  1.190327   2.467874   \n",
      "X7  2.034031  5.073584  112.064358  22.959798  8.644799  19.680881   \n",
      "X8  0.717838  1.619127   24.372733   6.651358  2.807354   6.138411   \n",
      "\n",
      "            X7         X8  \n",
      "X1    2.034031   0.717838  \n",
      "X2    5.073584   1.619127  \n",
      "X3  112.064358  24.372733  \n",
      "X4   22.959798   6.651358  \n",
      "X5    8.644799   2.807354  \n",
      "X6   19.680881   6.138411  \n",
      "X7  330.801704  75.317589  \n",
      "X8   75.317589  22.105169  \n"
     ]
    }
   ],
   "source": [
    "#getting covariance matrix\n",
    "covariance=X_n.cov()\n",
    "print(\"Covariance \\n\",covariance)"
   ]
  },
  {
   "cell_type": "code",
   "execution_count": 25,
   "metadata": {},
   "outputs": [
    {
     "name": "stdout",
     "output_type": "stream",
     "text": [
      "pdfmin:  0.0 ,pdfmax:  0.00012910823472035598\n"
     ]
    }
   ],
   "source": [
    "#generating PDF function\n",
    "pdfmv=multivariate_normal.pdf(X_n,mu_2n,covariance)\n",
    "print('pdfmin: ',pdfmv.min(), \",pdfmax: \",pdfmv.max())"
   ]
  },
  {
   "cell_type": "code",
   "execution_count": 26,
   "metadata": {},
   "outputs": [
    {
     "data": {
      "text/plain": [
       "(152356,)"
      ]
     },
     "execution_count": 26,
     "metadata": {},
     "output_type": "execute_result"
    }
   ],
   "source": [
    "pdfmv.shape"
   ]
  },
  {
   "cell_type": "markdown",
   "metadata": {},
   "source": [
    "## Question 6 - Develop an anomaly alarm by adjusting a threshold epsilon to your Gaussian models obtained in Questions 3 and 4, and accordingly, generate an alarm accordingly."
   ]
  },
  {
   "cell_type": "markdown",
   "metadata": {},
   "source": [
    "We will first split the anomaly dataset into test and train using train_test_split and then generate mean and standard deviation for the training set. Then threshold value will be calculated to use it to design the alarm."
   ]
  },
  {
   "cell_type": "code",
   "execution_count": 27,
   "metadata": {
    "scrolled": true
   },
   "outputs": [],
   "source": [
    "#splitting dataset\n",
    "dfa=pd.read_csv('merged_exp_contains_anomalies.csv')\n",
    "features=dfa[['X1','X2','X3','X4','X5','X6','X7','X8']]\n",
    "labels  =dfa['Anomaly_Tag']\n",
    "\n",
    "x_train,x_test,y_train,y_test=train_test_split(features,labels,test_size=0.2, random_state=42)\n",
    "y_train=pd.DataFrame(y_train)\n",
    "y_test=pd.DataFrame(y_test)"
   ]
  },
  {
   "cell_type": "code",
   "execution_count": 28,
   "metadata": {},
   "outputs": [
    {
     "name": "stdout",
     "output_type": "stream",
     "text": [
      "mu: 8.695264787260276 \n",
      " sigma: 40.45086069135203 \n",
      " var: 1636.2721306711687\n",
      "pdfmin:  0.00010956128834325374 ,pdfmax:  0.009862392844934535\n"
     ]
    }
   ],
   "source": [
    "#Mean and standard deviation for x_train\n",
    "mu_tr,sigma_tr,var_tr=para(x_train.to_numpy())\n",
    "\n",
    "#PDF for x_train\n",
    "pdf_tr,x = gaus(mu_tr,sigma_tr,len(x_train))\n",
    "print('pdfmin: ',pdf_tr.min(), \",pdfmax: \",pdf_tr.max())"
   ]
  },
  {
   "cell_type": "code",
   "execution_count": 29,
   "metadata": {},
   "outputs": [
    {
     "data": {
      "text/plain": [
       "(36500,)"
      ]
     },
     "execution_count": 29,
     "metadata": {},
     "output_type": "execute_result"
    }
   ],
   "source": [
    "pdf_tr.shape"
   ]
  },
  {
   "cell_type": "markdown",
   "metadata": {},
   "source": [
    "### Finding threshold value"
   ]
  },
  {
   "cell_type": "code",
   "execution_count": 30,
   "metadata": {},
   "outputs": [
    {
     "name": "stdout",
     "output_type": "stream",
     "text": [
      "stepsize 9.900000000000001e-05\n"
     ]
    }
   ],
   "source": [
    "epsilon,F1,f = 0,0,0\n",
    "\n",
    "step=(0.00990-0)/100\n",
    "print('stepsize',step)"
   ]
  },
  {
   "cell_type": "code",
   "execution_count": 31,
   "metadata": {},
   "outputs": [
    {
     "name": "stdout",
     "output_type": "stream",
     "text": [
      "Predictions: [ True  True  True ...  True  True  True]\n",
      "F1 Score 0.8583287671232877\n",
      "Epsilon 0.0\n",
      "Anomaly Detection Training\n",
      "Memory Usage\n",
      "C:\\ProgramData\\Anaconda3\\lib\\selectors.py:314: size=144 KiB (+144 KiB), count=3 (+3), average=48.0 KiB\n",
      "Time Complexity 0:00:02.083903\n"
     ]
    }
   ],
   "source": [
    "tracemalloc.start()\n",
    "snapshot1 = tracemalloc.take_snapshot()\n",
    "a = datetime.datetime.now()\n",
    "\n",
    "##########################################\n",
    "for ep in np.arange(0,0.00990,step):\n",
    "    prediction = (pdf_tr < ep)\n",
    "    f = f1_score(y_train, prediction, average = \"micro\")\n",
    "    if f > F1:\n",
    "        F1 = f\n",
    "        epsilon = ep\n",
    "print ('Predictions:',prediction)\n",
    "print ('F1 Score', F1)\n",
    "print ('Epsilon', epsilon)\n",
    "##########################################\n",
    "\n",
    "snapshot2 = tracemalloc.take_snapshot()\n",
    "stats = snapshot2.compare_to(snapshot1,'lineno')\n",
    "print('Anomaly Detection Training')\n",
    "print(\"Memory Usage\")\n",
    "for stat in stats[:1]:\n",
    "    print(stat)\n",
    "b = datetime.datetime.now()\n",
    "print('Time Complexity', b-a)"
   ]
  },
  {
   "cell_type": "markdown",
   "metadata": {},
   "source": [
    "### Designing Anomaly Alarm with Threshold Value/epsilon = 0.0"
   ]
  },
  {
   "cell_type": "code",
   "execution_count": 32,
   "metadata": {},
   "outputs": [],
   "source": [
    "def alarm(pdf):\n",
    "    prediction = (pdf < 0.0)\n",
    "    f = f1_score(y_test, prediction, average = \"micro\")\n",
    "    return prediction,f"
   ]
  },
  {
   "cell_type": "code",
   "execution_count": 33,
   "metadata": {},
   "outputs": [
    {
     "name": "stdout",
     "output_type": "stream",
     "text": [
      "mu: 8.528832693540435 \n",
      " sigma: 39.607568876507564 \n",
      " var: 1568.7595123072904\n",
      "mu: X1     0.633940\n",
      "X2     1.816117\n",
      "X3    26.890898\n",
      "X4    15.553618\n",
      "X5     0.610040\n",
      "X6     1.634985\n",
      "X7    17.042029\n",
      "X8     4.049035\n",
      "dtype: float64 \n",
      " sigma: X1     0.239112\n",
      "X2     2.239751\n",
      "X3    68.574969\n",
      "X4    76.605799\n",
      "X5     0.349667\n",
      "X6     2.229615\n",
      "X7    29.008652\n",
      "X8    20.754607\n",
      "dtype: float64 \n",
      " var: X1       0.057174\n",
      "X2       5.016485\n",
      "X3    4702.526421\n",
      "X4    5868.448484\n",
      "X5       0.122267\n",
      "X6       4.971182\n",
      "X7     841.501890\n",
      "X8     430.753732\n",
      "dtype: float64\n"
     ]
    }
   ],
   "source": [
    "#Parameters of Test Data (Mean, standard deviation, Covariance): x_test\n",
    "mu_test,sigma_test,var_test=para(x_test.to_numpy())\n",
    "\n",
    "cov_test=X_n.cov()\n",
    "mu_2t,sigma_2t,var_2t=para(x_test)"
   ]
  },
  {
   "cell_type": "markdown",
   "metadata": {},
   "source": [
    "#### Case 1: Independent Features(Univariate)"
   ]
  },
  {
   "cell_type": "code",
   "execution_count": 34,
   "metadata": {},
   "outputs": [
    {
     "name": "stdout",
     "output_type": "stream",
     "text": [
      "F1 Score 0.8619329388560159\n",
      "Testing Univariate\n",
      "Memory Usage\n",
      "C:\\ProgramData\\Anaconda3\\lib\\selectors.py:314: size=144 KiB (+144 KiB), count=3 (+3), average=48.0 KiB\n",
      "Time complexity 0:00:00.089699\n"
     ]
    }
   ],
   "source": [
    "tracemalloc.start()\n",
    "snapshot1 = tracemalloc.take_snapshot()\n",
    "a = datetime.datetime.now()\n",
    "\n",
    "##########################################\n",
    "#PDF for x_test\n",
    "pdf_ind_test,x = gaus(mu_test,sigma_test,len(x_test))\n",
    "pdf_ind_test = pd.DataFrame(pdf_ind_test)\n",
    "\n",
    "pred_ind_test,f = alarm(pdf_ind_test)\n",
    "\n",
    "print ('F1 Score', f)\n",
    "\n",
    "##########################################\n",
    "\n",
    "snapshot2 = tracemalloc.take_snapshot()\n",
    "stats = snapshot2.compare_to(snapshot1,'lineno')\n",
    "print('Testing Univariate')\n",
    "print(\"Memory Usage\")\n",
    "for stat in stats[:1]:\n",
    "    print(stat)\n",
    "b = datetime.datetime.now()\n",
    "print('Time complexity', b-a)"
   ]
  },
  {
   "cell_type": "code",
   "execution_count": 35,
   "metadata": {},
   "outputs": [
    {
     "name": "stdout",
     "output_type": "stream",
     "text": [
      "          0\n",
      "0     False\n",
      "1     False\n",
      "2     False\n",
      "3     False\n",
      "4     False\n",
      "...     ...\n",
      "9121  False\n",
      "9122  False\n",
      "9123  False\n",
      "9124  False\n",
      "9125  False\n",
      "\n",
      "[9126 rows x 1 columns]\n"
     ]
    }
   ],
   "source": [
    "print(pred_ind_test)"
   ]
  },
  {
   "cell_type": "markdown",
   "metadata": {},
   "source": [
    "#### Case 2: Dependent Features(Multivariate)"
   ]
  },
  {
   "cell_type": "code",
   "execution_count": 36,
   "metadata": {},
   "outputs": [
    {
     "name": "stdout",
     "output_type": "stream",
     "text": [
      "Testing Multivariate\n",
      "Memory Usage\n",
      "C:\\ProgramData\\Anaconda3\\lib\\selectors.py:314: size=144 KiB (+144 KiB), count=3 (+3), average=48.0 KiB\n",
      "Time complexity 0:00:00.080786\n"
     ]
    }
   ],
   "source": [
    "tracemalloc.start()\n",
    "snapshot1 = tracemalloc.take_snapshot()\n",
    "a = datetime.datetime.now()\n",
    "\n",
    "##########################################\n",
    "#generating PDF function\n",
    "pdf_dep_test=multivariate_normal.pdf(x_test,mu_2t,cov_test)\n",
    "pdf_dep_test = pd.DataFrame(pdf_dep_test)\n",
    "\n",
    "pred_dep_test,f = alarm(pdf_dep_test)\n",
    "##########################################\n",
    "\n",
    "snapshot2 = tracemalloc.take_snapshot()\n",
    "stats = snapshot2.compare_to(snapshot1,'lineno')\n",
    "\n",
    "print('Testing Multivariate')\n",
    "print(\"Memory Usage\")\n",
    "for stat in stats[:1]:\n",
    "    print(stat)\n",
    "b = datetime.datetime.now()\n",
    "print('Time complexity', b-a)"
   ]
  },
  {
   "cell_type": "markdown",
   "metadata": {},
   "source": [
    "## Question 7 - Plot the generated alarm, true anomaly flags (given from the dataset), and the feature X1."
   ]
  },
  {
   "cell_type": "markdown",
   "metadata": {},
   "source": [
    "Plot for independent feature model"
   ]
  },
  {
   "cell_type": "code",
   "execution_count": 37,
   "metadata": {},
   "outputs": [
    {
     "data": {
      "image/png": "[encoded data removed]",
      "text/plain": [
       "<Figure size 432x288 with 1 Axes>"
      ]
     },
     "metadata": {
      "needs_background": "light"
     },
     "output_type": "display_data"
    }
   ],
   "source": [
    "fig, ax = plt.subplots()\n",
    "ax.plot(x_test['X1'], y_test, 'x', color='red',label='True')\n",
    "ax.plot(x_test['X1'], (pred_ind_test+0.2)*0.9, '>', color='blue',label='Predicted')\n",
    "leg = ax.legend()"
   ]
  },
  {
   "cell_type": "markdown",
   "metadata": {},
   "source": [
    "Plot for dependent feature model(multivariate)"
   ]
  },
  {
   "cell_type": "code",
   "execution_count": 38,
   "metadata": {},
   "outputs": [
    {
     "data": {
      "image/png": "[encoded data removed]",
      "text/plain": [
       "<Figure size 432x288 with 1 Axes>"
      ]
     },
     "metadata": {
      "needs_background": "light"
     },
     "output_type": "display_data"
    }
   ],
   "source": [
    "fig, ax = plt.subplots()\n",
    "ax.plot(x_test['X1'], y_test, 'x', color='red',label='True')\n",
    "ax.plot(x_test['X1'], (pred_dep_test+0.2)*0.9, '>', color='blue',label='Predicted')\n",
    "leg = ax.legend()"
   ]
  },
  {
   "cell_type": "markdown",
   "metadata": {},
   "source": [
    "## Question 8 - Apply one supervised learning approach for classifying the events to normal and anomalies"
   ]
  },
  {
   "cell_type": "markdown",
   "metadata": {},
   "source": [
    "We will be using KNN supervised algorithm to classify the events as normal or anomaly. Confusion matrix will be used to visualize the performance of the model."
   ]
  },
  {
   "cell_type": "code",
   "execution_count": 39,
   "metadata": {},
   "outputs": [],
   "source": [
    "#scaling dataset\n",
    "x_train = StandardScaler().fit_transform(x_train)\n",
    "x_test = StandardScaler().fit_transform(x_test)"
   ]
  },
  {
   "cell_type": "code",
   "execution_count": 40,
   "metadata": {},
   "outputs": [],
   "source": [
    "model=KNeighborsClassifier()"
   ]
  },
  {
   "cell_type": "code",
   "execution_count": 41,
   "metadata": {},
   "outputs": [
    {
     "name": "stdout",
     "output_type": "stream",
     "text": [
      "Kneighbour\n",
      "Memory Usage\n",
      "C:\\ProgramData\\Anaconda3\\lib\\site-packages\\numpy\\core\\_asarray.py:85: size=2872 KiB (+2281 KiB), count=329 (+4), average=8940 B\n",
      "Time complexity 0:00:02.208005\n"
     ]
    }
   ],
   "source": [
    "tracemalloc.start()\n",
    "snapshot1 = tracemalloc.take_snapshot()\n",
    "a = datetime.datetime.now()\n",
    "\n",
    "##########################################\n",
    "# fitting and prediction\n",
    "model.fit(x_train,np.ravel(y_train))\n",
    "prediction = model.predict(x_test)\n",
    "##########################################\n",
    "\n",
    "snapshot2 = tracemalloc.take_snapshot()\n",
    "stats = snapshot2.compare_to(snapshot1,'lineno')\n",
    "print('Kneighbour')\n",
    "print(\"Memory Usage\")\n",
    "for stat in stats[:1]:\n",
    "    print(stat)\n",
    "b = datetime.datetime.now()\n",
    "print('Time complexity', b-a)"
   ]
  },
  {
   "cell_type": "code",
   "execution_count": 42,
   "metadata": {},
   "outputs": [
    {
     "data": {
      "text/plain": [
       "array([[7696,  170],\n",
       "       [ 283,  977]], dtype=int64)"
      ]
     },
     "execution_count": 42,
     "metadata": {},
     "output_type": "execute_result"
    }
   ],
   "source": [
    "cm = confusion_matrix(y_test, prediction)\n",
    "cm"
   ]
  },
  {
   "cell_type": "code",
   "execution_count": 43,
   "metadata": {},
   "outputs": [
    {
     "data": {
      "text/plain": [
       "0.9503616042077581"
      ]
     },
     "execution_count": 43,
     "metadata": {},
     "output_type": "execute_result"
    }
   ],
   "source": [
    "score=model.score(x_test, y_test)\n",
    "score"
   ]
  },
  {
   "cell_type": "code",
   "execution_count": 44,
   "metadata": {},
   "outputs": [
    {
     "data": {
      "text/plain": [
       "19.14569536423841"
      ]
     },
     "execution_count": 44,
     "metadata": {},
     "output_type": "execute_result"
    }
   ],
   "source": [
    "true_pos=cm[0][0]\n",
    "true_neg=cm[1][1]\n",
    "false_pos=cm[0][1]\n",
    "false_neg=cm[1][0]\n",
    "accuracy=(true_pos+true_neg)/(false_pos+false_neg)\n",
    "accuracy"
   ]
  },
  {
   "cell_type": "code",
   "execution_count": 45,
   "metadata": {},
   "outputs": [
    {
     "data": {
      "text/plain": [
       "0.9783879989829647"
      ]
     },
     "execution_count": 45,
     "metadata": {},
     "output_type": "execute_result"
    }
   ],
   "source": [
    "precision=true_pos/(true_pos+false_pos)\n",
    "precision"
   ]
  },
  {
   "cell_type": "code",
   "execution_count": 46,
   "metadata": {},
   "outputs": [
    {
     "data": {
      "text/plain": [
       "(2.5, -0.5)"
      ]
     },
     "execution_count": 46,
     "metadata": {},
     "output_type": "execute_result"
    },
    {
     "data": {
      "image/png": "[encoded data removed]",
      "text/plain": [
       "<Figure size 360x144 with 2 Axes>"
      ]
     },
     "metadata": {
      "needs_background": "light"
     },
     "output_type": "display_data"
    }
   ],
   "source": [
    "plt.subplots(figsize=(5,2))\n",
    "ax=sns.heatmap(cm, annot=True, cmap=\"YlGnBu\")\n",
    "bottom, top = ax.get_ylim()\n",
    "ax.set_ylim(bottom + 0.5, top - 0.5)"
   ]
  },
  {
   "cell_type": "markdown",
   "metadata": {},
   "source": [
    "#### Question 9 - Apply any clustering based algorithm you learn in the class, i.e., (hard and soft clustering with K-means, EM, ..., etc.) to decouple the anomaly data from the normal ones."
   ]
  },
  {
   "cell_type": "markdown",
   "metadata": {},
   "source": [
    "K-means clusterring algorithm has been chosen to apply on the dataset to distinguish anomaly data. With help of the Pandas DataFrame head() function, we will quickly check the data and then fill any null values before modeling."
   ]
  },
  {
   "cell_type": "code",
   "execution_count": 47,
   "metadata": {},
   "outputs": [
    {
     "data": {
      "text/html": [
       "<div>\n",
       "<style scoped>\n",
       "    .dataframe tbody tr th:only-of-type {\n",
       "        vertical-align: middle;\n",
       "    }\n",
       "\n",
       "    .dataframe tbody tr th {\n",
       "        vertical-align: top;\n",
       "    }\n",
       "\n",
       "    .dataframe thead th {\n",
       "        text-align: right;\n",
       "    }\n",
       "</style>\n",
       "<table border=\"1\" class=\"dataframe\">\n",
       "  <thead>\n",
       "    <tr style=\"text-align: right;\">\n",
       "      <th></th>\n",
       "      <th>X1</th>\n",
       "      <th>X2</th>\n",
       "      <th>X3</th>\n",
       "      <th>X4</th>\n",
       "      <th>X5</th>\n",
       "      <th>X6</th>\n",
       "      <th>X7</th>\n",
       "      <th>X8</th>\n",
       "    </tr>\n",
       "  </thead>\n",
       "  <tbody>\n",
       "    <tr>\n",
       "      <th>0</th>\n",
       "      <td>0.42051</td>\n",
       "      <td>0.73265</td>\n",
       "      <td>6.0160</td>\n",
       "      <td>1.4258</td>\n",
       "      <td>0.22390</td>\n",
       "      <td>0.44638</td>\n",
       "      <td>4.9892</td>\n",
       "      <td>1.3106</td>\n",
       "    </tr>\n",
       "    <tr>\n",
       "      <th>1</th>\n",
       "      <td>0.41743</td>\n",
       "      <td>0.72691</td>\n",
       "      <td>6.0102</td>\n",
       "      <td>1.4259</td>\n",
       "      <td>0.21750</td>\n",
       "      <td>0.44326</td>\n",
       "      <td>5.0469</td>\n",
       "      <td>1.3243</td>\n",
       "    </tr>\n",
       "    <tr>\n",
       "      <th>2</th>\n",
       "      <td>0.41608</td>\n",
       "      <td>0.72337</td>\n",
       "      <td>6.0093</td>\n",
       "      <td>1.4254</td>\n",
       "      <td>0.21875</td>\n",
       "      <td>0.44661</td>\n",
       "      <td>5.0830</td>\n",
       "      <td>1.3227</td>\n",
       "    </tr>\n",
       "    <tr>\n",
       "      <th>3</th>\n",
       "      <td>0.41517</td>\n",
       "      <td>0.72154</td>\n",
       "      <td>6.0002</td>\n",
       "      <td>1.4261</td>\n",
       "      <td>0.23488</td>\n",
       "      <td>0.46345</td>\n",
       "      <td>4.9672</td>\n",
       "      <td>1.3509</td>\n",
       "    </tr>\n",
       "    <tr>\n",
       "      <th>4</th>\n",
       "      <td>0.41376</td>\n",
       "      <td>0.71773</td>\n",
       "      <td>5.9814</td>\n",
       "      <td>1.4257</td>\n",
       "      <td>0.25363</td>\n",
       "      <td>0.48208</td>\n",
       "      <td>4.8346</td>\n",
       "      <td>1.3580</td>\n",
       "    </tr>\n",
       "    <tr>\n",
       "      <th>...</th>\n",
       "      <td>...</td>\n",
       "      <td>...</td>\n",
       "      <td>...</td>\n",
       "      <td>...</td>\n",
       "      <td>...</td>\n",
       "      <td>...</td>\n",
       "      <td>...</td>\n",
       "      <td>...</td>\n",
       "    </tr>\n",
       "    <tr>\n",
       "      <th>152351</th>\n",
       "      <td>0.77400</td>\n",
       "      <td>1.70110</td>\n",
       "      <td>7.1742</td>\n",
       "      <td>3.0244</td>\n",
       "      <td>1.24290</td>\n",
       "      <td>8.21240</td>\n",
       "      <td>21.4700</td>\n",
       "      <td>1.6362</td>\n",
       "    </tr>\n",
       "    <tr>\n",
       "      <th>152352</th>\n",
       "      <td>0.76942</td>\n",
       "      <td>1.69400</td>\n",
       "      <td>7.0381</td>\n",
       "      <td>2.9757</td>\n",
       "      <td>1.26660</td>\n",
       "      <td>8.31700</td>\n",
       "      <td>22.1440</td>\n",
       "      <td>1.6047</td>\n",
       "    </tr>\n",
       "    <tr>\n",
       "      <th>152353</th>\n",
       "      <td>0.76204</td>\n",
       "      <td>1.67450</td>\n",
       "      <td>6.9004</td>\n",
       "      <td>2.9260</td>\n",
       "      <td>1.24850</td>\n",
       "      <td>8.25700</td>\n",
       "      <td>22.1050</td>\n",
       "      <td>1.5607</td>\n",
       "    </tr>\n",
       "    <tr>\n",
       "      <th>152354</th>\n",
       "      <td>0.75973</td>\n",
       "      <td>1.66120</td>\n",
       "      <td>6.7681</td>\n",
       "      <td>2.8843</td>\n",
       "      <td>1.20560</td>\n",
       "      <td>8.12280</td>\n",
       "      <td>21.9780</td>\n",
       "      <td>1.4982</td>\n",
       "    </tr>\n",
       "    <tr>\n",
       "      <th>152355</th>\n",
       "      <td>0.76065</td>\n",
       "      <td>1.65900</td>\n",
       "      <td>6.7191</td>\n",
       "      <td>2.8671</td>\n",
       "      <td>1.15660</td>\n",
       "      <td>7.53940</td>\n",
       "      <td>20.7380</td>\n",
       "      <td>1.4338</td>\n",
       "    </tr>\n",
       "  </tbody>\n",
       "</table>\n",
       "<p>152356 rows × 8 columns</p>\n",
       "</div>"
      ],
      "text/plain": [
       "             X1       X2      X3      X4       X5       X6       X7      X8\n",
       "0       0.42051  0.73265  6.0160  1.4258  0.22390  0.44638   4.9892  1.3106\n",
       "1       0.41743  0.72691  6.0102  1.4259  0.21750  0.44326   5.0469  1.3243\n",
       "2       0.41608  0.72337  6.0093  1.4254  0.21875  0.44661   5.0830  1.3227\n",
       "3       0.41517  0.72154  6.0002  1.4261  0.23488  0.46345   4.9672  1.3509\n",
       "4       0.41376  0.71773  5.9814  1.4257  0.25363  0.48208   4.8346  1.3580\n",
       "...         ...      ...     ...     ...      ...      ...      ...     ...\n",
       "152351  0.77400  1.70110  7.1742  3.0244  1.24290  8.21240  21.4700  1.6362\n",
       "152352  0.76942  1.69400  7.0381  2.9757  1.26660  8.31700  22.1440  1.6047\n",
       "152353  0.76204  1.67450  6.9004  2.9260  1.24850  8.25700  22.1050  1.5607\n",
       "152354  0.75973  1.66120  6.7681  2.8843  1.20560  8.12280  21.9780  1.4982\n",
       "152355  0.76065  1.65900  6.7191  2.8671  1.15660  7.53940  20.7380  1.4338\n",
       "\n",
       "[152356 rows x 8 columns]"
      ]
     },
     "execution_count": 47,
     "metadata": {},
     "output_type": "execute_result"
    }
   ],
   "source": [
    "# checking data and filling null values\n",
    "x=X_n\n",
    "x.fillna(x.mean())"
   ]
  },
  {
   "cell_type": "code",
   "execution_count": 48,
   "metadata": {},
   "outputs": [
    {
     "name": "stdout",
     "output_type": "stream",
     "text": [
      "[1 1 1 ... 1 1 1]\n",
      "K-Means\n",
      "Memory Usage\n",
      "C:\\ProgramData\\Anaconda3\\lib\\site-packages\\sklearn\\cluster\\_kmeans.py:940: size=595 KiB (+595 KiB), count=2 (+2), average=298 KiB\n",
      "Time complexity 0:00:04.488037\n"
     ]
    }
   ],
   "source": [
    "tracemalloc.start()\n",
    "snapshot1 = tracemalloc.take_snapshot()\n",
    "a = datetime.datetime.now()\n",
    "\n",
    "##########################################\n",
    "#Applying K Means algorithm to the dataset\n",
    "kmeans5 = KMeans(n_clusters=2)\n",
    "y_kmeans5 = kmeans5.fit_predict(x)\n",
    "print(y_kmeans5)\n",
    "kmeans5.cluster_centers_\n",
    "# print (y_kmeans5.score())\n",
    "##########################################\n",
    "\n",
    "snapshot2 = tracemalloc.take_snapshot()\n",
    "stats = snapshot2.compare_to(snapshot1,'lineno')\n",
    "print('K-Means')\n",
    "print(\"Memory Usage\")\n",
    "for stat in stats[:1]:\n",
    "    print(stat)\n",
    "b = datetime.datetime.now()\n",
    "print('Time complexity', b-a)"
   ]
  },
  {
   "cell_type": "markdown",
   "metadata": {},
   "source": [
    "#### Q10 - Compare the Gaussian-based anomaly detection algorithm, the supervised learning and the clustering approach"
   ]
  },
  {
   "cell_type": "markdown",
   "metadata": {},
   "source": [
    "Detection Capablities: (Score)\n",
    "1. Anomalous Model              0.8619329388560159\n",
    "2. Kneighbour                   0.9503616042077581\n",
    "3. K-Means                    \n",
    "\n",
    "Time requirements:\n",
    "1. Anomalous Model \n",
    " a. Training                     0:00:01.723531\n",
    " b. Test(Univariate/Independent) 0:00:00.076968\n",
    " c. Test(Multivariate/Dependent) 0:00:00.067554\n",
    "2. Kneighbour                    0:00:01.806330\n",
    "3. K-Means                       0:00:04.709879\n",
    "\n",
    "Memory requirements:\n",
    "1. Anomalous Model               144 KiB\n",
    "2. Kneighbour                    2874 KiB\n",
    "3. K-Means                       144 KiB"
   ]
  }
 ],
 "metadata": {
  "kernelspec": {
   "display_name": "Python 3",
   "language": "python",
   "name": "python3"
  },
  "language_info": {
   "codemirror_mode": {
    "name": "ipython",
    "version": 3
   },
   "file_extension": ".py",
   "mimetype": "text/x-python",
   "name": "python",
   "nbconvert_exporter": "python",
   "pygments_lexer": "ipython3",
   "version": "3.7.6"
  }
 },
 "nbformat": 4,
 "nbformat_minor": 4
}
