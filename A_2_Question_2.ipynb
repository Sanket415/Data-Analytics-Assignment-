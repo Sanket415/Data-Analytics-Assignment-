{
 "cells": [
  {
   "cell_type": "code",
   "execution_count": 23,
   "metadata": {},
   "outputs": [],
   "source": [
    "import pandas as pd\n",
    "import numpy as np\n",
    "from scipy.special import ndtri\n",
    "from matplotlib import pyplot as plt"
   ]
  },
  {
   "cell_type": "code",
   "execution_count": 2,
   "metadata": {},
   "outputs": [
    {
     "data": {
      "text/html": [
       "<div>\n",
       "<style scoped>\n",
       "    .dataframe tbody tr th:only-of-type {\n",
       "        vertical-align: middle;\n",
       "    }\n",
       "\n",
       "    .dataframe tbody tr th {\n",
       "        vertical-align: top;\n",
       "    }\n",
       "\n",
       "    .dataframe thead th {\n",
       "        text-align: right;\n",
       "    }\n",
       "</style>\n",
       "<table border=\"1\" class=\"dataframe\">\n",
       "  <thead>\n",
       "    <tr style=\"text-align: right;\">\n",
       "      <th></th>\n",
       "      <th>Unnamed: 0</th>\n",
       "      <th>X1</th>\n",
       "      <th>X2</th>\n",
       "      <th>X3</th>\n",
       "      <th>X4</th>\n",
       "      <th>X5</th>\n",
       "      <th>X6</th>\n",
       "      <th>X7</th>\n",
       "      <th>X8</th>\n",
       "      <th>Sds_Armed</th>\n",
       "      <th>Anomaly_Tag</th>\n",
       "    </tr>\n",
       "  </thead>\n",
       "  <tbody>\n",
       "    <tr>\n",
       "      <th>0</th>\n",
       "      <td>745</td>\n",
       "      <td>1.7957</td>\n",
       "      <td>6.1964</td>\n",
       "      <td>508.57</td>\n",
       "      <td>875.40</td>\n",
       "      <td>0.43922</td>\n",
       "      <td>1.5473</td>\n",
       "      <td>57.021</td>\n",
       "      <td>56.914</td>\n",
       "      <td>1</td>\n",
       "      <td>0</td>\n",
       "    </tr>\n",
       "    <tr>\n",
       "      <th>1</th>\n",
       "      <td>746</td>\n",
       "      <td>1.7851</td>\n",
       "      <td>6.1508</td>\n",
       "      <td>503.90</td>\n",
       "      <td>867.18</td>\n",
       "      <td>0.43947</td>\n",
       "      <td>1.3525</td>\n",
       "      <td>53.658</td>\n",
       "      <td>58.856</td>\n",
       "      <td>1</td>\n",
       "      <td>0</td>\n",
       "    </tr>\n",
       "    <tr>\n",
       "      <th>2</th>\n",
       "      <td>747</td>\n",
       "      <td>1.7760</td>\n",
       "      <td>6.1173</td>\n",
       "      <td>499.62</td>\n",
       "      <td>860.56</td>\n",
       "      <td>0.42528</td>\n",
       "      <td>1.3391</td>\n",
       "      <td>52.551</td>\n",
       "      <td>69.101</td>\n",
       "      <td>1</td>\n",
       "      <td>0</td>\n",
       "    </tr>\n",
       "    <tr>\n",
       "      <th>3</th>\n",
       "      <td>748</td>\n",
       "      <td>1.7641</td>\n",
       "      <td>6.0799</td>\n",
       "      <td>494.07</td>\n",
       "      <td>851.51</td>\n",
       "      <td>0.42802</td>\n",
       "      <td>1.3679</td>\n",
       "      <td>51.228</td>\n",
       "      <td>75.935</td>\n",
       "      <td>1</td>\n",
       "      <td>0</td>\n",
       "    </tr>\n",
       "    <tr>\n",
       "      <th>4</th>\n",
       "      <td>749</td>\n",
       "      <td>1.7525</td>\n",
       "      <td>6.0333</td>\n",
       "      <td>486.73</td>\n",
       "      <td>840.86</td>\n",
       "      <td>0.40701</td>\n",
       "      <td>1.3128</td>\n",
       "      <td>47.228</td>\n",
       "      <td>72.784</td>\n",
       "      <td>1</td>\n",
       "      <td>0</td>\n",
       "    </tr>\n",
       "  </tbody>\n",
       "</table>\n",
       "</div>"
      ],
      "text/plain": [
       "   Unnamed: 0      X1      X2      X3      X4       X5      X6      X7  \\\n",
       "0         745  1.7957  6.1964  508.57  875.40  0.43922  1.5473  57.021   \n",
       "1         746  1.7851  6.1508  503.90  867.18  0.43947  1.3525  53.658   \n",
       "2         747  1.7760  6.1173  499.62  860.56  0.42528  1.3391  52.551   \n",
       "3         748  1.7641  6.0799  494.07  851.51  0.42802  1.3679  51.228   \n",
       "4         749  1.7525  6.0333  486.73  840.86  0.40701  1.3128  47.228   \n",
       "\n",
       "       X8  Sds_Armed  Anomaly_Tag  \n",
       "0  56.914          1            0  \n",
       "1  58.856          1            0  \n",
       "2  69.101          1            0  \n",
       "3  75.935          1            0  \n",
       "4  72.784          1            0  "
      ]
     },
     "execution_count": 2,
     "metadata": {},
     "output_type": "execute_result"
    }
   ],
   "source": [
    "# Loading the csv file into data frame\n",
    "df=pd.read_csv(\"C:/Users/alamt/merged_exp_contains_anomalies.csv\")\n",
    "df.head()"
   ]
  },
  {
   "cell_type": "code",
   "execution_count": 3,
   "metadata": {},
   "outputs": [
    {
     "data": {
      "text/html": [
       "<div>\n",
       "<style scoped>\n",
       "    .dataframe tbody tr th:only-of-type {\n",
       "        vertical-align: middle;\n",
       "    }\n",
       "\n",
       "    .dataframe tbody tr th {\n",
       "        vertical-align: top;\n",
       "    }\n",
       "\n",
       "    .dataframe thead th {\n",
       "        text-align: right;\n",
       "    }\n",
       "</style>\n",
       "<table border=\"1\" class=\"dataframe\">\n",
       "  <thead>\n",
       "    <tr style=\"text-align: right;\">\n",
       "      <th></th>\n",
       "      <th>Unnamed</th>\n",
       "      <th>X1</th>\n",
       "      <th>X2</th>\n",
       "      <th>X3</th>\n",
       "      <th>X4</th>\n",
       "      <th>X5</th>\n",
       "      <th>X6</th>\n",
       "      <th>X7</th>\n",
       "      <th>X8</th>\n",
       "      <th>Sds_Armed</th>\n",
       "      <th>Anomaly_Tag</th>\n",
       "    </tr>\n",
       "  </thead>\n",
       "  <tbody>\n",
       "    <tr>\n",
       "      <th>0</th>\n",
       "      <td>745</td>\n",
       "      <td>1.7957</td>\n",
       "      <td>6.1964</td>\n",
       "      <td>508.57</td>\n",
       "      <td>875.40</td>\n",
       "      <td>0.43922</td>\n",
       "      <td>1.5473</td>\n",
       "      <td>57.021</td>\n",
       "      <td>56.914</td>\n",
       "      <td>1</td>\n",
       "      <td>0</td>\n",
       "    </tr>\n",
       "    <tr>\n",
       "      <th>1</th>\n",
       "      <td>746</td>\n",
       "      <td>1.7851</td>\n",
       "      <td>6.1508</td>\n",
       "      <td>503.90</td>\n",
       "      <td>867.18</td>\n",
       "      <td>0.43947</td>\n",
       "      <td>1.3525</td>\n",
       "      <td>53.658</td>\n",
       "      <td>58.856</td>\n",
       "      <td>1</td>\n",
       "      <td>0</td>\n",
       "    </tr>\n",
       "    <tr>\n",
       "      <th>2</th>\n",
       "      <td>747</td>\n",
       "      <td>1.7760</td>\n",
       "      <td>6.1173</td>\n",
       "      <td>499.62</td>\n",
       "      <td>860.56</td>\n",
       "      <td>0.42528</td>\n",
       "      <td>1.3391</td>\n",
       "      <td>52.551</td>\n",
       "      <td>69.101</td>\n",
       "      <td>1</td>\n",
       "      <td>0</td>\n",
       "    </tr>\n",
       "    <tr>\n",
       "      <th>3</th>\n",
       "      <td>748</td>\n",
       "      <td>1.7641</td>\n",
       "      <td>6.0799</td>\n",
       "      <td>494.07</td>\n",
       "      <td>851.51</td>\n",
       "      <td>0.42802</td>\n",
       "      <td>1.3679</td>\n",
       "      <td>51.228</td>\n",
       "      <td>75.935</td>\n",
       "      <td>1</td>\n",
       "      <td>0</td>\n",
       "    </tr>\n",
       "    <tr>\n",
       "      <th>4</th>\n",
       "      <td>749</td>\n",
       "      <td>1.7525</td>\n",
       "      <td>6.0333</td>\n",
       "      <td>486.73</td>\n",
       "      <td>840.86</td>\n",
       "      <td>0.40701</td>\n",
       "      <td>1.3128</td>\n",
       "      <td>47.228</td>\n",
       "      <td>72.784</td>\n",
       "      <td>1</td>\n",
       "      <td>0</td>\n",
       "    </tr>\n",
       "  </tbody>\n",
       "</table>\n",
       "</div>"
      ],
      "text/plain": [
       "   Unnamed      X1      X2      X3      X4       X5      X6      X7      X8  \\\n",
       "0      745  1.7957  6.1964  508.57  875.40  0.43922  1.5473  57.021  56.914   \n",
       "1      746  1.7851  6.1508  503.90  867.18  0.43947  1.3525  53.658  58.856   \n",
       "2      747  1.7760  6.1173  499.62  860.56  0.42528  1.3391  52.551  69.101   \n",
       "3      748  1.7641  6.0799  494.07  851.51  0.42802  1.3679  51.228  75.935   \n",
       "4      749  1.7525  6.0333  486.73  840.86  0.40701  1.3128  47.228  72.784   \n",
       "\n",
       "   Sds_Armed  Anomaly_Tag  \n",
       "0          1            0  \n",
       "1          1            0  \n",
       "2          1            0  \n",
       "3          1            0  \n",
       "4          1            0  "
      ]
     },
     "execution_count": 3,
     "metadata": {},
     "output_type": "execute_result"
    }
   ],
   "source": [
    "df.columns = [\"Unnamed\",\"X1\",\"X2\",\"X3\",\"X4\",\"X5\",\"X6\",\"X7\",\"X8\",\"Sds_Armed\",\"Anomaly_Tag\"]\n",
    "df.head()"
   ]
  },
  {
   "cell_type": "code",
   "execution_count": 20,
   "metadata": {},
   "outputs": [
    {
     "data": {
      "text/html": [
       "<div>\n",
       "<style scoped>\n",
       "    .dataframe tbody tr th:only-of-type {\n",
       "        vertical-align: middle;\n",
       "    }\n",
       "\n",
       "    .dataframe tbody tr th {\n",
       "        vertical-align: top;\n",
       "    }\n",
       "\n",
       "    .dataframe thead th {\n",
       "        text-align: right;\n",
       "    }\n",
       "</style>\n",
       "<table border=\"1\" class=\"dataframe\">\n",
       "  <thead>\n",
       "    <tr style=\"text-align: right;\">\n",
       "      <th></th>\n",
       "      <th>index</th>\n",
       "      <th>Unnamed</th>\n",
       "      <th>X1</th>\n",
       "      <th>X2</th>\n",
       "      <th>X3</th>\n",
       "      <th>X4</th>\n",
       "      <th>X5</th>\n",
       "      <th>X6</th>\n",
       "      <th>X7</th>\n",
       "      <th>X8</th>\n",
       "      <th>Sds_Armed</th>\n",
       "      <th>Anomaly_Tag</th>\n",
       "    </tr>\n",
       "  </thead>\n",
       "  <tbody>\n",
       "    <tr>\n",
       "      <th>0</th>\n",
       "      <td>7003</td>\n",
       "      <td>42561</td>\n",
       "      <td>0.29916</td>\n",
       "      <td>0.80175</td>\n",
       "      <td>18.246</td>\n",
       "      <td>2.1808</td>\n",
       "      <td>0.23119</td>\n",
       "      <td>0.74448</td>\n",
       "      <td>16.434</td>\n",
       "      <td>2.0543</td>\n",
       "      <td>1</td>\n",
       "      <td>0</td>\n",
       "    </tr>\n",
       "    <tr>\n",
       "      <th>1</th>\n",
       "      <td>7002</td>\n",
       "      <td>42560</td>\n",
       "      <td>0.29952</td>\n",
       "      <td>0.80114</td>\n",
       "      <td>18.316</td>\n",
       "      <td>2.1830</td>\n",
       "      <td>0.25310</td>\n",
       "      <td>0.78113</td>\n",
       "      <td>16.162</td>\n",
       "      <td>2.0623</td>\n",
       "      <td>1</td>\n",
       "      <td>0</td>\n",
       "    </tr>\n",
       "    <tr>\n",
       "      <th>2</th>\n",
       "      <td>7001</td>\n",
       "      <td>42559</td>\n",
       "      <td>0.30029</td>\n",
       "      <td>0.80172</td>\n",
       "      <td>18.398</td>\n",
       "      <td>2.1830</td>\n",
       "      <td>0.28739</td>\n",
       "      <td>0.82888</td>\n",
       "      <td>16.165</td>\n",
       "      <td>2.0377</td>\n",
       "      <td>1</td>\n",
       "      <td>0</td>\n",
       "    </tr>\n",
       "    <tr>\n",
       "      <th>3</th>\n",
       "      <td>7000</td>\n",
       "      <td>42558</td>\n",
       "      <td>0.30158</td>\n",
       "      <td>0.80464</td>\n",
       "      <td>18.437</td>\n",
       "      <td>2.1801</td>\n",
       "      <td>0.30005</td>\n",
       "      <td>0.86829</td>\n",
       "      <td>16.255</td>\n",
       "      <td>1.9606</td>\n",
       "      <td>1</td>\n",
       "      <td>0</td>\n",
       "    </tr>\n",
       "    <tr>\n",
       "      <th>4</th>\n",
       "      <td>6999</td>\n",
       "      <td>42557</td>\n",
       "      <td>0.30209</td>\n",
       "      <td>0.80703</td>\n",
       "      <td>18.436</td>\n",
       "      <td>2.1795</td>\n",
       "      <td>0.30055</td>\n",
       "      <td>0.93291</td>\n",
       "      <td>16.647</td>\n",
       "      <td>1.9463</td>\n",
       "      <td>1</td>\n",
       "      <td>0</td>\n",
       "    </tr>\n",
       "  </tbody>\n",
       "</table>\n",
       "</div>"
      ],
      "text/plain": [
       "   index  Unnamed       X1       X2      X3      X4       X5       X6      X7  \\\n",
       "0   7003    42561  0.29916  0.80175  18.246  2.1808  0.23119  0.74448  16.434   \n",
       "1   7002    42560  0.29952  0.80114  18.316  2.1830  0.25310  0.78113  16.162   \n",
       "2   7001    42559  0.30029  0.80172  18.398  2.1830  0.28739  0.82888  16.165   \n",
       "3   7000    42558  0.30158  0.80464  18.437  2.1801  0.30005  0.86829  16.255   \n",
       "4   6999    42557  0.30209  0.80703  18.436  2.1795  0.30055  0.93291  16.647   \n",
       "\n",
       "       X8  Sds_Armed  Anomaly_Tag  \n",
       "0  2.0543          1            0  \n",
       "1  2.0623          1            0  \n",
       "2  2.0377          1            0  \n",
       "3  1.9606          1            0  \n",
       "4  1.9463          1            0  "
      ]
     },
     "execution_count": 20,
     "metadata": {},
     "output_type": "execute_result"
    }
   ],
   "source": [
    "#sorting the values\n",
    "df=df.sort_values(by=['X1','X2','X3','X4','X5','X6','X7','X8'], ascending=True).reset_index()\n",
    "df.head()"
   ]
  },
  {
   "cell_type": "code",
   "execution_count": 22,
   "metadata": {},
   "outputs": [
    {
     "data": {
      "text/html": [
       "<div>\n",
       "<style scoped>\n",
       "    .dataframe tbody tr th:only-of-type {\n",
       "        vertical-align: middle;\n",
       "    }\n",
       "\n",
       "    .dataframe tbody tr th {\n",
       "        vertical-align: top;\n",
       "    }\n",
       "\n",
       "    .dataframe thead th {\n",
       "        text-align: right;\n",
       "    }\n",
       "</style>\n",
       "<table border=\"1\" class=\"dataframe\">\n",
       "  <thead>\n",
       "    <tr style=\"text-align: right;\">\n",
       "      <th></th>\n",
       "      <th>index</th>\n",
       "      <th>Unnamed</th>\n",
       "      <th>X1</th>\n",
       "      <th>X2</th>\n",
       "      <th>X3</th>\n",
       "      <th>X4</th>\n",
       "      <th>X5</th>\n",
       "      <th>X6</th>\n",
       "      <th>X7</th>\n",
       "      <th>X8</th>\n",
       "      <th>Sds_Armed</th>\n",
       "      <th>Anomaly_Tag</th>\n",
       "      <th>count</th>\n",
       "    </tr>\n",
       "  </thead>\n",
       "  <tbody>\n",
       "    <tr>\n",
       "      <th>0</th>\n",
       "      <td>7003</td>\n",
       "      <td>42561</td>\n",
       "      <td>0.29916</td>\n",
       "      <td>0.80175</td>\n",
       "      <td>18.246</td>\n",
       "      <td>2.1808</td>\n",
       "      <td>0.23119</td>\n",
       "      <td>0.74448</td>\n",
       "      <td>16.434</td>\n",
       "      <td>2.0543</td>\n",
       "      <td>1</td>\n",
       "      <td>0</td>\n",
       "      <td>1</td>\n",
       "    </tr>\n",
       "    <tr>\n",
       "      <th>1</th>\n",
       "      <td>7002</td>\n",
       "      <td>42560</td>\n",
       "      <td>0.29952</td>\n",
       "      <td>0.80114</td>\n",
       "      <td>18.316</td>\n",
       "      <td>2.1830</td>\n",
       "      <td>0.25310</td>\n",
       "      <td>0.78113</td>\n",
       "      <td>16.162</td>\n",
       "      <td>2.0623</td>\n",
       "      <td>1</td>\n",
       "      <td>0</td>\n",
       "      <td>2</td>\n",
       "    </tr>\n",
       "    <tr>\n",
       "      <th>2</th>\n",
       "      <td>7001</td>\n",
       "      <td>42559</td>\n",
       "      <td>0.30029</td>\n",
       "      <td>0.80172</td>\n",
       "      <td>18.398</td>\n",
       "      <td>2.1830</td>\n",
       "      <td>0.28739</td>\n",
       "      <td>0.82888</td>\n",
       "      <td>16.165</td>\n",
       "      <td>2.0377</td>\n",
       "      <td>1</td>\n",
       "      <td>0</td>\n",
       "      <td>3</td>\n",
       "    </tr>\n",
       "    <tr>\n",
       "      <th>3</th>\n",
       "      <td>7000</td>\n",
       "      <td>42558</td>\n",
       "      <td>0.30158</td>\n",
       "      <td>0.80464</td>\n",
       "      <td>18.437</td>\n",
       "      <td>2.1801</td>\n",
       "      <td>0.30005</td>\n",
       "      <td>0.86829</td>\n",
       "      <td>16.255</td>\n",
       "      <td>1.9606</td>\n",
       "      <td>1</td>\n",
       "      <td>0</td>\n",
       "      <td>4</td>\n",
       "    </tr>\n",
       "    <tr>\n",
       "      <th>4</th>\n",
       "      <td>6999</td>\n",
       "      <td>42557</td>\n",
       "      <td>0.30209</td>\n",
       "      <td>0.80703</td>\n",
       "      <td>18.436</td>\n",
       "      <td>2.1795</td>\n",
       "      <td>0.30055</td>\n",
       "      <td>0.93291</td>\n",
       "      <td>16.647</td>\n",
       "      <td>1.9463</td>\n",
       "      <td>1</td>\n",
       "      <td>0</td>\n",
       "      <td>5</td>\n",
       "    </tr>\n",
       "  </tbody>\n",
       "</table>\n",
       "</div>"
      ],
      "text/plain": [
       "   index  Unnamed       X1       X2      X3      X4       X5       X6      X7  \\\n",
       "0   7003    42561  0.29916  0.80175  18.246  2.1808  0.23119  0.74448  16.434   \n",
       "1   7002    42560  0.29952  0.80114  18.316  2.1830  0.25310  0.78113  16.162   \n",
       "2   7001    42559  0.30029  0.80172  18.398  2.1830  0.28739  0.82888  16.165   \n",
       "3   7000    42558  0.30158  0.80464  18.437  2.1801  0.30005  0.86829  16.255   \n",
       "4   6999    42557  0.30209  0.80703  18.436  2.1795  0.30055  0.93291  16.647   \n",
       "\n",
       "       X8  Sds_Armed  Anomaly_Tag  count  \n",
       "0  2.0543          1            0      1  \n",
       "1  2.0623          1            0      2  \n",
       "2  2.0377          1            0      3  \n",
       "3  1.9606          1            0      4  \n",
       "4  1.9463          1            0      5  "
      ]
     },
     "execution_count": 22,
     "metadata": {},
     "output_type": "execute_result"
    }
   ],
   "source": [
    "#Dividing the Standard Normal Distribution i.e. theoretical distribution into n+1 equal parts\n",
    "df[\"count\"]=df.index+1\n",
    "df.head()"
   ]
  },
  {
   "cell_type": "code",
   "execution_count": 24,
   "metadata": {},
   "outputs": [],
   "source": [
    "n_rows=df.shape[0]"
   ]
  },
  {
   "cell_type": "code",
   "execution_count": 26,
   "metadata": {},
   "outputs": [
    {
     "data": {
      "text/html": [
       "<div>\n",
       "<style scoped>\n",
       "    .dataframe tbody tr th:only-of-type {\n",
       "        vertical-align: middle;\n",
       "    }\n",
       "\n",
       "    .dataframe tbody tr th {\n",
       "        vertical-align: top;\n",
       "    }\n",
       "\n",
       "    .dataframe thead th {\n",
       "        text-align: right;\n",
       "    }\n",
       "</style>\n",
       "<table border=\"1\" class=\"dataframe\">\n",
       "  <thead>\n",
       "    <tr style=\"text-align: right;\">\n",
       "      <th></th>\n",
       "      <th>index</th>\n",
       "      <th>Unnamed</th>\n",
       "      <th>X1</th>\n",
       "      <th>X2</th>\n",
       "      <th>X3</th>\n",
       "      <th>X4</th>\n",
       "      <th>X5</th>\n",
       "      <th>X6</th>\n",
       "      <th>X7</th>\n",
       "      <th>X8</th>\n",
       "      <th>Sds_Armed</th>\n",
       "      <th>Anomaly_Tag</th>\n",
       "      <th>count</th>\n",
       "      <th>percentile_area</th>\n",
       "    </tr>\n",
       "  </thead>\n",
       "  <tbody>\n",
       "    <tr>\n",
       "      <th>0</th>\n",
       "      <td>7003</td>\n",
       "      <td>42561</td>\n",
       "      <td>0.29916</td>\n",
       "      <td>0.80175</td>\n",
       "      <td>18.246</td>\n",
       "      <td>2.1808</td>\n",
       "      <td>0.23119</td>\n",
       "      <td>0.74448</td>\n",
       "      <td>16.434</td>\n",
       "      <td>2.0543</td>\n",
       "      <td>1</td>\n",
       "      <td>0</td>\n",
       "      <td>1</td>\n",
       "      <td>0.000022</td>\n",
       "    </tr>\n",
       "    <tr>\n",
       "      <th>1</th>\n",
       "      <td>7002</td>\n",
       "      <td>42560</td>\n",
       "      <td>0.29952</td>\n",
       "      <td>0.80114</td>\n",
       "      <td>18.316</td>\n",
       "      <td>2.1830</td>\n",
       "      <td>0.25310</td>\n",
       "      <td>0.78113</td>\n",
       "      <td>16.162</td>\n",
       "      <td>2.0623</td>\n",
       "      <td>1</td>\n",
       "      <td>0</td>\n",
       "      <td>2</td>\n",
       "      <td>0.000044</td>\n",
       "    </tr>\n",
       "    <tr>\n",
       "      <th>2</th>\n",
       "      <td>7001</td>\n",
       "      <td>42559</td>\n",
       "      <td>0.30029</td>\n",
       "      <td>0.80172</td>\n",
       "      <td>18.398</td>\n",
       "      <td>2.1830</td>\n",
       "      <td>0.28739</td>\n",
       "      <td>0.82888</td>\n",
       "      <td>16.165</td>\n",
       "      <td>2.0377</td>\n",
       "      <td>1</td>\n",
       "      <td>0</td>\n",
       "      <td>3</td>\n",
       "      <td>0.000066</td>\n",
       "    </tr>\n",
       "    <tr>\n",
       "      <th>3</th>\n",
       "      <td>7000</td>\n",
       "      <td>42558</td>\n",
       "      <td>0.30158</td>\n",
       "      <td>0.80464</td>\n",
       "      <td>18.437</td>\n",
       "      <td>2.1801</td>\n",
       "      <td>0.30005</td>\n",
       "      <td>0.86829</td>\n",
       "      <td>16.255</td>\n",
       "      <td>1.9606</td>\n",
       "      <td>1</td>\n",
       "      <td>0</td>\n",
       "      <td>4</td>\n",
       "      <td>0.000088</td>\n",
       "    </tr>\n",
       "    <tr>\n",
       "      <th>4</th>\n",
       "      <td>6999</td>\n",
       "      <td>42557</td>\n",
       "      <td>0.30209</td>\n",
       "      <td>0.80703</td>\n",
       "      <td>18.436</td>\n",
       "      <td>2.1795</td>\n",
       "      <td>0.30055</td>\n",
       "      <td>0.93291</td>\n",
       "      <td>16.647</td>\n",
       "      <td>1.9463</td>\n",
       "      <td>1</td>\n",
       "      <td>0</td>\n",
       "      <td>5</td>\n",
       "      <td>0.000110</td>\n",
       "    </tr>\n",
       "  </tbody>\n",
       "</table>\n",
       "</div>"
      ],
      "text/plain": [
       "   index  Unnamed       X1       X2      X3      X4       X5       X6      X7  \\\n",
       "0   7003    42561  0.29916  0.80175  18.246  2.1808  0.23119  0.74448  16.434   \n",
       "1   7002    42560  0.29952  0.80114  18.316  2.1830  0.25310  0.78113  16.162   \n",
       "2   7001    42559  0.30029  0.80172  18.398  2.1830  0.28739  0.82888  16.165   \n",
       "3   7000    42558  0.30158  0.80464  18.437  2.1801  0.30005  0.86829  16.255   \n",
       "4   6999    42557  0.30209  0.80703  18.436  2.1795  0.30055  0.93291  16.647   \n",
       "\n",
       "       X8  Sds_Armed  Anomaly_Tag  count  percentile_area  \n",
       "0  2.0543          1            0      1         0.000022  \n",
       "1  2.0623          1            0      2         0.000044  \n",
       "2  2.0377          1            0      3         0.000066  \n",
       "3  1.9606          1            0      4         0.000088  \n",
       "4  1.9463          1            0      5         0.000110  "
      ]
     },
     "execution_count": 26,
     "metadata": {},
     "output_type": "execute_result"
    }
   ],
   "source": [
    "# Calculating the percentile area\n",
    "df[\"percentile_area\"]= (df[\"count\"])/n_rows\n",
    "df.head()"
   ]
  },
  {
   "cell_type": "code",
   "execution_count": 27,
   "metadata": {},
   "outputs": [],
   "source": [
    "# Finding the Z value for each region\n",
    "df[\"z_theoretical\"]=ndtri(df[\"percentile_area\"])"
   ]
  },
  {
   "cell_type": "code",
   "execution_count": 36,
   "metadata": {},
   "outputs": [],
   "source": [
    "# Z Score is calculated by iterating over each row and subtracting it from the mean and dividing it with the standard deviation\n",
    "df[\"z_actual_X1\"]= (df[\"X1\"]-df[\"X1\"].mean())/df[\"X1\"].std(ddof=0)"
   ]
  },
  {
   "cell_type": "code",
   "execution_count": 37,
   "metadata": {},
   "outputs": [
    {
     "data": {
      "text/html": [
       "<div>\n",
       "<style scoped>\n",
       "    .dataframe tbody tr th:only-of-type {\n",
       "        vertical-align: middle;\n",
       "    }\n",
       "\n",
       "    .dataframe tbody tr th {\n",
       "        vertical-align: top;\n",
       "    }\n",
       "\n",
       "    .dataframe thead th {\n",
       "        text-align: right;\n",
       "    }\n",
       "</style>\n",
       "<table border=\"1\" class=\"dataframe\">\n",
       "  <thead>\n",
       "    <tr style=\"text-align: right;\">\n",
       "      <th></th>\n",
       "      <th>index</th>\n",
       "      <th>Unnamed</th>\n",
       "      <th>X1</th>\n",
       "      <th>X2</th>\n",
       "      <th>X3</th>\n",
       "      <th>X4</th>\n",
       "      <th>X5</th>\n",
       "      <th>X6</th>\n",
       "      <th>X7</th>\n",
       "      <th>X8</th>\n",
       "      <th>Sds_Armed</th>\n",
       "      <th>Anomaly_Tag</th>\n",
       "      <th>count</th>\n",
       "      <th>percentile_area</th>\n",
       "      <th>z_theoretical</th>\n",
       "      <th>z_actual</th>\n",
       "      <th>z_actual_X1</th>\n",
       "    </tr>\n",
       "  </thead>\n",
       "  <tbody>\n",
       "    <tr>\n",
       "      <th>0</th>\n",
       "      <td>7003</td>\n",
       "      <td>42561</td>\n",
       "      <td>0.29916</td>\n",
       "      <td>0.80175</td>\n",
       "      <td>18.246</td>\n",
       "      <td>2.1808</td>\n",
       "      <td>0.23119</td>\n",
       "      <td>0.74448</td>\n",
       "      <td>16.434</td>\n",
       "      <td>2.0543</td>\n",
       "      <td>1</td>\n",
       "      <td>0</td>\n",
       "      <td>1</td>\n",
       "      <td>0.000022</td>\n",
       "      <td>-4.086279</td>\n",
       "      <td>-1.392866</td>\n",
       "      <td>-1.392866</td>\n",
       "    </tr>\n",
       "    <tr>\n",
       "      <th>1</th>\n",
       "      <td>7002</td>\n",
       "      <td>42560</td>\n",
       "      <td>0.29952</td>\n",
       "      <td>0.80114</td>\n",
       "      <td>18.316</td>\n",
       "      <td>2.1830</td>\n",
       "      <td>0.25310</td>\n",
       "      <td>0.78113</td>\n",
       "      <td>16.162</td>\n",
       "      <td>2.0623</td>\n",
       "      <td>1</td>\n",
       "      <td>0</td>\n",
       "      <td>2</td>\n",
       "      <td>0.000044</td>\n",
       "      <td>-3.922405</td>\n",
       "      <td>-1.391377</td>\n",
       "      <td>-1.391377</td>\n",
       "    </tr>\n",
       "    <tr>\n",
       "      <th>2</th>\n",
       "      <td>7001</td>\n",
       "      <td>42559</td>\n",
       "      <td>0.30029</td>\n",
       "      <td>0.80172</td>\n",
       "      <td>18.398</td>\n",
       "      <td>2.1830</td>\n",
       "      <td>0.28739</td>\n",
       "      <td>0.82888</td>\n",
       "      <td>16.165</td>\n",
       "      <td>2.0377</td>\n",
       "      <td>1</td>\n",
       "      <td>0</td>\n",
       "      <td>3</td>\n",
       "      <td>0.000066</td>\n",
       "      <td>-3.823625</td>\n",
       "      <td>-1.388193</td>\n",
       "      <td>-1.388193</td>\n",
       "    </tr>\n",
       "    <tr>\n",
       "      <th>3</th>\n",
       "      <td>7000</td>\n",
       "      <td>42558</td>\n",
       "      <td>0.30158</td>\n",
       "      <td>0.80464</td>\n",
       "      <td>18.437</td>\n",
       "      <td>2.1801</td>\n",
       "      <td>0.30005</td>\n",
       "      <td>0.86829</td>\n",
       "      <td>16.255</td>\n",
       "      <td>1.9606</td>\n",
       "      <td>1</td>\n",
       "      <td>0</td>\n",
       "      <td>4</td>\n",
       "      <td>0.000088</td>\n",
       "      <td>-3.752130</td>\n",
       "      <td>-1.382858</td>\n",
       "      <td>-1.382858</td>\n",
       "    </tr>\n",
       "    <tr>\n",
       "      <th>4</th>\n",
       "      <td>6999</td>\n",
       "      <td>42557</td>\n",
       "      <td>0.30209</td>\n",
       "      <td>0.80703</td>\n",
       "      <td>18.436</td>\n",
       "      <td>2.1795</td>\n",
       "      <td>0.30055</td>\n",
       "      <td>0.93291</td>\n",
       "      <td>16.647</td>\n",
       "      <td>1.9463</td>\n",
       "      <td>1</td>\n",
       "      <td>0</td>\n",
       "      <td>5</td>\n",
       "      <td>0.000110</td>\n",
       "      <td>-3.695826</td>\n",
       "      <td>-1.380749</td>\n",
       "      <td>-1.380749</td>\n",
       "    </tr>\n",
       "  </tbody>\n",
       "</table>\n",
       "</div>"
      ],
      "text/plain": [
       "   index  Unnamed       X1       X2      X3      X4       X5       X6      X7  \\\n",
       "0   7003    42561  0.29916  0.80175  18.246  2.1808  0.23119  0.74448  16.434   \n",
       "1   7002    42560  0.29952  0.80114  18.316  2.1830  0.25310  0.78113  16.162   \n",
       "2   7001    42559  0.30029  0.80172  18.398  2.1830  0.28739  0.82888  16.165   \n",
       "3   7000    42558  0.30158  0.80464  18.437  2.1801  0.30005  0.86829  16.255   \n",
       "4   6999    42557  0.30209  0.80703  18.436  2.1795  0.30055  0.93291  16.647   \n",
       "\n",
       "       X8  Sds_Armed  Anomaly_Tag  count  percentile_area  z_theoretical  \\\n",
       "0  2.0543          1            0      1         0.000022      -4.086279   \n",
       "1  2.0623          1            0      2         0.000044      -3.922405   \n",
       "2  2.0377          1            0      3         0.000066      -3.823625   \n",
       "3  1.9606          1            0      4         0.000088      -3.752130   \n",
       "4  1.9463          1            0      5         0.000110      -3.695826   \n",
       "\n",
       "   z_actual  z_actual_X1  \n",
       "0 -1.392866    -1.392866  \n",
       "1 -1.391377    -1.391377  \n",
       "2 -1.388193    -1.388193  \n",
       "3 -1.382858    -1.382858  \n",
       "4 -1.380749    -1.380749  "
      ]
     },
     "execution_count": 37,
     "metadata": {},
     "output_type": "execute_result"
    }
   ],
   "source": [
    "df.head()"
   ]
  },
  {
   "cell_type": "code",
   "execution_count": 39,
   "metadata": {},
   "outputs": [
    {
     "data": {
      "text/plain": [
       "[<matplotlib.lines.Line2D at 0x27ae5ae7438>]"
      ]
     },
     "execution_count": 39,
     "metadata": {},
     "output_type": "execute_result"
    },
    {
     "data": {
      "image/png": "[encoded data removed]",
      "text/plain": [
       "<Figure size 432x288 with 1 Axes>"
      ]
     },
     "metadata": {
      "needs_background": "light"
     },
     "output_type": "display_data"
    }
   ],
   "source": [
    "# Plotting the scatter plot \n",
    "plt.scatter(df.z_actual_X1, df.z_theoretical)\n",
    "plt.title('Feature X1')\n",
    "plt.plot([-4,-2,0,2,4,6,8,10],[-4,-2,0,2,4,6,8,10])"
   ]
  },
  {
   "cell_type": "code",
   "execution_count": 44,
   "metadata": {},
   "outputs": [],
   "source": [
    "df[\"z_actual_X2\"]= (df[\"X2\"]-df[\"X2\"].mean())/df[\"X2\"].std(ddof=0)"
   ]
  },
  {
   "cell_type": "code",
   "execution_count": 46,
   "metadata": {},
   "outputs": [
    {
     "data": {
      "text/plain": [
       "[<matplotlib.lines.Line2D at 0x27ae74d37f0>]"
      ]
     },
     "execution_count": 46,
     "metadata": {},
     "output_type": "execute_result"
    },
    {
     "data": {
      "image/png": "[encoded data removed]",
      "text/plain": [
       "<Figure size 432x288 with 1 Axes>"
      ]
     },
     "metadata": {
      "needs_background": "light"
     },
     "output_type": "display_data"
    }
   ],
   "source": [
    "plt.scatter(df.z_actual_X2, df.z_theoretical)\n",
    "plt.title('Feature X2')\n",
    "plt.plot([-5,0,5,10,15,20],[-5,0,5,10,15,20])"
   ]
  },
  {
   "cell_type": "code",
   "execution_count": 49,
   "metadata": {},
   "outputs": [
    {
     "data": {
      "text/plain": [
       "[<matplotlib.lines.Line2D at 0x27ae7611cf8>]"
      ]
     },
     "execution_count": 49,
     "metadata": {},
     "output_type": "execute_result"
    },
    {
     "data": {
      "image/png": "[encoded data removed]",
      "text/plain": [
       "<Figure size 432x288 with 1 Axes>"
      ]
     },
     "metadata": {
      "needs_background": "light"
     },
     "output_type": "display_data"
    }
   ],
   "source": [
    "df[\"z_actual_X3\"]= (df[\"X3\"]-df[\"X3\"].mean())/df[\"X3\"].std(ddof=0)\n",
    "plt.scatter(df.z_actual_X3, df.z_theoretical)\n",
    "plt.title('Feature X3')\n",
    "plt.plot([-5,0,5,10,15],[-5,0,5,10,15])"
   ]
  },
  {
   "cell_type": "code",
   "execution_count": 50,
   "metadata": {},
   "outputs": [
    {
     "data": {
      "text/plain": [
       "[<matplotlib.lines.Line2D at 0x27ae7688240>]"
      ]
     },
     "execution_count": 50,
     "metadata": {},
     "output_type": "execute_result"
    },
    {
     "data": {
      "image/png": "[encoded data removed]",
      "text/plain": [
       "<Figure size 432x288 with 1 Axes>"
      ]
     },
     "metadata": {
      "needs_background": "light"
     },
     "output_type": "display_data"
    }
   ],
   "source": [
    "df[\"z_actual_X4\"]= (df[\"X4\"]-df[\"X4\"].mean())/df[\"X4\"].std(ddof=0)\n",
    "plt.scatter(df.z_actual_X4, df.z_theoretical)\n",
    "plt.title('Feature X4')\n",
    "plt.plot([-5,0,5,10,15],[-5,0,5,10,15])"
   ]
  },
  {
   "cell_type": "code",
   "execution_count": 51,
   "metadata": {},
   "outputs": [
    {
     "data": {
      "text/plain": [
       "[<matplotlib.lines.Line2D at 0x27ae770aef0>]"
      ]
     },
     "execution_count": 51,
     "metadata": {},
     "output_type": "execute_result"
    },
    {
     "data": {
      "image/png": "[encoded data removed]",
      "text/plain": [
       "<Figure size 432x288 with 1 Axes>"
      ]
     },
     "metadata": {
      "needs_background": "light"
     },
     "output_type": "display_data"
    }
   ],
   "source": [
    "df[\"z_actual_X5\"]= (df[\"X5\"]-df[\"X5\"].mean())/df[\"X5\"].std(ddof=0)\n",
    "plt.scatter(df.z_actual_X5, df.z_theoretical)\n",
    "plt.title('Feature X5')\n",
    "plt.plot([-5,0,5,10,15],[-5,0,5,10,15])"
   ]
  },
  {
   "cell_type": "code",
   "execution_count": 54,
   "metadata": {},
   "outputs": [
    {
     "data": {
      "text/plain": [
       "[<matplotlib.lines.Line2D at 0x27ae7839c18>]"
      ]
     },
     "execution_count": 54,
     "metadata": {},
     "output_type": "execute_result"
    },
    {
     "data": {
      "image/png": "[encoded data removed]",
      "text/plain": [
       "<Figure size 432x288 with 1 Axes>"
      ]
     },
     "metadata": {
      "needs_background": "light"
     },
     "output_type": "display_data"
    }
   ],
   "source": [
    "df[\"z_actual_X6\"]= (df[\"X6\"]-df[\"X6\"].mean())/df[\"X6\"].std(ddof=0)\n",
    "plt.scatter(df.z_actual_X6, df.z_theoretical)\n",
    "plt.title('Feature X6')\n",
    "plt.plot([-5,0,5,10,15,20],[-5,0,5,10,15,20])"
   ]
  },
  {
   "cell_type": "code",
   "execution_count": 55,
   "metadata": {},
   "outputs": [
    {
     "data": {
      "text/plain": [
       "[<matplotlib.lines.Line2D at 0x27ae789df98>]"
      ]
     },
     "execution_count": 55,
     "metadata": {},
     "output_type": "execute_result"
    },
    {
     "data": {
      "image/png": "[encoded data removed]",
      "text/plain": [
       "<Figure size 432x288 with 1 Axes>"
      ]
     },
     "metadata": {
      "needs_background": "light"
     },
     "output_type": "display_data"
    }
   ],
   "source": [
    "df[\"z_actual_X7\"]= (df[\"X7\"]-df[\"X7\"].mean())/df[\"X7\"].std(ddof=0)\n",
    "plt.scatter(df.z_actual_X7, df.z_theoretical)\n",
    "plt.title('Feature X7')\n",
    "plt.plot([0,10,20,30,40],[0,10,20,30,40])"
   ]
  },
  {
   "cell_type": "code",
   "execution_count": 56,
   "metadata": {},
   "outputs": [
    {
     "data": {
      "text/plain": [
       "[<matplotlib.lines.Line2D at 0x27ae78f8ac8>]"
      ]
     },
     "execution_count": 56,
     "metadata": {},
     "output_type": "execute_result"
    },
    {
     "data": {
      "image/png": "[encoded data removed]",
      "text/plain": [
       "<Figure size 432x288 with 1 Axes>"
      ]
     },
     "metadata": {
      "needs_background": "light"
     },
     "output_type": "display_data"
    }
   ],
   "source": [
    "df[\"z_actual_X8\"]= (df[\"X8\"]-df[\"X8\"].mean())/df[\"X8\"].std(ddof=0)\n",
    "plt.scatter(df.z_actual_X8, df.z_theoretical)\n",
    "plt.title('Feature X8')\n",
    "plt.plot([0,10,20,30,40],[0,10,20,30,40])"
   ]
  },
  {
   "cell_type": "code",
   "execution_count": 60,
   "metadata": {},
   "outputs": [
    {
     "data": {
      "text/html": [
       "<div>\n",
       "<style scoped>\n",
       "    .dataframe tbody tr th:only-of-type {\n",
       "        vertical-align: middle;\n",
       "    }\n",
       "\n",
       "    .dataframe tbody tr th {\n",
       "        vertical-align: top;\n",
       "    }\n",
       "\n",
       "    .dataframe thead th {\n",
       "        text-align: right;\n",
       "    }\n",
       "</style>\n",
       "<table border=\"1\" class=\"dataframe\">\n",
       "  <thead>\n",
       "    <tr style=\"text-align: right;\">\n",
       "      <th></th>\n",
       "      <th>index</th>\n",
       "      <th>Unnamed</th>\n",
       "      <th>X1</th>\n",
       "      <th>X2</th>\n",
       "      <th>X3</th>\n",
       "      <th>X4</th>\n",
       "      <th>X5</th>\n",
       "      <th>X6</th>\n",
       "      <th>X7</th>\n",
       "      <th>X8</th>\n",
       "      <th>...</th>\n",
       "      <th>z_actual_X1</th>\n",
       "      <th>z_actual_X2</th>\n",
       "      <th>z_actual_X3</th>\n",
       "      <th>z_actual_X4</th>\n",
       "      <th>z_actual_X5</th>\n",
       "      <th>z_actual_X6</th>\n",
       "      <th>z_actual_X7</th>\n",
       "      <th>z_actual_X8</th>\n",
       "      <th>log_value_X1</th>\n",
       "      <th>z_actual_X1_log</th>\n",
       "    </tr>\n",
       "  </thead>\n",
       "  <tbody>\n",
       "    <tr>\n",
       "      <th>0</th>\n",
       "      <td>7003</td>\n",
       "      <td>42561</td>\n",
       "      <td>0.29916</td>\n",
       "      <td>0.80175</td>\n",
       "      <td>18.246</td>\n",
       "      <td>2.1808</td>\n",
       "      <td>0.23119</td>\n",
       "      <td>0.74448</td>\n",
       "      <td>16.434</td>\n",
       "      <td>2.0543</td>\n",
       "      <td>...</td>\n",
       "      <td>-1.392866</td>\n",
       "      <td>-0.433868</td>\n",
       "      <td>-0.131546</td>\n",
       "      <td>-0.177616</td>\n",
       "      <td>-1.053955</td>\n",
       "      <td>-0.399030</td>\n",
       "      <td>-0.018743</td>\n",
       "      <td>-0.103176</td>\n",
       "      <td>-1.206777</td>\n",
       "      <td>-2.141636</td>\n",
       "    </tr>\n",
       "    <tr>\n",
       "      <th>1</th>\n",
       "      <td>7002</td>\n",
       "      <td>42560</td>\n",
       "      <td>0.29952</td>\n",
       "      <td>0.80114</td>\n",
       "      <td>18.316</td>\n",
       "      <td>2.1830</td>\n",
       "      <td>0.25310</td>\n",
       "      <td>0.78113</td>\n",
       "      <td>16.162</td>\n",
       "      <td>2.0623</td>\n",
       "      <td>...</td>\n",
       "      <td>-1.391377</td>\n",
       "      <td>-0.434120</td>\n",
       "      <td>-0.130515</td>\n",
       "      <td>-0.177588</td>\n",
       "      <td>-0.993559</td>\n",
       "      <td>-0.382755</td>\n",
       "      <td>-0.027760</td>\n",
       "      <td>-0.102755</td>\n",
       "      <td>-1.205574</td>\n",
       "      <td>-2.137938</td>\n",
       "    </tr>\n",
       "    <tr>\n",
       "      <th>2</th>\n",
       "      <td>7001</td>\n",
       "      <td>42559</td>\n",
       "      <td>0.30029</td>\n",
       "      <td>0.80172</td>\n",
       "      <td>18.398</td>\n",
       "      <td>2.1830</td>\n",
       "      <td>0.28739</td>\n",
       "      <td>0.82888</td>\n",
       "      <td>16.165</td>\n",
       "      <td>2.0377</td>\n",
       "      <td>...</td>\n",
       "      <td>-1.388193</td>\n",
       "      <td>-0.433881</td>\n",
       "      <td>-0.129307</td>\n",
       "      <td>-0.177588</td>\n",
       "      <td>-0.899038</td>\n",
       "      <td>-0.361551</td>\n",
       "      <td>-0.027660</td>\n",
       "      <td>-0.104049</td>\n",
       "      <td>-1.203007</td>\n",
       "      <td>-2.130044</td>\n",
       "    </tr>\n",
       "    <tr>\n",
       "      <th>3</th>\n",
       "      <td>7000</td>\n",
       "      <td>42558</td>\n",
       "      <td>0.30158</td>\n",
       "      <td>0.80464</td>\n",
       "      <td>18.437</td>\n",
       "      <td>2.1801</td>\n",
       "      <td>0.30005</td>\n",
       "      <td>0.86829</td>\n",
       "      <td>16.255</td>\n",
       "      <td>1.9606</td>\n",
       "      <td>...</td>\n",
       "      <td>-1.382858</td>\n",
       "      <td>-0.432675</td>\n",
       "      <td>-0.128733</td>\n",
       "      <td>-0.177624</td>\n",
       "      <td>-0.864140</td>\n",
       "      <td>-0.344050</td>\n",
       "      <td>-0.024677</td>\n",
       "      <td>-0.108104</td>\n",
       "      <td>-1.198720</td>\n",
       "      <td>-2.116864</td>\n",
       "    </tr>\n",
       "    <tr>\n",
       "      <th>4</th>\n",
       "      <td>6999</td>\n",
       "      <td>42557</td>\n",
       "      <td>0.30209</td>\n",
       "      <td>0.80703</td>\n",
       "      <td>18.436</td>\n",
       "      <td>2.1795</td>\n",
       "      <td>0.30055</td>\n",
       "      <td>0.93291</td>\n",
       "      <td>16.647</td>\n",
       "      <td>1.9463</td>\n",
       "      <td>...</td>\n",
       "      <td>-1.380749</td>\n",
       "      <td>-0.431687</td>\n",
       "      <td>-0.128748</td>\n",
       "      <td>-0.177632</td>\n",
       "      <td>-0.862762</td>\n",
       "      <td>-0.315354</td>\n",
       "      <td>-0.011682</td>\n",
       "      <td>-0.108856</td>\n",
       "      <td>-1.197030</td>\n",
       "      <td>-2.111669</td>\n",
       "    </tr>\n",
       "  </tbody>\n",
       "</table>\n",
       "<p>5 rows × 26 columns</p>\n",
       "</div>"
      ],
      "text/plain": [
       "   index  Unnamed       X1       X2      X3      X4       X5       X6      X7  \\\n",
       "0   7003    42561  0.29916  0.80175  18.246  2.1808  0.23119  0.74448  16.434   \n",
       "1   7002    42560  0.29952  0.80114  18.316  2.1830  0.25310  0.78113  16.162   \n",
       "2   7001    42559  0.30029  0.80172  18.398  2.1830  0.28739  0.82888  16.165   \n",
       "3   7000    42558  0.30158  0.80464  18.437  2.1801  0.30005  0.86829  16.255   \n",
       "4   6999    42557  0.30209  0.80703  18.436  2.1795  0.30055  0.93291  16.647   \n",
       "\n",
       "       X8  ...  z_actual_X1  z_actual_X2  z_actual_X3  z_actual_X4  \\\n",
       "0  2.0543  ...    -1.392866    -0.433868    -0.131546    -0.177616   \n",
       "1  2.0623  ...    -1.391377    -0.434120    -0.130515    -0.177588   \n",
       "2  2.0377  ...    -1.388193    -0.433881    -0.129307    -0.177588   \n",
       "3  1.9606  ...    -1.382858    -0.432675    -0.128733    -0.177624   \n",
       "4  1.9463  ...    -1.380749    -0.431687    -0.128748    -0.177632   \n",
       "\n",
       "   z_actual_X5  z_actual_X6  z_actual_X7  z_actual_X8  log_value_X1  \\\n",
       "0    -1.053955    -0.399030    -0.018743    -0.103176     -1.206777   \n",
       "1    -0.993559    -0.382755    -0.027760    -0.102755     -1.205574   \n",
       "2    -0.899038    -0.361551    -0.027660    -0.104049     -1.203007   \n",
       "3    -0.864140    -0.344050    -0.024677    -0.108104     -1.198720   \n",
       "4    -0.862762    -0.315354    -0.011682    -0.108856     -1.197030   \n",
       "\n",
       "   z_actual_X1_log  \n",
       "0        -2.141636  \n",
       "1        -2.137938  \n",
       "2        -2.130044  \n",
       "3        -2.116864  \n",
       "4        -2.111669  \n",
       "\n",
       "[5 rows x 26 columns]"
      ]
     },
     "execution_count": 60,
     "metadata": {},
     "output_type": "execute_result"
    }
   ],
   "source": [
    "df['log_value_X1'] = np.log(df['X1'])\n",
    "df.head()"
   ]
  },
  {
   "cell_type": "code",
   "execution_count": 63,
   "metadata": {},
   "outputs": [
    {
     "data": {
      "text/plain": [
       "[<matplotlib.lines.Line2D at 0x27ae7b32f98>]"
      ]
     },
     "execution_count": 63,
     "metadata": {},
     "output_type": "execute_result"
    },
    {
     "data": {
      "image/png": "[encoded data removed]",
      "text/plain": [
       "<Figure size 432x288 with 1 Axes>"
      ]
     },
     "metadata": {
      "needs_background": "light"
     },
     "output_type": "display_data"
    }
   ],
   "source": [
    "df[\"z_actual_X1_log\"]= (df[\"log_value_X1\"]-df[\"log_value_X1\"].mean())/df[\"log_value_X1\"].std(ddof=0)\n",
    "plt.scatter(df.z_actual_X1_log, df.z_theoretical)\n",
    "plt.title('Feature X1')\n",
    "plt.plot([-4,-2,0,2,4,6],[-4,-2,0,2,4,6])"
   ]
  },
  {
   "cell_type": "code",
   "execution_count": 61,
   "metadata": {},
   "outputs": [],
   "source": [
    "df['log_value_X2'] = np.log(df['X2'])\n",
    "df['log_value_X3'] = np.log(df['X3'])\n",
    "df['log_value_X4'] = np.log(df['X4'])\n",
    "df['log_value_X5'] = np.log(df['X5'])\n",
    "df['log_value_X6'] = np.log(df['X6'])\n",
    "df['log_value_X7'] = np.log(df['X7'])\n",
    "df['log_value_X8'] = np.log(df['X8'])"
   ]
  },
  {
   "cell_type": "code",
   "execution_count": 64,
   "metadata": {},
   "outputs": [
    {
     "data": {
      "text/plain": [
       "[<matplotlib.lines.Line2D at 0x27ae7ba62e8>]"
      ]
     },
     "execution_count": 64,
     "metadata": {},
     "output_type": "execute_result"
    },
    {
     "data": {
      "image/png": "[encoded data removed]",
      "text/plain": [
       "<Figure size 432x288 with 1 Axes>"
      ]
     },
     "metadata": {
      "needs_background": "light"
     },
     "output_type": "display_data"
    }
   ],
   "source": [
    "df[\"z_actual_X2_log\"]= (df[\"log_value_X2\"]-df[\"log_value_X2\"].mean())/df[\"log_value_X2\"].std(ddof=0)\n",
    "plt.scatter(df.z_actual_X2_log, df.z_theoretical)\n",
    "plt.title('Feature X2')\n",
    "plt.plot([-5,-2.5,0,2.5,5.5,7.5],[-5,-2.5,0,2.5,5.5,7.5])"
   ]
  },
  {
   "cell_type": "code",
   "execution_count": 66,
   "metadata": {},
   "outputs": [
    {
     "data": {
      "text/plain": [
       "[<matplotlib.lines.Line2D at 0x27ae7c67d68>]"
      ]
     },
     "execution_count": 66,
     "metadata": {},
     "output_type": "execute_result"
    },
    {
     "data": {
      "image/png": "[encoded data removed]",
      "text/plain": [
       "<Figure size 432x288 with 1 Axes>"
      ]
     },
     "metadata": {
      "needs_background": "light"
     },
     "output_type": "display_data"
    }
   ],
   "source": [
    "df[\"z_actual_X3_log\"]= (df[\"log_value_X3\"]-df[\"log_value_X3\"].mean())/df[\"log_value_X3\"].std(ddof=0)\n",
    "plt.scatter(df.z_actual_X3_log, df.z_theoretical)\n",
    "plt.title('Feature X3')\n",
    "plt.plot([-2,0,2,4,6],[-2,0,2,4,6])"
   ]
  },
  {
   "cell_type": "code",
   "execution_count": 68,
   "metadata": {},
   "outputs": [
    {
     "data": {
      "text/plain": [
       "[<matplotlib.lines.Line2D at 0x27ae8d25f28>]"
      ]
     },
     "execution_count": 68,
     "metadata": {},
     "output_type": "execute_result"
    },
    {
     "data": {
      "image/png": "[encoded data removed]",
      "text/plain": [
       "<Figure size 432x288 with 1 Axes>"
      ]
     },
     "metadata": {
      "needs_background": "light"
     },
     "output_type": "display_data"
    }
   ],
   "source": [
    "df[\"z_actual_X4_log\"]= (df[\"log_value_X4\"]-df[\"log_value_X4\"].mean())/df[\"log_value_X4\"].std(ddof=0)\n",
    "plt.scatter(df.z_actual_X4_log, df.z_theoretical)\n",
    "plt.title('Feature X4')\n",
    "plt.plot([-1,0,1,2,3,4,5,6],[-1,0,1,2,3,4,5,6])"
   ]
  },
  {
   "cell_type": "code",
   "execution_count": 70,
   "metadata": {},
   "outputs": [
    {
     "data": {
      "text/plain": [
       "[<matplotlib.lines.Line2D at 0x27ae8de0da0>]"
      ]
     },
     "execution_count": 70,
     "metadata": {},
     "output_type": "execute_result"
    },
    {
     "data": {
      "image/png": "[encoded data removed]",
      "text/plain": [
       "<Figure size 432x288 with 1 Axes>"
      ]
     },
     "metadata": {
      "needs_background": "light"
     },
     "output_type": "display_data"
    }
   ],
   "source": [
    "df[\"z_actual_X5_log\"]= (df[\"log_value_X5\"]-df[\"log_value_X5\"].mean())/df[\"log_value_X5\"].std(ddof=0)\n",
    "plt.scatter(df.z_actual_X5_log, df.z_theoretical)\n",
    "plt.title('Feature X5')\n",
    "plt.plot([-2,0,2,4,6],[-2,0,2,4,6])"
   ]
  },
  {
   "cell_type": "code",
   "execution_count": 71,
   "metadata": {},
   "outputs": [
    {
     "data": {
      "text/plain": [
       "[<matplotlib.lines.Line2D at 0x27ae8e37c18>]"
      ]
     },
     "execution_count": 71,
     "metadata": {},
     "output_type": "execute_result"
    },
    {
     "data": {
      "image/png": "[encoded data removed]",
      "text/plain": [
       "<Figure size 432x288 with 1 Axes>"
      ]
     },
     "metadata": {
      "needs_background": "light"
     },
     "output_type": "display_data"
    }
   ],
   "source": [
    "df[\"z_actual_X6_log\"]= (df[\"log_value_X6\"]-df[\"log_value_X6\"].mean())/df[\"log_value_X6\"].std(ddof=0)\n",
    "plt.scatter(df.z_actual_X6_log, df.z_theoretical)\n",
    "plt.title('Feature X6')\n",
    "plt.plot([-2,0,2,4,6],[-2,0,2,4,6])"
   ]
  },
  {
   "cell_type": "code",
   "execution_count": 72,
   "metadata": {},
   "outputs": [
    {
     "data": {
      "text/plain": [
       "[<matplotlib.lines.Line2D at 0x27ae8ea4a58>]"
      ]
     },
     "execution_count": 72,
     "metadata": {},
     "output_type": "execute_result"
    },
    {
     "data": {
      "image/png": "[encoded data removed]",
      "text/plain": [
       "<Figure size 432x288 with 1 Axes>"
      ]
     },
     "metadata": {
      "needs_background": "light"
     },
     "output_type": "display_data"
    }
   ],
   "source": [
    "df[\"z_actual_X7_log\"]= (df[\"log_value_X7\"]-df[\"log_value_X7\"].mean())/df[\"log_value_X7\"].std(ddof=0)\n",
    "plt.scatter(df.z_actual_X7_log, df.z_theoretical)\n",
    "plt.title('Feature X7')\n",
    "plt.plot([-2,0,2,4,6],[-2,0,2,4,6])"
   ]
  },
  {
   "cell_type": "code",
   "execution_count": 74,
   "metadata": {},
   "outputs": [
    {
     "data": {
      "text/plain": [
       "[<matplotlib.lines.Line2D at 0x27ae8f5ebe0>]"
      ]
     },
     "execution_count": 74,
     "metadata": {},
     "output_type": "execute_result"
    },
    {
     "data": {
      "image/png": "[encoded data removed]",
      "text/plain": [
       "<Figure size 432x288 with 1 Axes>"
      ]
     },
     "metadata": {
      "needs_background": "light"
     },
     "output_type": "display_data"
    }
   ],
   "source": [
    "df[\"z_actual_X8_log\"]= (df[\"log_value_X8\"]-df[\"log_value_X8\"].mean())/df[\"log_value_X8\"].std(ddof=0)\n",
    "plt.scatter(df.z_actual_X8_log, df.z_theoretical)\n",
    "plt.title('Feature X7')\n",
    "plt.plot([-2,0,2,4,6,8],[-2,0,2,4,6,8])"
   ]
  },
  {
   "cell_type": "code",
   "execution_count": null,
   "metadata": {},
   "outputs": [],
   "source": []
  }
 ],
 "metadata": {
  "kernelspec": {
   "display_name": "Python 3",
   "language": "python",
   "name": "python3"
  },
  "language_info": {
   "codemirror_mode": {
    "name": "ipython",
    "version": 3
   },
   "file_extension": ".py",
   "mimetype": "text/x-python",
   "name": "python",
   "nbconvert_exporter": "python",
   "pygments_lexer": "ipython3",
   "version": "3.7.6"
  }
 },
 "nbformat": 4,
 "nbformat_minor": 2
}
