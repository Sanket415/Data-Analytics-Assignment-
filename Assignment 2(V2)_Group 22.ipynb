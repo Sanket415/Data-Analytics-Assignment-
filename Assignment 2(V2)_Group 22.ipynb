{
 "cells": [
  {
   "cell_type": "markdown",
   "metadata": {},
   "source": [
    "# Assignment - 1\n",
    "Group No: 22; \n",
    "Deep Singh     251122489,\n",
    "Mandeep Singh  251122474,\n",
    "Sanket Salunke 251102392"
   ]
  },
  {
   "cell_type": "markdown",
   "metadata": {},
   "source": [
    "#### Dependencies\n",
    "First of all, we will import the libraries for the basic requirements such as mathematical calculations, plotting graphs, data visualization, etc and then we will import question specific libraries."
   ]
  },
  {
   "cell_type": "code",
   "execution_count": 67,
   "metadata": {},
   "outputs": [],
   "source": [
    "import matplotlib.pyplot as plt\n",
    "import pandas as pd\n",
    "import numpy as np\n",
    "import seaborn as sns\n",
    "import math\n",
    "\n",
    "import datetime                                  #Q10\n",
    "import tracemalloc \n",
    "\n",
    "import scipy.stats as stats\n",
    "\n",
    "from glob import glob                             #Q1\n",
    "\n",
    "from sklearn.feature_selection import SelectKBest #Q2\n",
    "from sklearn.feature_selection import chi2\n",
    "from sklearn import preprocessing\n",
    "\n",
    "from scipy.stats import norm                      #Q3\n",
    "from sklearn.preprocessing import MinMaxScaler\n",
    "\n",
    "from sklearn.decomposition import PCA             #Q3c\n",
    "from sklearn.preprocessing import StandardScaler\n",
    "from sklearn import decomposition\n",
    "\n",
    "from scipy.stats import multivariate_normal       #Q5\n",
    "\n",
    "from sklearn.metrics import f1_score              #Q6\n",
    "from sklearn.metrics import recall_score\n",
    "from sklearn.metrics import precision_score\n",
    "\n",
    "from sklearn.model_selection import train_test_split # Q8\n",
    "from sklearn.preprocessing import StandardScaler \n",
    "from sklearn.neighbors import KNeighborsClassifier\n",
    "from sklearn.linear_model import LogisticRegression\n",
    "from sklearn.metrics import confusion_matrix \n",
    "\n",
    "from sklearn.cluster import KMeans #Q9\n",
    "\n",
    "from numpy.random import seed\n",
    "\n",
    "%matplotlib inline"
   ]
  },
  {
   "cell_type": "markdown",
   "metadata": {},
   "source": [
    "# Data Preparation"
   ]
  },
  {
   "cell_type": "code",
   "execution_count": 68,
   "metadata": {},
   "outputs": [
    {
     "data": {
      "text/html": [
       "<div>\n",
       "<style scoped>\n",
       "    .dataframe tbody tr th:only-of-type {\n",
       "        vertical-align: middle;\n",
       "    }\n",
       "\n",
       "    .dataframe tbody tr th {\n",
       "        vertical-align: top;\n",
       "    }\n",
       "\n",
       "    .dataframe thead th {\n",
       "        text-align: right;\n",
       "    }\n",
       "</style>\n",
       "<table border=\"1\" class=\"dataframe\">\n",
       "  <thead>\n",
       "    <tr style=\"text-align: right;\">\n",
       "      <th></th>\n",
       "      <th>X1</th>\n",
       "      <th>X2</th>\n",
       "      <th>X3</th>\n",
       "      <th>X4</th>\n",
       "      <th>X5</th>\n",
       "      <th>X6</th>\n",
       "      <th>X7</th>\n",
       "      <th>X8</th>\n",
       "      <th>Sds_Armed</th>\n",
       "      <th>Anomaly_Tag</th>\n",
       "    </tr>\n",
       "  </thead>\n",
       "  <tbody>\n",
       "    <tr>\n",
       "      <th>0</th>\n",
       "      <td>0.006286</td>\n",
       "      <td>0.011072</td>\n",
       "      <td>0.088714</td>\n",
       "      <td>0.036855</td>\n",
       "      <td>0.12677</td>\n",
       "      <td>0.22329</td>\n",
       "      <td>1.7891</td>\n",
       "      <td>0.74325</td>\n",
       "      <td>0</td>\n",
       "      <td>0</td>\n",
       "    </tr>\n",
       "    <tr>\n",
       "      <th>1</th>\n",
       "      <td>0.008937</td>\n",
       "      <td>0.015274</td>\n",
       "      <td>0.119970</td>\n",
       "      <td>0.051323</td>\n",
       "      <td>0.18024</td>\n",
       "      <td>0.30803</td>\n",
       "      <td>2.4193</td>\n",
       "      <td>1.03500</td>\n",
       "      <td>0</td>\n",
       "      <td>0</td>\n",
       "    </tr>\n",
       "    <tr>\n",
       "      <th>2</th>\n",
       "      <td>0.012156</td>\n",
       "      <td>0.019694</td>\n",
       "      <td>0.150640</td>\n",
       "      <td>0.064529</td>\n",
       "      <td>0.24514</td>\n",
       "      <td>0.39717</td>\n",
       "      <td>3.0379</td>\n",
       "      <td>1.30130</td>\n",
       "      <td>0</td>\n",
       "      <td>0</td>\n",
       "    </tr>\n",
       "    <tr>\n",
       "      <th>3</th>\n",
       "      <td>0.015202</td>\n",
       "      <td>0.024273</td>\n",
       "      <td>0.179940</td>\n",
       "      <td>0.075763</td>\n",
       "      <td>0.30658</td>\n",
       "      <td>0.48950</td>\n",
       "      <td>3.6288</td>\n",
       "      <td>1.52790</td>\n",
       "      <td>0</td>\n",
       "      <td>0</td>\n",
       "    </tr>\n",
       "    <tr>\n",
       "      <th>4</th>\n",
       "      <td>0.017572</td>\n",
       "      <td>0.028237</td>\n",
       "      <td>0.208750</td>\n",
       "      <td>0.087763</td>\n",
       "      <td>0.30470</td>\n",
       "      <td>0.48138</td>\n",
       "      <td>3.6888</td>\n",
       "      <td>1.55960</td>\n",
       "      <td>0</td>\n",
       "      <td>0</td>\n",
       "    </tr>\n",
       "  </tbody>\n",
       "</table>\n",
       "</div>"
      ],
      "text/plain": [
       "         X1        X2        X3        X4       X5       X6      X7       X8  \\\n",
       "0  0.006286  0.011072  0.088714  0.036855  0.12677  0.22329  1.7891  0.74325   \n",
       "1  0.008937  0.015274  0.119970  0.051323  0.18024  0.30803  2.4193  1.03500   \n",
       "2  0.012156  0.019694  0.150640  0.064529  0.24514  0.39717  3.0379  1.30130   \n",
       "3  0.015202  0.024273  0.179940  0.075763  0.30658  0.48950  3.6288  1.52790   \n",
       "4  0.017572  0.028237  0.208750  0.087763  0.30470  0.48138  3.6888  1.55960   \n",
       "\n",
       "   Sds_Armed  Anomaly_Tag  \n",
       "0          0            0  \n",
       "1          0            0  \n",
       "2          0            0  \n",
       "3          0            0  \n",
       "4          0            0  "
      ]
     },
     "execution_count": 68,
     "metadata": {},
     "output_type": "execute_result"
    }
   ],
   "source": [
    "path = r'C:\\Users\\dpsin\\GitHub\\ECE9039_Assignment1\\Normal_Experiments' #specifying path\n",
    "all_files = glob(path + \"/*.csv\")                                      #use glob function to create wildcard for all file names\n",
    "li = []                                                                #empty list to store file \n",
    "for filename in all_files:                                             #read all files using iteration\n",
    "    df = pd.read_csv(filename, index_col=None, header=0)\n",
    "    li.append(df)                                                      \n",
    "frame = pd.concat(li, axis=0, ignore_index=True)                       #merge files into one\n",
    "frame.head()"
   ]
  },
  {
   "cell_type": "code",
   "execution_count": 69,
   "metadata": {
    "scrolled": true
   },
   "outputs": [
    {
     "data": {
      "text/html": [
       "<div>\n",
       "<style scoped>\n",
       "    .dataframe tbody tr th:only-of-type {\n",
       "        vertical-align: middle;\n",
       "    }\n",
       "\n",
       "    .dataframe tbody tr th {\n",
       "        vertical-align: top;\n",
       "    }\n",
       "\n",
       "    .dataframe thead th {\n",
       "        text-align: right;\n",
       "    }\n",
       "</style>\n",
       "<table border=\"1\" class=\"dataframe\">\n",
       "  <thead>\n",
       "    <tr style=\"text-align: right;\">\n",
       "      <th></th>\n",
       "      <th>X1</th>\n",
       "      <th>X2</th>\n",
       "      <th>X3</th>\n",
       "      <th>X4</th>\n",
       "      <th>X5</th>\n",
       "      <th>X6</th>\n",
       "      <th>X7</th>\n",
       "      <th>X8</th>\n",
       "      <th>Sds_Armed</th>\n",
       "      <th>Anomaly_Tag</th>\n",
       "    </tr>\n",
       "  </thead>\n",
       "  <tbody>\n",
       "    <tr>\n",
       "      <th>622</th>\n",
       "      <td>0.42051</td>\n",
       "      <td>0.73265</td>\n",
       "      <td>6.0160</td>\n",
       "      <td>1.4258</td>\n",
       "      <td>0.22390</td>\n",
       "      <td>0.44638</td>\n",
       "      <td>4.9892</td>\n",
       "      <td>1.3106</td>\n",
       "      <td>1</td>\n",
       "      <td>0</td>\n",
       "    </tr>\n",
       "    <tr>\n",
       "      <th>623</th>\n",
       "      <td>0.41743</td>\n",
       "      <td>0.72691</td>\n",
       "      <td>6.0102</td>\n",
       "      <td>1.4259</td>\n",
       "      <td>0.21750</td>\n",
       "      <td>0.44326</td>\n",
       "      <td>5.0469</td>\n",
       "      <td>1.3243</td>\n",
       "      <td>1</td>\n",
       "      <td>0</td>\n",
       "    </tr>\n",
       "    <tr>\n",
       "      <th>624</th>\n",
       "      <td>0.41608</td>\n",
       "      <td>0.72337</td>\n",
       "      <td>6.0093</td>\n",
       "      <td>1.4254</td>\n",
       "      <td>0.21875</td>\n",
       "      <td>0.44661</td>\n",
       "      <td>5.0830</td>\n",
       "      <td>1.3227</td>\n",
       "      <td>1</td>\n",
       "      <td>0</td>\n",
       "    </tr>\n",
       "    <tr>\n",
       "      <th>625</th>\n",
       "      <td>0.41517</td>\n",
       "      <td>0.72154</td>\n",
       "      <td>6.0002</td>\n",
       "      <td>1.4261</td>\n",
       "      <td>0.23488</td>\n",
       "      <td>0.46345</td>\n",
       "      <td>4.9672</td>\n",
       "      <td>1.3509</td>\n",
       "      <td>1</td>\n",
       "      <td>0</td>\n",
       "    </tr>\n",
       "    <tr>\n",
       "      <th>626</th>\n",
       "      <td>0.41376</td>\n",
       "      <td>0.71773</td>\n",
       "      <td>5.9814</td>\n",
       "      <td>1.4257</td>\n",
       "      <td>0.25363</td>\n",
       "      <td>0.48208</td>\n",
       "      <td>4.8346</td>\n",
       "      <td>1.3580</td>\n",
       "      <td>1</td>\n",
       "      <td>0</td>\n",
       "    </tr>\n",
       "  </tbody>\n",
       "</table>\n",
       "</div>"
      ],
      "text/plain": [
       "          X1       X2      X3      X4       X5       X6      X7      X8  \\\n",
       "622  0.42051  0.73265  6.0160  1.4258  0.22390  0.44638  4.9892  1.3106   \n",
       "623  0.41743  0.72691  6.0102  1.4259  0.21750  0.44326  5.0469  1.3243   \n",
       "624  0.41608  0.72337  6.0093  1.4254  0.21875  0.44661  5.0830  1.3227   \n",
       "625  0.41517  0.72154  6.0002  1.4261  0.23488  0.46345  4.9672  1.3509   \n",
       "626  0.41376  0.71773  5.9814  1.4257  0.25363  0.48208  4.8346  1.3580   \n",
       "\n",
       "     Sds_Armed  Anomaly_Tag  \n",
       "622          1            0  \n",
       "623          1            0  \n",
       "624          1            0  \n",
       "625          1            0  \n",
       "626          1            0  "
      ]
     },
     "execution_count": 69,
     "metadata": {},
     "output_type": "execute_result"
    }
   ],
   "source": [
    "index = frame[frame['Sds_Armed'] == 0].index                                #find rows with SDs_Armed=0\n",
    "frame.drop(index, inplace = True)                                           #drop rows with SDs_Armed=0\n",
    "# Export merged file to local directory with name 'merged_exp_normal.csv'\n",
    "frame.to_csv(r'C:\\Users\\dpsin\\GitHub\\ECE9039_Assignment1\\merged_exp_normal.csv') #export file\n",
    "\n",
    "#verify Sds_armed=1\n",
    "frame.head()                                                                     #verify remaining data for SDs_Armed=1"
   ]
  },
  {
   "cell_type": "code",
   "execution_count": 70,
   "metadata": {},
   "outputs": [],
   "source": [
    "# Read all 'Experiments_with_Anomalies' files\n",
    "path = r'C:\\Users\\dpsin\\GitHub\\ECE9039_Assignment1\\Experiments_with_Anomalies' #specifying path\n",
    "all_files = glob(path + \"/*.csv\")                                              #use glob function to create wildcard for all file names\n",
    "li = []                                                                        #empty list to store file \n",
    "\n",
    "# Merge all 'Experiments_with_Anomalies' files into one merged file\n",
    "for filename in all_files:                                                     #read all files using iteration\n",
    "    df = pd.read_csv(filename, index_col=None, header=0)\n",
    "    li.append(df)                                                      \n",
    "frame = pd.concat(li, axis=0, ignore_index=True)                               #merge files into one\n",
    "index = frame[frame['Sds_Armed'] == 0].index                                   #find rows with SDs_Armed=0\n",
    "frame.drop(index, inplace = True)                                              #drop rows with SDs_Armed=0\n",
    "frame.to_csv(r'C:\\Users\\dpsin\\GitHub\\ECE9039_Assignment1\\merged_exp_contains_anomalies.csv') #export file"
   ]
  },
  {
   "cell_type": "code",
   "execution_count": 71,
   "metadata": {},
   "outputs": [
    {
     "name": "stdout",
     "output_type": "stream",
     "text": [
      "<class 'pandas.core.frame.DataFrame'>\n",
      "Int64Index: 45626 entries, 745 to 324847\n",
      "Data columns (total 10 columns):\n",
      " #   Column       Non-Null Count  Dtype  \n",
      "---  ------       --------------  -----  \n",
      " 0   X1           45626 non-null  float64\n",
      " 1   X2           45626 non-null  float64\n",
      " 2   X3           45626 non-null  float64\n",
      " 3   X4           45626 non-null  float64\n",
      " 4   X5           45626 non-null  float64\n",
      " 5   X6           45626 non-null  float64\n",
      " 6   X7           45626 non-null  float64\n",
      " 7   X8           45626 non-null  float64\n",
      " 8   Sds_Armed    45626 non-null  int64  \n",
      " 9   Anomaly_Tag  45626 non-null  int64  \n",
      "dtypes: float64(8), int64(2)\n",
      "memory usage: 3.8 MB\n"
     ]
    }
   ],
   "source": [
    "#verify Sds_armed=1\n",
    "frame.info()"
   ]
  },
  {
   "cell_type": "markdown",
   "metadata": {},
   "source": [
    "###### Preparing dataset"
   ]
  },
  {
   "cell_type": "code",
   "execution_count": 72,
   "metadata": {},
   "outputs": [],
   "source": [
    "#Anomalous Dataset\n",
    "dfa = pd.read_csv(\"merged_exp_contains_anomalies.csv\")\n",
    "dfa = dfa.drop(dfa.columns[[0,9]], axis = 1)\n",
    "\n",
    "#Normal Dataset\n",
    "dfn = pd.read_csv(\"merged_exp_normal.csv\")\n",
    "dfn = dfn.drop(dfn.columns[[0,9]], axis = 1)"
   ]
  },
  {
   "cell_type": "code",
   "execution_count": 73,
   "metadata": {},
   "outputs": [
    {
     "data": {
      "text/html": [
       "<div>\n",
       "<style scoped>\n",
       "    .dataframe tbody tr th:only-of-type {\n",
       "        vertical-align: middle;\n",
       "    }\n",
       "\n",
       "    .dataframe tbody tr th {\n",
       "        vertical-align: top;\n",
       "    }\n",
       "\n",
       "    .dataframe thead th {\n",
       "        text-align: right;\n",
       "    }\n",
       "</style>\n",
       "<table border=\"1\" class=\"dataframe\">\n",
       "  <thead>\n",
       "    <tr style=\"text-align: right;\">\n",
       "      <th></th>\n",
       "      <th>X1</th>\n",
       "      <th>X2</th>\n",
       "      <th>X3</th>\n",
       "      <th>X4</th>\n",
       "      <th>X5</th>\n",
       "      <th>X6</th>\n",
       "      <th>X7</th>\n",
       "      <th>X8</th>\n",
       "      <th>Anomaly_Tag</th>\n",
       "    </tr>\n",
       "  </thead>\n",
       "  <tbody>\n",
       "    <tr>\n",
       "      <th>0</th>\n",
       "      <td>1.7957</td>\n",
       "      <td>6.1964</td>\n",
       "      <td>508.57</td>\n",
       "      <td>875.40</td>\n",
       "      <td>0.43922</td>\n",
       "      <td>1.5473</td>\n",
       "      <td>57.021</td>\n",
       "      <td>56.914</td>\n",
       "      <td>0</td>\n",
       "    </tr>\n",
       "    <tr>\n",
       "      <th>1</th>\n",
       "      <td>1.7851</td>\n",
       "      <td>6.1508</td>\n",
       "      <td>503.90</td>\n",
       "      <td>867.18</td>\n",
       "      <td>0.43947</td>\n",
       "      <td>1.3525</td>\n",
       "      <td>53.658</td>\n",
       "      <td>58.856</td>\n",
       "      <td>0</td>\n",
       "    </tr>\n",
       "    <tr>\n",
       "      <th>2</th>\n",
       "      <td>1.7760</td>\n",
       "      <td>6.1173</td>\n",
       "      <td>499.62</td>\n",
       "      <td>860.56</td>\n",
       "      <td>0.42528</td>\n",
       "      <td>1.3391</td>\n",
       "      <td>52.551</td>\n",
       "      <td>69.101</td>\n",
       "      <td>0</td>\n",
       "    </tr>\n",
       "    <tr>\n",
       "      <th>3</th>\n",
       "      <td>1.7641</td>\n",
       "      <td>6.0799</td>\n",
       "      <td>494.07</td>\n",
       "      <td>851.51</td>\n",
       "      <td>0.42802</td>\n",
       "      <td>1.3679</td>\n",
       "      <td>51.228</td>\n",
       "      <td>75.935</td>\n",
       "      <td>0</td>\n",
       "    </tr>\n",
       "    <tr>\n",
       "      <th>4</th>\n",
       "      <td>1.7525</td>\n",
       "      <td>6.0333</td>\n",
       "      <td>486.73</td>\n",
       "      <td>840.86</td>\n",
       "      <td>0.40701</td>\n",
       "      <td>1.3128</td>\n",
       "      <td>47.228</td>\n",
       "      <td>72.784</td>\n",
       "      <td>0</td>\n",
       "    </tr>\n",
       "  </tbody>\n",
       "</table>\n",
       "</div>"
      ],
      "text/plain": [
       "       X1      X2      X3      X4       X5      X6      X7      X8  \\\n",
       "0  1.7957  6.1964  508.57  875.40  0.43922  1.5473  57.021  56.914   \n",
       "1  1.7851  6.1508  503.90  867.18  0.43947  1.3525  53.658  58.856   \n",
       "2  1.7760  6.1173  499.62  860.56  0.42528  1.3391  52.551  69.101   \n",
       "3  1.7641  6.0799  494.07  851.51  0.42802  1.3679  51.228  75.935   \n",
       "4  1.7525  6.0333  486.73  840.86  0.40701  1.3128  47.228  72.784   \n",
       "\n",
       "   Anomaly_Tag  \n",
       "0            0  \n",
       "1            0  \n",
       "2            0  \n",
       "3            0  \n",
       "4            0  "
      ]
     },
     "execution_count": 73,
     "metadata": {},
     "output_type": "execute_result"
    }
   ],
   "source": [
    "dfa.head()"
   ]
  },
  {
   "cell_type": "code",
   "execution_count": 74,
   "metadata": {},
   "outputs": [],
   "source": [
    "def scale(x):\n",
    "    scaler = preprocessing.MinMaxScaler()\n",
    "    df=pd.DataFrame(scaler.fit_transform(x), columns=x.columns)\n",
    "    return df"
   ]
  },
  {
   "cell_type": "code",
   "execution_count": 75,
   "metadata": {},
   "outputs": [],
   "source": [
    "#Seperating features and targets\n",
    "X_a = dfa.iloc[:,0:8]                #Features columns for anomalous\n",
    "Y_a = pd.DataFrame(dfa.iloc[:,-1])   #target column for anomalous\n",
    "Xascaled = scale(X_a)\n",
    "Yascaled = scale(Y_a)\n",
    "\n",
    "X_n = dfn.iloc[:,0:8]                #Features columns for normal\n",
    "Y_n = pd.DataFrame(dfn.iloc[:,-1])   #target column for normal"
   ]
  },
  {
   "cell_type": "markdown",
   "metadata": {},
   "source": [
    "# Building A Statistical-Based Anomaly Detection Algorithm"
   ]
  },
  {
   "cell_type": "code",
   "execution_count": 76,
   "metadata": {},
   "outputs": [
    {
     "name": "stdout",
     "output_type": "stream",
     "text": [
      "  Specs       Score\n",
      "0    X1  386.284336\n",
      "4    X5  230.132040\n",
      "5    X6   93.807420\n",
      "7    X8   35.280817\n",
      "3    X4   25.000674\n",
      "2    X3   24.248911\n",
      "1    X2   18.565281\n",
      "6    X7    0.255630\n"
     ]
    }
   ],
   "source": [
    "#features ranking using selectkbest\n",
    "bestfeatures = SelectKBest(score_func=chi2, k='all')\n",
    "fit = bestfeatures.fit(Xascaled,Yascaled)\n",
    "\n",
    "dfscores = pd.DataFrame(fit.scores_) #generate feature score\n",
    "dfcolumns = pd.DataFrame(Xascaled.columns)  #extract feature name\n",
    "\n",
    "#combine rank and feature name\n",
    "featureScores = pd.concat([dfcolumns,dfscores],axis=1)\n",
    "featureScores.columns = ['Specs','Score']  #Headings\n",
    "\n",
    "print(featureScores.nlargest(8,'Score'))  #print score"
   ]
  },
  {
   "cell_type": "code",
   "execution_count": 77,
   "metadata": {},
   "outputs": [],
   "source": [
    "# Generating Mean and Standard Deviation\n",
    "def para(x):\n",
    "    mu=np.mean(x)\n",
    "    sigma=np.std(x)\n",
    "    var=np.var(x)\n",
    "    return mu,sigma,var"
   ]
  },
  {
   "cell_type": "markdown",
   "metadata": {},
   "source": [
    "### a. Consider all features (X1 to X8)"
   ]
  },
  {
   "cell_type": "code",
   "execution_count": 78,
   "metadata": {
    "scrolled": false
   },
   "outputs": [
    {
     "name": "stdout",
     "output_type": "stream",
     "text": [
      "mu: X1    0.497500\n",
      "X2    0.883802\n",
      "X3    7.763045\n",
      "X4    2.617440\n",
      "X5    0.477496\n",
      "X6    0.849776\n",
      "X7    7.395009\n",
      "X8    2.546401\n",
      "dtype: float64 \n",
      " \n",
      " var: X1      0.237125\n",
      "X2      0.979342\n",
      "X3    193.223099\n",
      "X4     12.015144\n",
      "X5      0.608143\n",
      "X6      2.467858\n",
      "X7    330.799533\n",
      "X8     22.105024\n",
      "dtype: float64\n"
     ]
    }
   ],
   "source": [
    "# Mean and standard deviation for Normal Dataset\n",
    "mu_n,sigma_n,var_n=para(X_n)\n",
    "print(\"mu:\",mu_n,\"\\n\", \"\\n\",\"var:\",var_n)"
   ]
  },
  {
   "cell_type": "code",
   "execution_count": 79,
   "metadata": {},
   "outputs": [],
   "source": [
    "pdf_n=norm.pdf(X_n,mu_n,var_n)"
   ]
  },
  {
   "cell_type": "code",
   "execution_count": 80,
   "metadata": {},
   "outputs": [
    {
     "name": "stdout",
     "output_type": "stream",
     "text": [
      "pdfmin:  0.0 ,pdfmax:  1.6824127378324365\n"
     ]
    }
   ],
   "source": [
    "print('pdfmin: ',pdf_n.min(), \",pdfmax: \",pdf_n.max())"
   ]
  },
  {
   "cell_type": "markdown",
   "metadata": {},
   "source": [
    "### b. Mark the most important two features\n",
    "Feature X1 and X5 are most important feature as per score obtained in question 3\n",
    "\n",
    "#### X1  386.284336\n",
    "#### X5  230.132040"
   ]
  },
  {
   "cell_type": "code",
   "execution_count": 81,
   "metadata": {
    "scrolled": true
   },
   "outputs": [],
   "source": [
    "#Generating PDF functions based on only important features X1 and X5\n",
    "X15=X_n.drop(['X2','X3','X4','X6','X7','X8'], axis = 1)\n",
    "mu15,sigma15,var15=para(X15)"
   ]
  },
  {
   "cell_type": "code",
   "execution_count": 82,
   "metadata": {},
   "outputs": [],
   "source": [
    "pdf15=norm.pdf(X15,mu15,sigma15)"
   ]
  },
  {
   "cell_type": "code",
   "execution_count": 83,
   "metadata": {},
   "outputs": [
    {
     "name": "stdout",
     "output_type": "stream",
     "text": [
      "pdfmin:  0.0 ,pdfmax:  0.8192591618087527\n"
     ]
    }
   ],
   "source": [
    "print('pdfmin: ',pdf15.min(), \",pdfmax: \",pdf15.max())"
   ]
  },
  {
   "cell_type": "markdown",
   "metadata": {},
   "source": [
    "### c. Projection of feature space into first two components using PCA"
   ]
  },
  {
   "cell_type": "code",
   "execution_count": 84,
   "metadata": {
    "scrolled": true
   },
   "outputs": [
    {
     "data": {
      "text/plain": [
       "(45626, 2)"
      ]
     },
     "execution_count": 84,
     "metadata": {},
     "output_type": "execute_result"
    }
   ],
   "source": [
    "# fitting and transforming to principal components\n",
    "pca = decomposition.PCA(n_components=2)\n",
    "pca1 = pca.fit_transform(X_n)\n",
    "pca1 =  pd.DataFrame(pca1)\n",
    "\n",
    "pca2 = pca.fit_transform(X_a)\n",
    "pca2 = pd.DataFrame(pca2)\n",
    "\n",
    "#verifying the shape\n",
    "pca2.shape"
   ]
  },
  {
   "cell_type": "code",
   "execution_count": 85,
   "metadata": {},
   "outputs": [],
   "source": [
    "pca1=pd.concat([pca1,Y_n],axis=1)\n",
    "pca1.columns=['PCA_Feature_1', 'PCA_Feature_2', 'Label']\n",
    "pca2=pd.concat([pca2,Y_a],axis=1)\n",
    "pca2.columns=['PCA_Feature_1', 'PCA_Feature_2', 'Label']"
   ]
  },
  {
   "cell_type": "code",
   "execution_count": 86,
   "metadata": {},
   "outputs": [
    {
     "data": {
      "image/png": "[encoded data removed]",
      "text/plain": [
       "<Figure size 402.25x360 with 1 Axes>"
      ]
     },
     "metadata": {
      "needs_background": "light"
     },
     "output_type": "display_data"
    }
   ],
   "source": [
    "#projecting the feature space\n",
    "sns.lmplot(x ='PCA_Feature_1', y='PCA_Feature_2', hue ='Label', data = pca1, fit_reg=False )\n",
    "plt.show()"
   ]
  },
  {
   "cell_type": "markdown",
   "metadata": {},
   "source": [
    "## Question 5 - Model the same normal process “merged exp normal.csv” using Gaussian distribution with all requirements in Question 4. However, assume that the features are dependent."
   ]
  },
  {
   "cell_type": "markdown",
   "metadata": {},
   "source": [
    "We will use co variance matrix to generate pdf functions for this case."
   ]
  },
  {
   "cell_type": "code",
   "execution_count": 87,
   "metadata": {},
   "outputs": [
    {
     "name": "stdout",
     "output_type": "stream",
     "text": [
      "Covariance \n",
      "           X1        X2          X3         X4        X5         X6  \\\n",
      "X1  0.237127  0.469539    3.827697   1.283360  0.141805   0.280584   \n",
      "X2  0.469539  0.979348    9.231350   2.875613  0.274458   0.581017   \n",
      "X3  3.827697  9.231350  193.224368  42.086533  1.956296   5.183251   \n",
      "X4  1.283360  2.875613   42.086533  12.015223  0.671428   1.567032   \n",
      "X5  0.141805  0.274458    1.956296   0.671428  0.608147   1.190327   \n",
      "X6  0.280584  0.581017    5.183251   1.567032  1.190327   2.467874   \n",
      "X7  2.034031  5.073584  112.064358  22.959798  8.644799  19.680881   \n",
      "X8  0.717838  1.619127   24.372733   6.651358  2.807354   6.138411   \n",
      "\n",
      "            X7         X8  \n",
      "X1    2.034031   0.717838  \n",
      "X2    5.073584   1.619127  \n",
      "X3  112.064358  24.372733  \n",
      "X4   22.959798   6.651358  \n",
      "X5    8.644799   2.807354  \n",
      "X6   19.680881   6.138411  \n",
      "X7  330.801704  75.317589  \n",
      "X8   75.317589  22.105169  \n"
     ]
    }
   ],
   "source": [
    "#getting covariance matrix\n",
    "covariance=X_n.cov()\n",
    "print(\"Covariance \\n\",covariance)"
   ]
  },
  {
   "cell_type": "code",
   "execution_count": 88,
   "metadata": {},
   "outputs": [
    {
     "name": "stdout",
     "output_type": "stream",
     "text": [
      "pdfmin:  0.0 ,pdfmax:  0.00014047744565577936\n"
     ]
    }
   ],
   "source": [
    "#generating PDF function\n",
    "pdfmv=multivariate_normal.pdf(X_n,mu_n,covariance)\n",
    "print('pdfmin: ',pdfmv.min(), \",pdfmax: \",pdfmv.max())"
   ]
  },
  {
   "cell_type": "markdown",
   "metadata": {},
   "source": [
    "## Anomaly Alarm"
   ]
  },
  {
   "cell_type": "markdown",
   "metadata": {},
   "source": [
    "We will first split the anomaly dataset into test and train using train_test_split and then generate mean and standard deviation for the training set. Then threshold value will be calculated to use it to design the alarm."
   ]
  },
  {
   "cell_type": "code",
   "execution_count": 89,
   "metadata": {
    "scrolled": true
   },
   "outputs": [],
   "source": [
    "#splitting dataset\n",
    "\n",
    "features=dfa[['X1','X2','X3','X4','X5','X6','X7','X8']]\n",
    "labels  =dfa['Anomaly_Tag']\n",
    "\n",
    "x_train,x_test,y_train,y_test=train_test_split(features,labels,test_size=0.2, random_state=42)\n",
    "y_train=pd.DataFrame(y_train)\n",
    "y_test=pd.DataFrame(y_test)"
   ]
  },
  {
   "cell_type": "markdown",
   "metadata": {},
   "source": [
    "### Designing Anomaly Alarm with Threshold Value/epsilon = 0.01"
   ]
  },
  {
   "cell_type": "code",
   "execution_count": 90,
   "metadata": {},
   "outputs": [],
   "source": [
    "epsilon=0.01"
   ]
  },
  {
   "cell_type": "code",
   "execution_count": 91,
   "metadata": {},
   "outputs": [],
   "source": [
    "#Parameters of Test Data (Mean, standard deviation, Covariance): x_test\n",
    "mu_test,sigma_test,var_test=para(x_test)\n",
    "cov_test=x_test.cov()"
   ]
  },
  {
   "cell_type": "code",
   "execution_count": 92,
   "metadata": {},
   "outputs": [],
   "source": [
    "pdf_test = multivariate_normal.pdf(x_test,mu_test,cov_test)"
   ]
  },
  {
   "cell_type": "code",
   "execution_count": 93,
   "metadata": {},
   "outputs": [],
   "source": [
    "def alarm(pdf,epsilon):\n",
    "    outlier = (pdf>epsilon)\n",
    "    f = f1_score(y_test, outlier, average = \"micro\")\n",
    "    return outlier,f"
   ]
  },
  {
   "cell_type": "code",
   "execution_count": 94,
   "metadata": {},
   "outputs": [
    {
     "name": "stdout",
     "output_type": "stream",
     "text": [
      "F1 Score 0.8619329388560159\n"
     ]
    }
   ],
   "source": [
    "outlier,f = alarm(pdf_test,epsilon)\n",
    "print ('F1 Score', f)\n",
    "# print(outlier.shape, outlier)"
   ]
  },
  {
   "cell_type": "code",
   "execution_count": 95,
   "metadata": {},
   "outputs": [
    {
     "data": {
      "image/png": "[encoded data removed]",
      "text/plain": [
       "<Figure size 432x288 with 1 Axes>"
      ]
     },
     "metadata": {
      "needs_background": "light"
     },
     "output_type": "display_data"
    }
   ],
   "source": [
    "fig, ax = plt.subplots()\n",
    "ax.plot(x_test['X1'], y_test, 'x', color='red',label='True')\n",
    "ax.plot(x_test['X1'], (outlier+0.2)*0.9, '>', color='blue',label='Predicted')\n",
    "leg = ax.legend()"
   ]
  },
  {
   "cell_type": "markdown",
   "metadata": {},
   "source": [
    "### Question 1) Optimize the parameter  with the objective of maximizing the detection rate and minimizing the false alarm rate. Compare the results before and after optimizing. Consider the following objectives \\jointly\":\n",
    "{ Reduce the number of generated false alarms.\n",
    "{ Increase the number true anomalies discovered.\n",
    "\n",
    "Finding threshold value"
   ]
  },
  {
   "cell_type": "code",
   "execution_count": 96,
   "metadata": {},
   "outputs": [],
   "source": [
    "def getanomaly(x,y):\n",
    "    a=pd.DataFrame(x)\n",
    "    index = y[y['Anomaly_Tag'] == 0].index                                #find rows with SDs_Armed=0\n",
    "    a.drop(index, inplace = True)                                           #drop rows with SDs_Armed=0\n",
    "    return a"
   ]
  },
  {
   "cell_type": "code",
   "execution_count": 97,
   "metadata": {},
   "outputs": [],
   "source": [
    "anomaly=getanomaly(x_test,y_test)"
   ]
  },
  {
   "cell_type": "code",
   "execution_count": 98,
   "metadata": {},
   "outputs": [],
   "source": [
    "def threshold(y,pdf):\n",
    "    epsilon,F1 = 0,0\n",
    "    max=pdf.max()\n",
    "#     min=pdf.min()\n",
    "    min = 8.727682362147862e-63\n",
    "    \n",
    "    step=(max-min)/1000\n",
    "    print('stepsize',step)\n",
    "\n",
    "    for epi in np.arange(min,max,step):\n",
    "        prediction = (pdf<epi)\n",
    "        F = f1_score(y_train, prediction, average = \"micro\")\n",
    "        if F > F1:\n",
    "            F1 = F\n",
    "            epsilon = epi\n",
    "#     print ('Predictions:',prediction)\n",
    "    print ('F1 Score', F1)\n",
    "    print ('Epsilon', epsilon)    \n",
    "    return epsilon, F1"
   ]
  },
  {
   "cell_type": "code",
   "execution_count": 99,
   "metadata": {},
   "outputs": [],
   "source": [
    "#Mean and standard deviation for anomaly\n",
    "mu_a,sigma_a,var_a=para(anomaly)\n",
    "cov_a=anomaly.cov()"
   ]
  },
  {
   "cell_type": "code",
   "execution_count": 100,
   "metadata": {},
   "outputs": [
    {
     "name": "stdout",
     "output_type": "stream",
     "text": [
      "pdfmin:  8.727682362147862e-63 ,pdfmax:  7.050418111898926e-09\n"
     ]
    }
   ],
   "source": [
    "#PDF for anomaly\n",
    "pdf_a=multivariate_normal.pdf(anomaly,mu_a,cov_a)\n",
    "print('pdfmin: ',pdf_a.min(), \",pdfmax: \",pdf_a.max())"
   ]
  },
  {
   "cell_type": "code",
   "execution_count": 101,
   "metadata": {},
   "outputs": [],
   "source": [
    "#Mean and standard deviation for anomaly\n",
    "mu_tr,sigma_tr,var_tr=para(anomaly)\n",
    "cov_tr=anomaly.cov()"
   ]
  },
  {
   "cell_type": "code",
   "execution_count": 102,
   "metadata": {
    "scrolled": true
   },
   "outputs": [],
   "source": [
    "#PDF for training set\n",
    "pdf_tr=multivariate_normal.pdf(x_train,mu_tr,cov_tr)"
   ]
  },
  {
   "cell_type": "code",
   "execution_count": 103,
   "metadata": {
    "scrolled": false
   },
   "outputs": [
    {
     "name": "stdout",
     "output_type": "stream",
     "text": [
      "stepsize 7.240457888605732e-12\n",
      "F1 Score 0.8318630136986301\n",
      "Epsilon 8.727682362147862e-63\n"
     ]
    }
   ],
   "source": [
    "epsilon,F1 =threshold(y_train,pdf_tr)"
   ]
  },
  {
   "cell_type": "code",
   "execution_count": 104,
   "metadata": {},
   "outputs": [
    {
     "data": {
      "text/plain": [
       "8.727682362147862e-63"
      ]
     },
     "execution_count": 104,
     "metadata": {},
     "output_type": "execute_result"
    }
   ],
   "source": [
    "epsilon"
   ]
  },
  {
   "cell_type": "markdown",
   "metadata": {},
   "source": [
    "Testing with new epsilon"
   ]
  },
  {
   "cell_type": "code",
   "execution_count": 105,
   "metadata": {},
   "outputs": [],
   "source": [
    "#Parameters of Test Data (Mean, standard deviation, Covariance): x_test\n",
    "mu_test,sigma_test,var_test=para(x_test)\n",
    "cov_test=x_test.cov()"
   ]
  },
  {
   "cell_type": "code",
   "execution_count": 106,
   "metadata": {},
   "outputs": [],
   "source": [
    "pdf_test = multivariate_normal.pdf(x_test,mu_test,cov_test)"
   ]
  },
  {
   "cell_type": "code",
   "execution_count": 107,
   "metadata": {},
   "outputs": [],
   "source": [
    "outlier = (pdf_test<epsilon)\n",
    "# print ('F1 Score', f)\n",
    "# print(outlier.shape, outlier)"
   ]
  },
  {
   "cell_type": "code",
   "execution_count": 139,
   "metadata": {
    "scrolled": false
   },
   "outputs": [
    {
     "data": {
      "image/png": "[encoded data removed]",
      "text/plain": [
       "<Figure size 432x288 with 1 Axes>"
      ]
     },
     "metadata": {
      "needs_background": "light"
     },
     "output_type": "display_data"
    }
   ],
   "source": [
    "fig, ax = plt.subplots()\n",
    "ax.plot(x_test['X1'], y_test, 'x', color='red',label='True')\n",
    "ax.plot(x_test['X1'], (outlier+0.2)*0.9, '>', color='blue',label='Predicted')\n",
    "leg = ax.legend()"
   ]
  },
  {
   "cell_type": "markdown",
   "metadata": {},
   "source": [
    "Question 2) If the features in the Gaussian-based approach do not follow the Gaussian distribution,\n",
    "apply a suitable transformation to make better suit the Gaussian shape. Compare the results before\n",
    "and after the transformation [15 points]."
   ]
  },
  {
   "cell_type": "code",
   "execution_count": 109,
   "metadata": {
    "scrolled": true
   },
   "outputs": [
    {
     "data": {
      "text/html": [
       "<div>\n",
       "<style scoped>\n",
       "    .dataframe tbody tr th:only-of-type {\n",
       "        vertical-align: middle;\n",
       "    }\n",
       "\n",
       "    .dataframe tbody tr th {\n",
       "        vertical-align: top;\n",
       "    }\n",
       "\n",
       "    .dataframe thead th {\n",
       "        text-align: right;\n",
       "    }\n",
       "</style>\n",
       "<table border=\"1\" class=\"dataframe\">\n",
       "  <thead>\n",
       "    <tr style=\"text-align: right;\">\n",
       "      <th></th>\n",
       "      <th>X1</th>\n",
       "      <th>X2</th>\n",
       "      <th>X3</th>\n",
       "      <th>X4</th>\n",
       "      <th>X5</th>\n",
       "      <th>X6</th>\n",
       "      <th>X7</th>\n",
       "      <th>X8</th>\n",
       "    </tr>\n",
       "  </thead>\n",
       "  <tbody>\n",
       "    <tr>\n",
       "      <th>0</th>\n",
       "      <td>0.099911</td>\n",
       "      <td>0.018631</td>\n",
       "      <td>0.011682</td>\n",
       "      <td>0.003193</td>\n",
       "      <td>0.090197</td>\n",
       "      <td>0.061230</td>\n",
       "      <td>0.051352</td>\n",
       "      <td>0.031503</td>\n",
       "    </tr>\n",
       "    <tr>\n",
       "      <th>1</th>\n",
       "      <td>0.152929</td>\n",
       "      <td>0.149852</td>\n",
       "      <td>0.149873</td>\n",
       "      <td>0.166082</td>\n",
       "      <td>0.061323</td>\n",
       "      <td>0.017469</td>\n",
       "      <td>0.003436</td>\n",
       "      <td>0.001082</td>\n",
       "    </tr>\n",
       "    <tr>\n",
       "      <th>2</th>\n",
       "      <td>0.132040</td>\n",
       "      <td>0.016043</td>\n",
       "      <td>0.029867</td>\n",
       "      <td>0.002255</td>\n",
       "      <td>0.056631</td>\n",
       "      <td>0.011700</td>\n",
       "      <td>0.020812</td>\n",
       "      <td>0.001742</td>\n",
       "    </tr>\n",
       "    <tr>\n",
       "      <th>3</th>\n",
       "      <td>0.056847</td>\n",
       "      <td>0.007011</td>\n",
       "      <td>0.003105</td>\n",
       "      <td>0.000635</td>\n",
       "      <td>0.029823</td>\n",
       "      <td>0.010812</td>\n",
       "      <td>0.003886</td>\n",
       "      <td>0.001080</td>\n",
       "    </tr>\n",
       "    <tr>\n",
       "      <th>4</th>\n",
       "      <td>0.029743</td>\n",
       "      <td>0.000546</td>\n",
       "      <td>0.012651</td>\n",
       "      <td>0.000745</td>\n",
       "      <td>0.024050</td>\n",
       "      <td>0.003972</td>\n",
       "      <td>0.009424</td>\n",
       "      <td>0.001245</td>\n",
       "    </tr>\n",
       "  </tbody>\n",
       "</table>\n",
       "</div>"
      ],
      "text/plain": [
       "         X1        X2        X3        X4        X5        X6        X7  \\\n",
       "0  0.099911  0.018631  0.011682  0.003193  0.090197  0.061230  0.051352   \n",
       "1  0.152929  0.149852  0.149873  0.166082  0.061323  0.017469  0.003436   \n",
       "2  0.132040  0.016043  0.029867  0.002255  0.056631  0.011700  0.020812   \n",
       "3  0.056847  0.007011  0.003105  0.000635  0.029823  0.010812  0.003886   \n",
       "4  0.029743  0.000546  0.012651  0.000745  0.024050  0.003972  0.009424   \n",
       "\n",
       "         X8  \n",
       "0  0.031503  \n",
       "1  0.001082  \n",
       "2  0.001742  \n",
       "3  0.001080  \n",
       "4  0.001245  "
      ]
     },
     "execution_count": 109,
     "metadata": {},
     "output_type": "execute_result"
    }
   ],
   "source": [
    "# normalize the dataset\n",
    "x_testscale = scale(x_test)\n",
    "x_trainscale = scale(x_train)\n",
    "x_testscale.head()"
   ]
  },
  {
   "cell_type": "code",
   "execution_count": 110,
   "metadata": {},
   "outputs": [],
   "source": [
    "#Mean and standard deviation for x_train\n",
    "mu_tr,sigma_tr,var_tr=para(x_trainscale)\n",
    "cov_tr=x_trainscale.cov()"
   ]
  },
  {
   "cell_type": "code",
   "execution_count": 111,
   "metadata": {},
   "outputs": [
    {
     "name": "stdout",
     "output_type": "stream",
     "text": [
      "(pdfmin>0):  5.5844e-320 ,pdfmax:  107350824.55648866\n"
     ]
    }
   ],
   "source": [
    "#PDF for x_train\n",
    "pdf_tr=multivariate_normal.pdf(x_trainscale,mu_tr,cov_tr)\n",
    "m=np.sort(pdf_tr)\n",
    "\n",
    "for i in range(len(m)):\n",
    "    if m[i]>0:\n",
    "        min=m[i]\n",
    "        break\n",
    "\n",
    "print('(pdfmin>0): ',min, \",pdfmax: \",pdf_tr.max())"
   ]
  },
  {
   "cell_type": "code",
   "execution_count": 112,
   "metadata": {},
   "outputs": [
    {
     "data": {
      "text/plain": [
       "8.727682362147862e-63"
      ]
     },
     "execution_count": 112,
     "metadata": {},
     "output_type": "execute_result"
    }
   ],
   "source": [
    "epsilon"
   ]
  },
  {
   "cell_type": "code",
   "execution_count": 113,
   "metadata": {},
   "outputs": [],
   "source": [
    "#Parameters of Test Data (Mean, standard deviation, Covariance): x_test\n",
    "mu_test,sigma_test,var_test=para(x_testscale)\n",
    "cov_test=x_testscale.cov()"
   ]
  },
  {
   "cell_type": "code",
   "execution_count": 114,
   "metadata": {},
   "outputs": [],
   "source": [
    "pdf_test = multivariate_normal.pdf(x_testscale,mu_test,cov_test)"
   ]
  },
  {
   "cell_type": "code",
   "execution_count": 115,
   "metadata": {},
   "outputs": [],
   "source": [
    "outlier = (pdf_test<epsilon)"
   ]
  },
  {
   "cell_type": "code",
   "execution_count": 116,
   "metadata": {
    "scrolled": false
   },
   "outputs": [
    {
     "data": {
      "image/png": "[encoded data removed]",
      "text/plain": [
       "<Figure size 432x288 with 1 Axes>"
      ]
     },
     "metadata": {
      "needs_background": "light"
     },
     "output_type": "display_data"
    }
   ],
   "source": [
    "fig, ax = plt.subplots()\n",
    "ax.plot(x_test['X1'], y_test, 'x', color='red',label='True')\n",
    "ax.plot(x_test['X1'], (outlier+0.2)*0.9, '>', color='blue',label='Predicted')\n",
    "leg = ax.legend()"
   ]
  },
  {
   "cell_type": "markdown",
   "metadata": {},
   "source": [
    "--------------------------------------------------------------"
   ]
  },
  {
   "cell_type": "markdown",
   "metadata": {},
   "source": [
    "Question 3) Implement an appropriate neural network architecture that is used for time-series data\n",
    "to classify the events to normal and anomalies [40 points]. Compare the results with the statistical\n",
    "based developed algorithm in Assignment 1 in terms of:\n",
    "{ Detection capabilities (use the relevant metrics discussed in the class).\n",
    "{ Time complexity and memory requirements during the training phase.\n",
    "{ Time complexity and memory requirements during the execution phase."
   ]
  },
  {
   "cell_type": "markdown",
   "metadata": {},
   "source": [
    "#### Get anomalies"
   ]
  },
  {
   "cell_type": "code",
   "execution_count": 117,
   "metadata": {},
   "outputs": [],
   "source": [
    "X_train, X_test, y_train, y_test = train_test_split(dfa, Y_a, test_size=0.2, random_state=123)"
   ]
  },
  {
   "cell_type": "code",
   "execution_count": 143,
   "metadata": {
    "scrolled": false
   },
   "outputs": [
    {
     "data": {
      "text/plain": [
       "0    31393\n",
       "1     5107\n",
       "Name: Anomaly_Tag, dtype: int64"
      ]
     },
     "execution_count": 143,
     "metadata": {},
     "output_type": "execute_result"
    }
   ],
   "source": [
    "y_train['Anomaly_Tag'].value_counts()"
   ]
  },
  {
   "cell_type": "code",
   "execution_count": 119,
   "metadata": {},
   "outputs": [],
   "source": [
    "def getanomaly(x):\n",
    "    a=pd.DataFrame(x)\n",
    "    index = a[a['Anomaly_Tag'] == 0].index                                #find rows with SDs_Armed=0\n",
    "    a.drop(index, inplace = True)                                           #drop rows with SDs_Armed=0\n",
    "    return a"
   ]
  },
  {
   "cell_type": "code",
   "execution_count": 120,
   "metadata": {},
   "outputs": [],
   "source": [
    "def getnormal(x):\n",
    "    a=pd.DataFrame(x)\n",
    "    index = a[a['Anomaly_Tag'] == 1].index                                #find rows with SDs_Armed=0\n",
    "    a.drop(index, inplace = True)                                           #drop rows with SDs_Armed=0\n",
    "    return a"
   ]
  },
  {
   "cell_type": "code",
   "execution_count": 121,
   "metadata": {},
   "outputs": [],
   "source": [
    "def droplabel(x):\n",
    "    a=x.drop(['Anomaly_Tag'], axis=1)\n",
    "    return a"
   ]
  },
  {
   "cell_type": "code",
   "execution_count": 127,
   "metadata": {
    "scrolled": false
   },
   "outputs": [],
   "source": [
    "X_train_a = getanomaly(X_train)\n",
    "X_test_a = getanomaly(X_test)\n",
    "\n",
    "X_train_n = getnormal(X_train)\n",
    "X_test_n = getnormal(X_test)\n",
    "\n",
    "X_train = droplabel(X_train)\n",
    "X_test = droplabel(X_test)"
   ]
  },
  {
   "cell_type": "code",
   "execution_count": 128,
   "metadata": {},
   "outputs": [
    {
     "data": {
      "text/plain": [
       "(5107, 9)"
      ]
     },
     "execution_count": 128,
     "metadata": {},
     "output_type": "execute_result"
    }
   ],
   "source": [
    "X_train_a.shape"
   ]
  },
  {
   "cell_type": "code",
   "execution_count": 129,
   "metadata": {},
   "outputs": [],
   "source": [
    "X_train_a = scale(X_train_a)\n",
    "X_test_a = scale(X_test_a)\n",
    "\n",
    "X_train_n = scale(X_train_n)\n",
    "X_test_n = scale(X_test_n)\n",
    "\n",
    "X_train = scale(X_train_n)\n",
    "X_test = scale(X_test_n)"
   ]
  },
  {
   "cell_type": "code",
   "execution_count": 130,
   "metadata": {},
   "outputs": [],
   "source": [
    "X_train = X_train.values\n",
    "X_train_a = X_train_a.values\n",
    "X_train_n = X_train_n.values\n",
    "\n",
    "X_test  = X_test.values\n",
    "X_test_a = X_test_a.values\n",
    "X_test_n  = X_test_n.values"
   ]
  },
  {
   "cell_type": "code",
   "execution_count": 145,
   "metadata": {},
   "outputs": [
    {
     "data": {
      "text/plain": [
       "(5107, 1, 9)"
      ]
     },
     "execution_count": 145,
     "metadata": {},
     "output_type": "execute_result"
    }
   ],
   "source": [
    "X_train_a.shape"
   ]
  },
  {
   "cell_type": "code",
   "execution_count": 132,
   "metadata": {},
   "outputs": [],
   "source": [
    "X_train = X_train.reshape(X_train.shape[0], 1, X_train.shape[1])\n",
    "X_test = X_test.reshape(X_test.shape[0], 1, X_test.shape[1])\n",
    "\n",
    "X_train_a = X_train_a.reshape(X_train_a.shape[0], 1, X_train_a.shape[1])\n",
    "X_test_a = X_test_a.reshape(X_test_a.shape[0], 1, X_test_a.shape[1])\n",
    "\n",
    "X_train_n = X_train_n.reshape(X_train_n.shape[0], 1, X_train_n.shape[1])\n",
    "X_test_n = X_test_n.reshape(X_test_n.shape[0], 1, X_test_n.shape[1])"
   ]
  },
  {
   "cell_type": "code",
   "execution_count": 134,
   "metadata": {},
   "outputs": [],
   "source": [
    "# print(X_train.shape, X_test.shape,X_train_a.shape, X_test_a.shape,X_train_n.shape, X_test_n.shape,)"
   ]
  },
  {
   "cell_type": "code",
   "execution_count": 137,
   "metadata": {},
   "outputs": [],
   "source": [
    "timesteps =  X_train_n.shape[1] # equal to the lookback\n",
    "n_features =  X_train_n.shape[2] # 59\n",
    "\n",
    "epochs = 200\n",
    "batch = 64\n",
    "lr = 0.0001"
   ]
  },
  {
   "cell_type": "code",
   "execution_count": 138,
   "metadata": {},
   "outputs": [],
   "source": [
    "#AutoEncoder\n",
    "def autoencoder_model(X):\n",
    "  inputs = Input(shape = (X.shape[1], X.shape[2]))\n",
    "  L1 = LSTM(9,activation='relu',return_sequences=True)(inputs)\n",
    "  L2 = LSTM(24, activation='relu', return_sequences=False)(L1)\n",
    "  L3 = RepeatVector(X.shape[1])(L2)\n",
    "  L4 = LSTM(12, activation='relu', return_sequences=True)(L3)\n",
    "  L5 = LSTM(2, activation='relu', return_sequences=True)(L4)\n",
    "  output = TimeDistributed(Dense(X.shape[2]))(L5)\n",
    "  model = Model(inputs = inputs, outputs = output)\n",
    "  return model"
   ]
  },
  {
   "cell_type": "code",
   "execution_count": null,
   "metadata": {},
   "outputs": [],
   "source": [
    "lstm_autoencoder = Sequential()\n",
    "# Encoder\n",
    "lstm_autoencoder.add(LSTM(32, activation='relu', input_shape=(timesteps, n_features), return_sequences=True))\n",
    "lstm_autoencoder.add(LSTM(16, activation='relu', return_sequences=False))\n",
    "lstm_autoencoder.add(RepeatVector(timesteps))\n",
    "# Decoder\n",
    "lstm_autoencoder.add(LSTM(16, activation='relu', return_sequences=True))\n",
    "lstm_autoencoder.add(LSTM(32, activation='relu', return_sequences=True))\n",
    "lstm_autoencoder.add(TimeDistributed(Dense(n_features)))\n",
    "\n",
    "lstm_autoencoder.summary()"
   ]
  }
 ],
 "metadata": {
  "kernelspec": {
   "display_name": "Python 3",
   "language": "python",
   "name": "python3"
  },
  "language_info": {
   "codemirror_mode": {
    "name": "ipython",
    "version": 3
   },
   "file_extension": ".py",
   "mimetype": "text/x-python",
   "name": "python",
   "nbconvert_exporter": "python",
   "pygments_lexer": "ipython3",
   "version": "3.7.6"
  }
 },
 "nbformat": 4,
 "nbformat_minor": 4
}
