{
 "cells": [
  {
   "cell_type": "markdown",
   "metadata": {},
   "source": [
    "# Assignment - 1\n",
    "Group No: 22; \n",
    "Deep Singh     251122489,\n",
    "Mandeep Singh  251122474,\n",
    "Sanket Salunke 251102392"
   ]
  },
  {
   "cell_type": "markdown",
   "metadata": {},
   "source": [
    "#### Dependencies\n",
    "First of all, we will import the libraries for the basic requirements such as mathematical calculations, plotting graphs, data visualization, etc and then we will import question specific libraries."
   ]
  },
  {
   "cell_type": "code",
   "execution_count": 1,
   "metadata": {},
   "outputs": [],
   "source": [
    "import matplotlib.pyplot as plt\n",
    "import pandas as pd\n",
    "import numpy as np\n",
    "import seaborn as sns\n",
    "import math\n",
    "\n",
    "import datetime                                  #Q10\n",
    "import tracemalloc \n",
    "\n",
    "import scipy.stats as stats\n",
    "\n",
    "from glob import glob                             #Q1\n",
    "\n",
    "from sklearn.feature_selection import SelectKBest #Q2\n",
    "from sklearn.feature_selection import chi2\n",
    "from sklearn import preprocessing\n",
    "\n",
    "from scipy.stats import norm                      #Q3\n",
    "from sklearn.preprocessing import MinMaxScaler\n",
    "\n",
    "from sklearn.decomposition import PCA             #Q3c\n",
    "from sklearn.preprocessing import StandardScaler\n",
    "\n",
    "from scipy.stats import multivariate_normal       #Q5\n",
    "\n",
    "from sklearn.metrics import f1_score              #Q6\n",
    "from sklearn.metrics import recall_score\n",
    "from sklearn.metrics import precision_score\n",
    "\n",
    "from sklearn.model_selection import train_test_split # Q8\n",
    "from sklearn.preprocessing import StandardScaler \n",
    "from sklearn.neighbors import KNeighborsClassifier\n",
    "from sklearn.linear_model import LogisticRegression\n",
    "from sklearn.metrics import confusion_matrix \n",
    "\n",
    "from sklearn.cluster import KMeans #Q9\n",
    "\n",
    "%matplotlib inline"
   ]
  },
  {
   "cell_type": "markdown",
   "metadata": {},
   "source": [
    "# Data Preparation"
   ]
  },
  {
   "cell_type": "markdown",
   "metadata": {},
   "source": [
    "###  Question 1 -  Filter all \"Normal Experiments\" by taking into account only active examples \"SDS Armed = 1\", and then, merge them in a new file named as \"merged_exp_normal.csv\".\n",
    "#### Answer: \n",
    "Number of Examples after filtering and merging normal examples is 152, 356"
   ]
  },
  {
   "cell_type": "markdown",
   "metadata": {},
   "source": [
    "#### Explanation:\n",
    "Our first step is to read all the csv files available in the 'Normal_Experiments' folder and after that we will merge all the csv files into one consolidated file.\n",
    "With help of the Pandas DataFrame head() function, we will quickly test if the merged file has the right type of data in it by looking at the first few rows."
   ]
  },
  {
   "cell_type": "code",
   "execution_count": 2,
   "metadata": {},
   "outputs": [
    {
     "data": {
      "text/html": [
       "<div>\n",
       "<style scoped>\n",
       "    .dataframe tbody tr th:only-of-type {\n",
       "        vertical-align: middle;\n",
       "    }\n",
       "\n",
       "    .dataframe tbody tr th {\n",
       "        vertical-align: top;\n",
       "    }\n",
       "\n",
       "    .dataframe thead th {\n",
       "        text-align: right;\n",
       "    }\n",
       "</style>\n",
       "<table border=\"1\" class=\"dataframe\">\n",
       "  <thead>\n",
       "    <tr style=\"text-align: right;\">\n",
       "      <th></th>\n",
       "      <th>X1</th>\n",
       "      <th>X2</th>\n",
       "      <th>X3</th>\n",
       "      <th>X4</th>\n",
       "      <th>X5</th>\n",
       "      <th>X6</th>\n",
       "      <th>X7</th>\n",
       "      <th>X8</th>\n",
       "      <th>Sds_Armed</th>\n",
       "      <th>Anomaly_Tag</th>\n",
       "    </tr>\n",
       "  </thead>\n",
       "  <tbody>\n",
       "    <tr>\n",
       "      <th>0</th>\n",
       "      <td>0.006286</td>\n",
       "      <td>0.011072</td>\n",
       "      <td>0.088714</td>\n",
       "      <td>0.036855</td>\n",
       "      <td>0.12677</td>\n",
       "      <td>0.22329</td>\n",
       "      <td>1.7891</td>\n",
       "      <td>0.74325</td>\n",
       "      <td>0</td>\n",
       "      <td>0</td>\n",
       "    </tr>\n",
       "    <tr>\n",
       "      <th>1</th>\n",
       "      <td>0.008937</td>\n",
       "      <td>0.015274</td>\n",
       "      <td>0.119970</td>\n",
       "      <td>0.051323</td>\n",
       "      <td>0.18024</td>\n",
       "      <td>0.30803</td>\n",
       "      <td>2.4193</td>\n",
       "      <td>1.03500</td>\n",
       "      <td>0</td>\n",
       "      <td>0</td>\n",
       "    </tr>\n",
       "    <tr>\n",
       "      <th>2</th>\n",
       "      <td>0.012156</td>\n",
       "      <td>0.019694</td>\n",
       "      <td>0.150640</td>\n",
       "      <td>0.064529</td>\n",
       "      <td>0.24514</td>\n",
       "      <td>0.39717</td>\n",
       "      <td>3.0379</td>\n",
       "      <td>1.30130</td>\n",
       "      <td>0</td>\n",
       "      <td>0</td>\n",
       "    </tr>\n",
       "    <tr>\n",
       "      <th>3</th>\n",
       "      <td>0.015202</td>\n",
       "      <td>0.024273</td>\n",
       "      <td>0.179940</td>\n",
       "      <td>0.075763</td>\n",
       "      <td>0.30658</td>\n",
       "      <td>0.48950</td>\n",
       "      <td>3.6288</td>\n",
       "      <td>1.52790</td>\n",
       "      <td>0</td>\n",
       "      <td>0</td>\n",
       "    </tr>\n",
       "    <tr>\n",
       "      <th>4</th>\n",
       "      <td>0.017572</td>\n",
       "      <td>0.028237</td>\n",
       "      <td>0.208750</td>\n",
       "      <td>0.087763</td>\n",
       "      <td>0.30470</td>\n",
       "      <td>0.48138</td>\n",
       "      <td>3.6888</td>\n",
       "      <td>1.55960</td>\n",
       "      <td>0</td>\n",
       "      <td>0</td>\n",
       "    </tr>\n",
       "  </tbody>\n",
       "</table>\n",
       "</div>"
      ],
      "text/plain": [
       "         X1        X2        X3        X4       X5       X6      X7       X8  \\\n",
       "0  0.006286  0.011072  0.088714  0.036855  0.12677  0.22329  1.7891  0.74325   \n",
       "1  0.008937  0.015274  0.119970  0.051323  0.18024  0.30803  2.4193  1.03500   \n",
       "2  0.012156  0.019694  0.150640  0.064529  0.24514  0.39717  3.0379  1.30130   \n",
       "3  0.015202  0.024273  0.179940  0.075763  0.30658  0.48950  3.6288  1.52790   \n",
       "4  0.017572  0.028237  0.208750  0.087763  0.30470  0.48138  3.6888  1.55960   \n",
       "\n",
       "   Sds_Armed  Anomaly_Tag  \n",
       "0          0            0  \n",
       "1          0            0  \n",
       "2          0            0  \n",
       "3          0            0  \n",
       "4          0            0  "
      ]
     },
     "execution_count": 2,
     "metadata": {},
     "output_type": "execute_result"
    }
   ],
   "source": [
    "path = r'C:\\Users\\dpsin\\GitHub\\ECE9039_Assignment1\\Normal_Experiments' #specifying path\n",
    "all_files = glob(path + \"/*.csv\")                                      #use glob function to create wildcard for all file names\n",
    "li = []                                                                #empty list to store file \n",
    "for filename in all_files:                                             #read all files using iteration\n",
    "    df = pd.read_csv(filename, index_col=None, header=0)\n",
    "    li.append(df)                                                      \n",
    "frame = pd.concat(li, axis=0, ignore_index=True)                       #merge files into one\n",
    "frame.head()"
   ]
  },
  {
   "cell_type": "markdown",
   "metadata": {},
   "source": [
    "We can see from the above result that we have the required data in the merged file however, we have to exclude the rows with the column Sds_Armed having value = 0 so that we have only active examples in our file."
   ]
  },
  {
   "cell_type": "markdown",
   "metadata": {},
   "source": [
    "After dropping rows with Sds_Armed = 0, we will verify that we have only those rows in our merged file for 'Normal_Experiments' which have column Sds_Armed = 1. After verifying, we will export and save the merged file with name 'merged_exp_normal.csv' in our local directory."
   ]
  },
  {
   "cell_type": "code",
   "execution_count": 3,
   "metadata": {},
   "outputs": [
    {
     "name": "stdout",
     "output_type": "stream",
     "text": [
      "<class 'pandas.core.frame.DataFrame'>\n",
      "Int64Index: 152356 entries, 622 to 1062672\n",
      "Data columns (total 10 columns):\n",
      " #   Column       Non-Null Count   Dtype  \n",
      "---  ------       --------------   -----  \n",
      " 0   X1           152356 non-null  float64\n",
      " 1   X2           152356 non-null  float64\n",
      " 2   X3           152356 non-null  float64\n",
      " 3   X4           152356 non-null  float64\n",
      " 4   X5           152356 non-null  float64\n",
      " 5   X6           152356 non-null  float64\n",
      " 6   X7           152356 non-null  float64\n",
      " 7   X8           152356 non-null  float64\n",
      " 8   Sds_Armed    152356 non-null  int64  \n",
      " 9   Anomaly_Tag  152356 non-null  int64  \n",
      "dtypes: float64(8), int64(2)\n",
      "memory usage: 12.8 MB\n"
     ]
    }
   ],
   "source": [
    "index = frame[frame['Sds_Armed'] == 0].index                                #find rows with SDs_Armed=0\n",
    "frame.drop(index, inplace = True)                                           #drop rows with SDs_Armed=0\n",
    "# Export merged file to local directory with name 'merged_exp_normal.csv'\n",
    "frame.to_csv(r'C:\\Users\\dpsin\\GitHub\\ECE9039_Assignment1\\merged_exp_normal.csv') #export file\n",
    "\n",
    "#verify Sds_armed=1\n",
    "frame.info()                                                                     #verify remaining data for SDs_Armed=1"
   ]
  },
  {
   "cell_type": "markdown",
   "metadata": {},
   "source": [
    "### Question 2 - Filter all \"Experiments with Anomalies\" by taking into account only active examples \"SDS Armed = 1\"  and then, merge them in a new file named as \"merged_exp_contains_anomalies.csv\".\n",
    "#### Answer:\n",
    "Number of Examples after filtering and merging examples that contain anomalies is 45, 626."
   ]
  },
  {
   "cell_type": "markdown",
   "metadata": {},
   "source": [
    "#### Explanation: \n",
    "Similar to steps for question 1, we will read all the files from folder 'Experiments_with_Anomalies' and merge them into single file. After that we will figure out the rows with Sds_Armed = 0 and drop those rows from the merged file. After verifying the file, we will export the merged file to our local directory with name 'merged exp contains anomalies.csv'."
   ]
  },
  {
   "cell_type": "code",
   "execution_count": 4,
   "metadata": {},
   "outputs": [],
   "source": [
    "# Read all 'Experiments_with_Anomalies' files\n",
    "path = r'C:\\Users\\dpsin\\GitHub\\ECE9039_Assignment1\\Experiments_with_Anomalies' #specifying path\n",
    "all_files = glob(path + \"/*.csv\")                                              #use glob function to create wildcard for all file names\n",
    "li = []                                                                        #empty list to store file \n",
    "\n",
    "# Merge all 'Experiments_with_Anomalies' files into one merged file\n",
    "for filename in all_files:                                                     #read all files using iteration\n",
    "    df = pd.read_csv(filename, index_col=None, header=0)\n",
    "    li.append(df)                                                      \n",
    "frame = pd.concat(li, axis=0, ignore_index=True)                               #merge files into one\n",
    "index = frame[frame['Sds_Armed'] == 0].index                                   #find rows with SDs_Armed=0\n",
    "frame.drop(index, inplace = True)                                              #drop rows with SDs_Armed=0\n",
    "frame.to_csv(r'C:\\Users\\dpsin\\GitHub\\ECE9039_Assignment1\\merged_exp_contains_anomalies.csv') #export file"
   ]
  },
  {
   "cell_type": "code",
   "execution_count": 5,
   "metadata": {},
   "outputs": [
    {
     "name": "stdout",
     "output_type": "stream",
     "text": [
      "<class 'pandas.core.frame.DataFrame'>\n",
      "Int64Index: 45626 entries, 745 to 324847\n",
      "Data columns (total 10 columns):\n",
      " #   Column       Non-Null Count  Dtype  \n",
      "---  ------       --------------  -----  \n",
      " 0   X1           45626 non-null  float64\n",
      " 1   X2           45626 non-null  float64\n",
      " 2   X3           45626 non-null  float64\n",
      " 3   X4           45626 non-null  float64\n",
      " 4   X5           45626 non-null  float64\n",
      " 5   X6           45626 non-null  float64\n",
      " 6   X7           45626 non-null  float64\n",
      " 7   X8           45626 non-null  float64\n",
      " 8   Sds_Armed    45626 non-null  int64  \n",
      " 9   Anomaly_Tag  45626 non-null  int64  \n",
      "dtypes: float64(8), int64(2)\n",
      "memory usage: 3.8 MB\n"
     ]
    }
   ],
   "source": [
    "#verify Sds_armed=1\n",
    "frame.info()"
   ]
  },
  {
   "cell_type": "markdown",
   "metadata": {},
   "source": [
    "###### Preparing dataset"
   ]
  },
  {
   "cell_type": "code",
   "execution_count": 6,
   "metadata": {},
   "outputs": [],
   "source": [
    "#Anomalous Dataset\n",
    "dfa = pd.read_csv(\"merged_exp_contains_anomalies.csv\")\n",
    "dfa = dfa.drop(dfa.columns[[0,9]], axis = 1)\n",
    "\n",
    "#Normal Dataset\n",
    "dfn = pd.read_csv(\"merged_exp_normal.csv\")\n",
    "dfn = dfn.drop(dfn.columns[[0,9]], axis = 1)"
   ]
  },
  {
   "cell_type": "code",
   "execution_count": 7,
   "metadata": {},
   "outputs": [],
   "source": [
    "def scale(x):\n",
    "    scaler = preprocessing.MinMaxScaler()\n",
    "    df=pd.DataFrame(scaler.fit_transform(x), columns=x.columns)\n",
    "    return df"
   ]
  },
  {
   "cell_type": "code",
   "execution_count": 8,
   "metadata": {},
   "outputs": [
    {
     "data": {
      "text/html": [
       "<div>\n",
       "<style scoped>\n",
       "    .dataframe tbody tr th:only-of-type {\n",
       "        vertical-align: middle;\n",
       "    }\n",
       "\n",
       "    .dataframe tbody tr th {\n",
       "        vertical-align: top;\n",
       "    }\n",
       "\n",
       "    .dataframe thead th {\n",
       "        text-align: right;\n",
       "    }\n",
       "</style>\n",
       "<table border=\"1\" class=\"dataframe\">\n",
       "  <thead>\n",
       "    <tr style=\"text-align: right;\">\n",
       "      <th></th>\n",
       "      <th>X1</th>\n",
       "      <th>X2</th>\n",
       "      <th>X3</th>\n",
       "      <th>X4</th>\n",
       "      <th>X5</th>\n",
       "      <th>X6</th>\n",
       "      <th>X7</th>\n",
       "      <th>X8</th>\n",
       "      <th>Anomaly_Tag</th>\n",
       "    </tr>\n",
       "  </thead>\n",
       "  <tbody>\n",
       "    <tr>\n",
       "      <th>0</th>\n",
       "      <td>0.538859</td>\n",
       "      <td>0.112237</td>\n",
       "      <td>0.484728</td>\n",
       "      <td>0.744950</td>\n",
       "      <td>0.032296</td>\n",
       "      <td>0.018580</td>\n",
       "      <td>0.038942</td>\n",
       "      <td>0.073012</td>\n",
       "      <td>0.0</td>\n",
       "    </tr>\n",
       "    <tr>\n",
       "      <th>1</th>\n",
       "      <td>0.535042</td>\n",
       "      <td>0.111310</td>\n",
       "      <td>0.480235</td>\n",
       "      <td>0.737946</td>\n",
       "      <td>0.032332</td>\n",
       "      <td>0.014909</td>\n",
       "      <td>0.036509</td>\n",
       "      <td>0.075550</td>\n",
       "      <td>0.0</td>\n",
       "    </tr>\n",
       "    <tr>\n",
       "      <th>2</th>\n",
       "      <td>0.531765</td>\n",
       "      <td>0.110630</td>\n",
       "      <td>0.476117</td>\n",
       "      <td>0.732304</td>\n",
       "      <td>0.030269</td>\n",
       "      <td>0.014656</td>\n",
       "      <td>0.035709</td>\n",
       "      <td>0.088942</td>\n",
       "      <td>0.0</td>\n",
       "    </tr>\n",
       "    <tr>\n",
       "      <th>3</th>\n",
       "      <td>0.527481</td>\n",
       "      <td>0.109870</td>\n",
       "      <td>0.470776</td>\n",
       "      <td>0.724592</td>\n",
       "      <td>0.030668</td>\n",
       "      <td>0.015199</td>\n",
       "      <td>0.034752</td>\n",
       "      <td>0.097875</td>\n",
       "      <td>0.0</td>\n",
       "    </tr>\n",
       "    <tr>\n",
       "      <th>4</th>\n",
       "      <td>0.523304</td>\n",
       "      <td>0.108924</td>\n",
       "      <td>0.463714</td>\n",
       "      <td>0.715517</td>\n",
       "      <td>0.027613</td>\n",
       "      <td>0.014161</td>\n",
       "      <td>0.031858</td>\n",
       "      <td>0.093756</td>\n",
       "      <td>0.0</td>\n",
       "    </tr>\n",
       "  </tbody>\n",
       "</table>\n",
       "</div>"
      ],
      "text/plain": [
       "         X1        X2        X3        X4        X5        X6        X7  \\\n",
       "0  0.538859  0.112237  0.484728  0.744950  0.032296  0.018580  0.038942   \n",
       "1  0.535042  0.111310  0.480235  0.737946  0.032332  0.014909  0.036509   \n",
       "2  0.531765  0.110630  0.476117  0.732304  0.030269  0.014656  0.035709   \n",
       "3  0.527481  0.109870  0.470776  0.724592  0.030668  0.015199  0.034752   \n",
       "4  0.523304  0.108924  0.463714  0.715517  0.027613  0.014161  0.031858   \n",
       "\n",
       "         X8  Anomaly_Tag  \n",
       "0  0.073012          0.0  \n",
       "1  0.075550          0.0  \n",
       "2  0.088942          0.0  \n",
       "3  0.097875          0.0  \n",
       "4  0.093756          0.0  "
      ]
     },
     "execution_count": 8,
     "metadata": {},
     "output_type": "execute_result"
    }
   ],
   "source": [
    "dfa = scale(dfa)\n",
    "dfn = scale(dfn)\n",
    "dfa.head()"
   ]
  },
  {
   "cell_type": "code",
   "execution_count": 9,
   "metadata": {
    "scrolled": true
   },
   "outputs": [
    {
     "data": {
      "image/png": "[encoded data removed]",
      "text/plain": [
       "<Figure size 1440x360 with 10 Axes>"
      ]
     },
     "metadata": {
      "needs_background": "light"
     },
     "output_type": "display_data"
    }
   ],
   "source": [
    "#viewing anomalous dataset shapes\n",
    "f, axes = plt.subplots(1, 10,figsize=(20,5))\n",
    "for i in range(0,10):\n",
    "    sns.distplot(dfa.iloc[i],ax=axes[i])\n",
    "    f.tight_layout(pad=1)\n",
    "plt.show()"
   ]
  },
  {
   "cell_type": "code",
   "execution_count": 10,
   "metadata": {
    "scrolled": true
   },
   "outputs": [
    {
     "data": {
      "image/png": "[encoded data removed]",
      "text/plain": [
       "<Figure size 1440x360 with 10 Axes>"
      ]
     },
     "metadata": {
      "needs_background": "light"
     },
     "output_type": "display_data"
    }
   ],
   "source": [
    "#viewing normal dataset shapes\n",
    "f, axes = plt.subplots(1, 10,figsize=(20,5))\n",
    "for i in range(0,10):\n",
    "    sns.distplot(dfn.iloc[i],ax=axes[i])\n",
    "    f.tight_layout(pad=1)\n",
    "plt.show()"
   ]
  },
  {
   "cell_type": "code",
   "execution_count": 11,
   "metadata": {},
   "outputs": [],
   "source": [
    "#Seperating features and targets\n",
    "X_a = dfa.iloc[:,0:8]                #Features columns for anomalous\n",
    "Y_a = pd.DataFrame(dfa.iloc[:,-1])   #target column for anomalous\n",
    "\n",
    "X_n = dfn.iloc[:,0:8]                #Features columns for normal\n",
    "Y_n = pd.DataFrame(dfn.iloc[:,-1])   #target column for normal"
   ]
  },
  {
   "cell_type": "markdown",
   "metadata": {},
   "source": [
    "# Building A Statistical-Based Anomaly Detection Algorithm"
   ]
  },
  {
   "cell_type": "markdown",
   "metadata": {},
   "source": [
    "### Question 3 - Since the merged exp contains anomalies.csv contains anomalies, apply any significance test to rank the significance of each feature (X1, X2, ..., X8) as being a distinctive feature of anomalies."
   ]
  },
  {
   "cell_type": "markdown",
   "metadata": {},
   "source": [
    "#### Answer: \n",
    "We will be using SelectKBest to rank the features and will combine rank and feature names to print the list of features' ranks using SelectKBest."
   ]
  },
  {
   "cell_type": "code",
   "execution_count": 12,
   "metadata": {},
   "outputs": [
    {
     "name": "stdout",
     "output_type": "stream",
     "text": [
      "  Specs       Score\n",
      "0    X1  386.284336\n",
      "4    X5  230.132040\n",
      "5    X6   93.807420\n",
      "7    X8   35.280817\n",
      "3    X4   25.000674\n",
      "2    X3   24.248911\n",
      "1    X2   18.565281\n",
      "6    X7    0.255630\n"
     ]
    }
   ],
   "source": [
    "#features ranking using selectkbest\n",
    "bestfeatures = SelectKBest(score_func=chi2, k='all')\n",
    "fit = bestfeatures.fit(X_a,Y_a)\n",
    "\n",
    "dfscores = pd.DataFrame(fit.scores_) #generate feature score\n",
    "dfcolumns = pd.DataFrame(X_a.columns)  #extract feature name\n",
    "\n",
    "#combine rank and feature name\n",
    "featureScores = pd.concat([dfcolumns,dfscores],axis=1)\n",
    "featureScores.columns = ['Specs','Score']  #Headings\n",
    "\n",
    "print(featureScores.nlargest(8,'Score'))  #print score"
   ]
  },
  {
   "cell_type": "markdown",
   "metadata": {},
   "source": [
    "### Question 4 - Model the normal process “merged exp normal.csv” using Gaussian distribution. Assume that the features are independent."
   ]
  },
  {
   "cell_type": "markdown",
   "metadata": {},
   "source": [
    "We will generate mean and standard deviation and use these values to generate the pdf functions."
   ]
  },
  {
   "cell_type": "code",
   "execution_count": 13,
   "metadata": {},
   "outputs": [],
   "source": [
    "# Generating Mean and Standard Deviation\n",
    "def para(x):\n",
    "    mu=np.mean(x)\n",
    "    sigma=np.std(x)\n",
    "    var=np.var(x)\n",
    "    print(\"mu:\",mu,\"\\n\",\"sigma:\",sigma, \"\\n\",\"var:\",var)\n",
    "    return mu,sigma,var"
   ]
  },
  {
   "cell_type": "code",
   "execution_count": 14,
   "metadata": {},
   "outputs": [],
   "source": [
    "#Function to generate PDF functions\n",
    "def gaus(mu, sigma, range):\n",
    "    start = (mu - 3*sigma)\n",
    "    stop = (mu + 3*sigma)\n",
    "    x = np.linspace(start,stop, range)    \n",
    "    pdf = norm.pdf(x,mu,sigma)\n",
    "    return pdf,x"
   ]
  },
  {
   "cell_type": "markdown",
   "metadata": {},
   "source": [
    "### a. Consider all features (X1 to X8)"
   ]
  },
  {
   "cell_type": "code",
   "execution_count": 15,
   "metadata": {
    "scrolled": true
   },
   "outputs": [
    {
     "name": "stdout",
     "output_type": "stream",
     "text": [
      "mu: 0.016871366530048965 \n",
      " sigma: 0.03183932175449411 \n",
      " var: 0.0010137424097862017\n"
     ]
    }
   ],
   "source": [
    "# Mean and standard deviation for Normal Dataset\n",
    "mu_n,sigma_n,var_n=para(X_n.to_numpy())"
   ]
  },
  {
   "cell_type": "code",
   "execution_count": 16,
   "metadata": {},
   "outputs": [],
   "source": [
    "#Generating PDF function\n",
    "pdf_n,x=gaus(mu_n,sigma_n, len(X_n))"
   ]
  },
  {
   "cell_type": "code",
   "execution_count": 17,
   "metadata": {},
   "outputs": [
    {
     "name": "stdout",
     "output_type": "stream",
     "text": [
      "pdfmin:  0.1391941840379327 ,pdfmax:  12.529861138382486\n"
     ]
    }
   ],
   "source": [
    "print('pdfmin: ',pdf_n.min(), \",pdfmax: \",pdf_n.max())"
   ]
  },
  {
   "cell_type": "markdown",
   "metadata": {},
   "source": [
    "### b. Mark the most important two features\n",
    "Feature X1 and X5 are most important feature as per score obtained in question 3\n",
    "\n",
    "#### X1  386.284336\n",
    "#### X5  230.132040"
   ]
  },
  {
   "cell_type": "code",
   "execution_count": 18,
   "metadata": {},
   "outputs": [],
   "source": [
    "#for individual features\n",
    "def gaus_8(mu, sigma, r1, r2):\n",
    "    f, axes = plt.subplots(1, figsize=(10,5))\n",
    "    for i in range(r1, r2):\n",
    "        start = (mu[i] - 3*sigma[i])\n",
    "        stop = (mu[i] + 3*sigma[i])\n",
    "        x = np.linspace(start,stop)    \n",
    "        pdf = norm.pdf(x,mu[i],sigma[i])\n",
    "        axes = plt.gca()                 #get current axis\n",
    "        axes.set_xlim([-0.25,0.25])\n",
    "        plt.plot(x, pdf, label=('X',i+1))\n",
    "        plt.title(\"Probability Distribution\")\n",
    "        plt.legend()\n",
    "    plt.show()\n",
    "    return pdf"
   ]
  },
  {
   "cell_type": "code",
   "execution_count": 19,
   "metadata": {},
   "outputs": [],
   "source": [
    "#Scaling dataset from 0 to 1 range for better view of individual component\n",
    "# scaledXn = pd.DataFrame(MinMaxScaler().fit_transform(X_n),columns=X_n.columns)"
   ]
  },
  {
   "cell_type": "code",
   "execution_count": 20,
   "metadata": {
    "scrolled": false
   },
   "outputs": [
    {
     "name": "stdout",
     "output_type": "stream",
     "text": [
      "mu: X1    0.029275\n",
      "X2    0.029062\n",
      "X3    0.019698\n",
      "X4    0.024321\n",
      "X5    0.005750\n",
      "X6    0.005258\n",
      "X7    0.008949\n",
      "X8    0.012658\n",
      "dtype: float64 \n",
      " sigma: X1    0.031335\n",
      "X2    0.036432\n",
      "X3    0.040718\n",
      "X4    0.040554\n",
      "X5    0.014747\n",
      "X6    0.016393\n",
      "X7    0.025223\n",
      "X8    0.025900\n",
      "dtype: float64 \n",
      " var: X1    0.000982\n",
      "X2    0.001327\n",
      "X3    0.001658\n",
      "X4    0.001645\n",
      "X5    0.000217\n",
      "X6    0.000269\n",
      "X7    0.000636\n",
      "X8    0.000671\n",
      "dtype: float64\n"
     ]
    }
   ],
   "source": [
    "#Based on individual features\n",
    "mu_2n,sigma_2n,var_2n=para(scaledXn)"
   ]
  },
  {
   "cell_type": "code",
   "execution_count": 49,
   "metadata": {},
   "outputs": [
    {
     "data": {
      "image/png": "[encoded data removed]",
      "text/plain": [
       "<Figure size 720x360 with 1 Axes>"
      ]
     },
     "metadata": {
      "needs_background": "light"
     },
     "output_type": "display_data"
    }
   ],
   "source": [
    "#Generating PDF functions based for all invidual features\n",
    "pdf2n=gaus_8(mu_2n,sigma_2n,0,len(mu_2n))"
   ]
  },
  {
   "cell_type": "code",
   "execution_count": 48,
   "metadata": {},
   "outputs": [
    {
     "name": "stdout",
     "output_type": "stream",
     "text": [
      "mu: 0.01751232953215463 \n",
      " sigma: 0.027166814810969327 \n",
      " var: 0.0007380358269735023\n",
      "pdfmin:  0.16313463476581475 ,pdfmax:  14.684911834530128\n"
     ]
    },
    {
     "data": {
      "image/png": "[encoded data removed]",
      "text/plain": [
       "<Figure size 432x288 with 1 Axes>"
      ]
     },
     "metadata": {
      "needs_background": "light"
     },
     "output_type": "display_data"
    }
   ],
   "source": [
    "#Generating PDF functions based on only important features X1 and X5\n",
    "X34=X_n.drop(['X2','X3','X4','X6','X7','X8'], axis = 1)\n",
    "mu34,sigma34,var34=para(X34.to_numpy())\n",
    "pdf34,x=gaus(mu34,sigma34,len(X34))\n",
    "plt.plot(x,pdf34)\n",
    "print('pdfmin: ',pdf34.min(), \",pdfmax: \",pdf34.max())"
   ]
  },
  {
   "cell_type": "markdown",
   "metadata": {},
   "source": [
    "### c. Projection of feature space into first two components using PCA"
   ]
  },
  {
   "cell_type": "code",
   "execution_count": 23,
   "metadata": {},
   "outputs": [],
   "source": [
    "#scaling dataset\n",
    "scaledset = StandardScaler().fit_transform(dfn) "
   ]
  },
  {
   "cell_type": "code",
   "execution_count": 24,
   "metadata": {},
   "outputs": [
    {
     "data": {
      "text/plain": [
       "(152356, 2)"
      ]
     },
     "execution_count": 24,
     "metadata": {},
     "output_type": "execute_result"
    }
   ],
   "source": [
    "# fitting and transforming to principal components\n",
    "pca = PCA(n_components=2)\n",
    "prcomps = pca.fit_transform(scaledset)\n",
    "\n",
    "#verifying the shape\n",
    "prcomps.shape"
   ]
  },
  {
   "cell_type": "code",
   "execution_count": 25,
   "metadata": {},
   "outputs": [
    {
     "data": {
      "text/plain": [
       "Text(0, 0.5, 'Principal Component 2')"
      ]
     },
     "execution_count": 25,
     "metadata": {},
     "output_type": "execute_result"
    },
    {
     "data": {
      "image/png": "[encoded data removed]",
      "text/plain": [
       "<Figure size 576x576 with 1 Axes>"
      ]
     },
     "metadata": {
      "needs_background": "light"
     },
     "output_type": "display_data"
    }
   ],
   "source": [
    "#projecting the feature space\n",
    "plt.figure(figsize = (8,8))\n",
    "plt.scatter(prcomps[:,0],prcomps[:,1])\n",
    "plt.xlabel('Principal component 1')\n",
    "plt.ylabel('Principal Component 2')"
   ]
  },
  {
   "cell_type": "markdown",
   "metadata": {},
   "source": [
    "## Question 5 - Model the same normal process “merged exp normal.csv” using Gaussian distribution with all requirements in Question 4. However, assume that the features are dependent."
   ]
  },
  {
   "cell_type": "markdown",
   "metadata": {},
   "source": [
    "We will use co variance matrix to generate pdf functions for this case."
   ]
  },
  {
   "cell_type": "code",
   "execution_count": 26,
   "metadata": {},
   "outputs": [
    {
     "name": "stdout",
     "output_type": "stream",
     "text": [
      "Covariance \n",
      "           X1        X2        X3        X4        X5        X6        X7  \\\n",
      "X1  0.000982  0.001112  0.000721  0.000966  0.000173  0.000188  0.000182   \n",
      "X2  0.001112  0.001327  0.000995  0.001239  0.000191  0.000223  0.000259   \n",
      "X3  0.000721  0.000995  0.001658  0.001442  0.000108  0.000158  0.000455   \n",
      "X4  0.000966  0.001239  0.001442  0.001645  0.000149  0.000191  0.000373   \n",
      "X5  0.000173  0.000191  0.000108  0.000149  0.000217  0.000235  0.000227   \n",
      "X6  0.000188  0.000223  0.000158  0.000191  0.000235  0.000269  0.000285   \n",
      "X7  0.000182  0.000259  0.000455  0.000373  0.000227  0.000285  0.000636   \n",
      "X8  0.000254  0.000328  0.000393  0.000429  0.000292  0.000353  0.000575   \n",
      "\n",
      "          X8  \n",
      "X1  0.000254  \n",
      "X2  0.000328  \n",
      "X3  0.000393  \n",
      "X4  0.000429  \n",
      "X5  0.000292  \n",
      "X6  0.000353  \n",
      "X7  0.000575  \n",
      "X8  0.000671  \n"
     ]
    }
   ],
   "source": [
    "#getting covariance matrix\n",
    "covariance=X_n.cov()\n",
    "print(\"Covariance \\n\",covariance)"
   ]
  },
  {
   "cell_type": "code",
   "execution_count": 27,
   "metadata": {},
   "outputs": [
    {
     "name": "stdout",
     "output_type": "stream",
     "text": [
      "pdfmin:  0.0 ,pdfmax:  1147753029359.7014\n"
     ]
    }
   ],
   "source": [
    "#generating PDF function\n",
    "pdfmv=multivariate_normal.pdf(X_n,mu_2n,covariance)\n",
    "print('pdfmin: ',pdfmv.min(), \",pdfmax: \",pdfmv.max())"
   ]
  },
  {
   "cell_type": "markdown",
   "metadata": {},
   "source": [
    "## Question 6 - Develop an anomaly alarm by adjusting a threshold epsilon to your Gaussian models obtained in Questions 3 and 4, and accordingly, generate an alarm accordingly."
   ]
  },
  {
   "cell_type": "markdown",
   "metadata": {},
   "source": [
    "We will first split the anomaly dataset into test and train using train_test_split and then generate mean and standard deviation for the training set. Then threshold value will be calculated to use it to design the alarm."
   ]
  },
  {
   "cell_type": "code",
   "execution_count": 28,
   "metadata": {
    "scrolled": true
   },
   "outputs": [],
   "source": [
    "#splitting dataset\n",
    "dfa=pd.read_csv('merged_exp_contains_anomalies.csv')\n",
    "features=dfa[['X1','X2','X3','X4','X5','X6','X7','X8']]\n",
    "labels  =dfa['Anomaly_Tag']\n",
    "\n",
    "x_train,x_test,y_train,y_test=train_test_split(features,labels,test_size=0.2, random_state=42)\n",
    "y_train=pd.DataFrame(y_train)\n",
    "y_test=pd.DataFrame(y_test)"
   ]
  },
  {
   "cell_type": "code",
   "execution_count": 29,
   "metadata": {},
   "outputs": [
    {
     "name": "stdout",
     "output_type": "stream",
     "text": [
      "mu: 8.695264787260276 \n",
      " sigma: 40.45086069135203 \n",
      " var: 1636.2721306711687\n",
      "pdfmin:  0.00010956128834325374 ,pdfmax:  0.009862392844934535\n"
     ]
    }
   ],
   "source": [
    "#Mean and standard deviation for x_train\n",
    "mu_tr,sigma_tr,var_tr=para(x_train.to_numpy())\n",
    "\n",
    "#PDF for x_train\n",
    "pdf_tr,x = gaus(mu_tr,sigma_tr,len(x_train))\n",
    "print('pdfmin: ',pdf_tr.min(), \",pdfmax: \",pdf_tr.max())"
   ]
  },
  {
   "cell_type": "markdown",
   "metadata": {},
   "source": [
    "### Finding threshold value"
   ]
  },
  {
   "cell_type": "code",
   "execution_count": 30,
   "metadata": {},
   "outputs": [
    {
     "name": "stdout",
     "output_type": "stream",
     "text": [
      "stepsize 9.900000000000001e-05\n"
     ]
    }
   ],
   "source": [
    "epsilon,F1,f = 0,0,0\n",
    "\n",
    "step=(0.00990-0)/100\n",
    "print('stepsize',step)"
   ]
  },
  {
   "cell_type": "code",
   "execution_count": 31,
   "metadata": {},
   "outputs": [
    {
     "name": "stdout",
     "output_type": "stream",
     "text": [
      "Predictions: [ True  True  True ...  True  True  True]\n",
      "F1 Score 0.8583287671232877\n",
      "Epsilon 0.0\n",
      "Anomaly Detection Training\n",
      "Memory Usage\n",
      "C:\\ProgramData\\Anaconda3\\lib\\selectors.py:314: size=144 KiB (+144 KiB), count=3 (+3), average=48.0 KiB\n",
      "Time Complexity 0:00:02.028448\n"
     ]
    }
   ],
   "source": [
    "tracemalloc.start()\n",
    "snapshot1 = tracemalloc.take_snapshot()\n",
    "a = datetime.datetime.now()\n",
    "\n",
    "##########################################\n",
    "for ep in np.arange(0,0.00990,step):\n",
    "    prediction = (pdf_tr < ep)\n",
    "    f = f1_score(y_train, prediction, average = \"micro\")\n",
    "    if f > F1:\n",
    "        F1 = f\n",
    "        epsilon = ep\n",
    "print ('Predictions:',prediction)\n",
    "print ('F1 Score', F1)\n",
    "print ('Epsilon', epsilon)\n",
    "##########################################\n",
    "\n",
    "snapshot2 = tracemalloc.take_snapshot()\n",
    "stats = snapshot2.compare_to(snapshot1,'lineno')\n",
    "print('Anomaly Detection Training')\n",
    "print(\"Memory Usage\")\n",
    "for stat in stats[:1]:\n",
    "    print(stat)\n",
    "b = datetime.datetime.now()\n",
    "print('Time Complexity', b-a)"
   ]
  },
  {
   "cell_type": "markdown",
   "metadata": {},
   "source": [
    "### Designing Anomaly Alarm with Threshold Value/epsilon = 0.0"
   ]
  },
  {
   "cell_type": "code",
   "execution_count": 32,
   "metadata": {},
   "outputs": [],
   "source": [
    "def alarm(pdf):\n",
    "    prediction = (pdf < 0.0)\n",
    "    f = f1_score(y_test, prediction, average = \"micro\")\n",
    "    return prediction,f"
   ]
  },
  {
   "cell_type": "code",
   "execution_count": 33,
   "metadata": {},
   "outputs": [
    {
     "name": "stdout",
     "output_type": "stream",
     "text": [
      "mu: 8.528832693540435 \n",
      " sigma: 39.607568876507564 \n",
      " var: 1568.7595123072904\n",
      "mu: X1     0.633940\n",
      "X2     1.816117\n",
      "X3    26.890898\n",
      "X4    15.553618\n",
      "X5     0.610040\n",
      "X6     1.634985\n",
      "X7    17.042029\n",
      "X8     4.049035\n",
      "dtype: float64 \n",
      " sigma: X1     0.239112\n",
      "X2     2.239751\n",
      "X3    68.574969\n",
      "X4    76.605799\n",
      "X5     0.349667\n",
      "X6     2.229615\n",
      "X7    29.008652\n",
      "X8    20.754607\n",
      "dtype: float64 \n",
      " var: X1       0.057174\n",
      "X2       5.016485\n",
      "X3    4702.526421\n",
      "X4    5868.448484\n",
      "X5       0.122267\n",
      "X6       4.971182\n",
      "X7     841.501890\n",
      "X8     430.753732\n",
      "dtype: float64\n"
     ]
    }
   ],
   "source": [
    "#Parameters of Test Data (Mean, standard deviation, Covariance): x_test\n",
    "mu_test,sigma_test,var_test=para(x_test.to_numpy())\n",
    "\n",
    "cov_test=X_n.cov()\n",
    "mu_2t,sigma_2t,var_2t=para(x_test)"
   ]
  },
  {
   "cell_type": "markdown",
   "metadata": {},
   "source": [
    "#### Case 1: Independent Features(Univariate)"
   ]
  },
  {
   "cell_type": "code",
   "execution_count": 34,
   "metadata": {},
   "outputs": [
    {
     "name": "stdout",
     "output_type": "stream",
     "text": [
      "F1 Score 0.8619329388560159\n",
      "Testing Univariate\n",
      "Memory Usage\n",
      "C:\\ProgramData\\Anaconda3\\lib\\selectors.py:314: size=144 KiB (+144 KiB), count=3 (+3), average=48.0 KiB\n",
      "Time complexity 0:00:00.195042\n"
     ]
    }
   ],
   "source": [
    "tracemalloc.start()\n",
    "snapshot1 = tracemalloc.take_snapshot()\n",
    "a = datetime.datetime.now()\n",
    "\n",
    "##########################################\n",
    "#PDF for x_test\n",
    "pdf_ind_test,x = gaus(mu_test,sigma_test,len(x_test))\n",
    "pdf_ind_test = pd.DataFrame(pdf_ind_test)\n",
    "\n",
    "pred_ind_test,f = alarm(pdf_ind_test)\n",
    "\n",
    "print ('F1 Score', f)\n",
    "##########################################\n",
    "\n",
    "snapshot2 = tracemalloc.take_snapshot()\n",
    "stats = snapshot2.compare_to(snapshot1,'lineno')\n",
    "print('Testing Univariate')\n",
    "print(\"Memory Usage\")\n",
    "for stat in stats[:1]:\n",
    "    print(stat)\n",
    "b = datetime.datetime.now()\n",
    "print('Time complexity', b-a)"
   ]
  },
  {
   "cell_type": "markdown",
   "metadata": {},
   "source": [
    "#### Case 2: Dependent Features(Multivariate)"
   ]
  },
  {
   "cell_type": "code",
   "execution_count": 35,
   "metadata": {},
   "outputs": [
    {
     "name": "stdout",
     "output_type": "stream",
     "text": [
      "Testing Multivariate\n",
      "Memory Usage\n",
      "C:\\ProgramData\\Anaconda3\\lib\\selectors.py:314: size=144 KiB (+144 KiB), count=7 (+3), average=20.6 KiB\n",
      "Time complexity 0:00:00.116219\n"
     ]
    }
   ],
   "source": [
    "tracemalloc.start()\n",
    "snapshot1 = tracemalloc.take_snapshot()\n",
    "a = datetime.datetime.now()\n",
    "\n",
    "##########################################\n",
    "#generating PDF function\n",
    "pdf_dep_test=multivariate_normal.pdf(x_test,mu_2t,cov_test)\n",
    "pdf_dep_test = pd.DataFrame(pdf_dep_test)\n",
    "\n",
    "pred_dep_test,f = alarm(pdf_dep_test)\n",
    "##########################################\n",
    "\n",
    "snapshot2 = tracemalloc.take_snapshot()\n",
    "stats = snapshot2.compare_to(snapshot1,'lineno')\n",
    "\n",
    "print('Testing Multivariate')\n",
    "print(\"Memory Usage\")\n",
    "for stat in stats[:1]:\n",
    "    print(stat)\n",
    "b = datetime.datetime.now()\n",
    "print('Time complexity', b-a)"
   ]
  },
  {
   "cell_type": "markdown",
   "metadata": {},
   "source": [
    "## Question 7 - Plot the generated alarm, true anomaly flags (given from the dataset), and the feature X1."
   ]
  },
  {
   "cell_type": "markdown",
   "metadata": {},
   "source": [
    "Plot for independent feature model"
   ]
  },
  {
   "cell_type": "code",
   "execution_count": 36,
   "metadata": {},
   "outputs": [
    {
     "data": {
      "image/png": "[encoded data removed]",
      "text/plain": [
       "<Figure size 432x288 with 1 Axes>"
      ]
     },
     "metadata": {
      "needs_background": "light"
     },
     "output_type": "display_data"
    }
   ],
   "source": [
    "fig, ax = plt.subplots()\n",
    "ax.plot(x_test['X1'], y_test, 'x', color='red',label='True')\n",
    "ax.plot(x_test['X1'], (pred_ind_test+0.2)*0.9, '>', color='blue',label='Predicted')\n",
    "leg = ax.legend()"
   ]
  },
  {
   "cell_type": "markdown",
   "metadata": {},
   "source": [
    "Plot for dependent feature model(multivariate)"
   ]
  },
  {
   "cell_type": "code",
   "execution_count": 37,
   "metadata": {},
   "outputs": [
    {
     "data": {
      "image/png": "[encoded data removed]",
      "text/plain": [
       "<Figure size 432x288 with 1 Axes>"
      ]
     },
     "metadata": {
      "needs_background": "light"
     },
     "output_type": "display_data"
    }
   ],
   "source": [
    "fig, ax = plt.subplots()\n",
    "ax.plot(x_test['X1'], y_test, 'x', color='red',label='True')\n",
    "ax.plot(x_test['X1'], (pred_dep_test+0.2)*0.9, '>', color='blue',label='Predicted')\n",
    "leg = ax.legend()"
   ]
  },
  {
   "cell_type": "markdown",
   "metadata": {},
   "source": [
    "## Question 8 - Apply one supervised learning approach for classifying the events to normal and anomalies"
   ]
  },
  {
   "cell_type": "markdown",
   "metadata": {},
   "source": [
    "We will be using KNN supervised algorithm to classify the events as normal or anomaly. Confusion matrix will be used to visualize the performance of the model."
   ]
  },
  {
   "cell_type": "code",
   "execution_count": 38,
   "metadata": {},
   "outputs": [],
   "source": [
    "#scaling dataset\n",
    "x_train = StandardScaler().fit_transform(x_train)\n",
    "x_test = StandardScaler().fit_transform(x_test)"
   ]
  },
  {
   "cell_type": "code",
   "execution_count": 39,
   "metadata": {},
   "outputs": [],
   "source": [
    "model=KNeighborsClassifier()"
   ]
  },
  {
   "cell_type": "code",
   "execution_count": 40,
   "metadata": {},
   "outputs": [
    {
     "name": "stdout",
     "output_type": "stream",
     "text": [
      "Kneighbour\n",
      "Memory Usage\n",
      "C:\\ProgramData\\Anaconda3\\lib\\site-packages\\numpy\\core\\_asarray.py:85: size=2873 KiB (+2281 KiB), count=331 (+4), average=8887 B\n",
      "Time complexity 0:00:02.178313\n"
     ]
    }
   ],
   "source": [
    "tracemalloc.start()\n",
    "snapshot1 = tracemalloc.take_snapshot()\n",
    "a = datetime.datetime.now()\n",
    "\n",
    "##########################################\n",
    "# fitting and prediction\n",
    "model.fit(x_train,np.ravel(y_train))\n",
    "prediction = model.predict(x_test)\n",
    "##########################################\n",
    "\n",
    "snapshot2 = tracemalloc.take_snapshot()\n",
    "stats = snapshot2.compare_to(snapshot1,'lineno')\n",
    "print('Kneighbour')\n",
    "print(\"Memory Usage\")\n",
    "for stat in stats[:1]:\n",
    "    print(stat)\n",
    "b = datetime.datetime.now()\n",
    "print('Time complexity', b-a)"
   ]
  },
  {
   "cell_type": "code",
   "execution_count": 41,
   "metadata": {},
   "outputs": [
    {
     "data": {
      "text/plain": [
       "array([[7696,  170],\n",
       "       [ 283,  977]], dtype=int64)"
      ]
     },
     "execution_count": 41,
     "metadata": {},
     "output_type": "execute_result"
    }
   ],
   "source": [
    "cm = confusion_matrix(y_test, prediction)\n",
    "cm"
   ]
  },
  {
   "cell_type": "code",
   "execution_count": 42,
   "metadata": {},
   "outputs": [
    {
     "data": {
      "text/plain": [
       "0.9503616042077581"
      ]
     },
     "execution_count": 42,
     "metadata": {},
     "output_type": "execute_result"
    }
   ],
   "source": [
    "score=model.score(x_test, y_test)\n",
    "score"
   ]
  },
  {
   "cell_type": "code",
   "execution_count": 43,
   "metadata": {},
   "outputs": [
    {
     "data": {
      "text/plain": [
       "19.14569536423841"
      ]
     },
     "execution_count": 43,
     "metadata": {},
     "output_type": "execute_result"
    }
   ],
   "source": [
    "true_pos=cm[0][0]\n",
    "true_neg=cm[1][1]\n",
    "false_pos=cm[0][1]\n",
    "false_neg=cm[1][0]\n",
    "accuracy=(true_pos+true_neg)/(false_pos+false_neg)\n",
    "accuracy"
   ]
  },
  {
   "cell_type": "code",
   "execution_count": 44,
   "metadata": {},
   "outputs": [
    {
     "data": {
      "text/plain": [
       "0.9783879989829647"
      ]
     },
     "execution_count": 44,
     "metadata": {},
     "output_type": "execute_result"
    }
   ],
   "source": [
    "precision=true_pos/(true_pos+false_pos)\n",
    "precision"
   ]
  },
  {
   "cell_type": "code",
   "execution_count": 45,
   "metadata": {},
   "outputs": [
    {
     "data": {
      "text/plain": [
       "(2.5, -0.5)"
      ]
     },
     "execution_count": 45,
     "metadata": {},
     "output_type": "execute_result"
    },
    {
     "data": {
      "image/png": "[encoded data removed]",
      "text/plain": [
       "<Figure size 360x144 with 2 Axes>"
      ]
     },
     "metadata": {
      "needs_background": "light"
     },
     "output_type": "display_data"
    }
   ],
   "source": [
    "plt.subplots(figsize=(5,2))\n",
    "ax=sns.heatmap(cm, annot=True, cmap=\"YlGnBu\")\n",
    "bottom, top = ax.get_ylim()\n",
    "ax.set_ylim(bottom + 0.5, top - 0.5)"
   ]
  },
  {
   "cell_type": "markdown",
   "metadata": {},
   "source": [
    "#### Question 9 - Apply any clustering based algorithm you learn in the class, i.e., (hard and soft clustering with K-means, EM, ..., etc.) to decouple the anomaly data from the normal ones."
   ]
  },
  {
   "cell_type": "markdown",
   "metadata": {},
   "source": [
    "K-means clusterring algorithm has been chosen to apply on the dataset to distinguish anomaly data. With help of the Pandas DataFrame head() function, we will quickly check the data and then fill any null values before modeling."
   ]
  },
  {
   "cell_type": "code",
   "execution_count": 46,
   "metadata": {},
   "outputs": [
    {
     "data": {
      "text/html": [
       "<div>\n",
       "<style scoped>\n",
       "    .dataframe tbody tr th:only-of-type {\n",
       "        vertical-align: middle;\n",
       "    }\n",
       "\n",
       "    .dataframe tbody tr th {\n",
       "        vertical-align: top;\n",
       "    }\n",
       "\n",
       "    .dataframe thead th {\n",
       "        text-align: right;\n",
       "    }\n",
       "</style>\n",
       "<table border=\"1\" class=\"dataframe\">\n",
       "  <thead>\n",
       "    <tr style=\"text-align: right;\">\n",
       "      <th></th>\n",
       "      <th>X1</th>\n",
       "      <th>X2</th>\n",
       "      <th>X3</th>\n",
       "      <th>X4</th>\n",
       "      <th>X5</th>\n",
       "      <th>X6</th>\n",
       "      <th>X7</th>\n",
       "      <th>X8</th>\n",
       "    </tr>\n",
       "  </thead>\n",
       "  <tbody>\n",
       "    <tr>\n",
       "      <th>0</th>\n",
       "      <td>0.024321</td>\n",
       "      <td>0.023497</td>\n",
       "      <td>0.014581</td>\n",
       "      <td>0.010379</td>\n",
       "      <td>0.000954</td>\n",
       "      <td>0.001048</td>\n",
       "      <td>0.005613</td>\n",
       "      <td>0.005851</td>\n",
       "    </tr>\n",
       "    <tr>\n",
       "      <th>1</th>\n",
       "      <td>0.024123</td>\n",
       "      <td>0.023286</td>\n",
       "      <td>0.014564</td>\n",
       "      <td>0.010380</td>\n",
       "      <td>0.000833</td>\n",
       "      <td>0.001016</td>\n",
       "      <td>0.005693</td>\n",
       "      <td>0.005926</td>\n",
       "    </tr>\n",
       "    <tr>\n",
       "      <th>2</th>\n",
       "      <td>0.024036</td>\n",
       "      <td>0.023155</td>\n",
       "      <td>0.014561</td>\n",
       "      <td>0.010375</td>\n",
       "      <td>0.000856</td>\n",
       "      <td>0.001051</td>\n",
       "      <td>0.005743</td>\n",
       "      <td>0.005917</td>\n",
       "    </tr>\n",
       "    <tr>\n",
       "      <th>3</th>\n",
       "      <td>0.023977</td>\n",
       "      <td>0.023088</td>\n",
       "      <td>0.014534</td>\n",
       "      <td>0.010383</td>\n",
       "      <td>0.001162</td>\n",
       "      <td>0.001226</td>\n",
       "      <td>0.005583</td>\n",
       "      <td>0.006073</td>\n",
       "    </tr>\n",
       "    <tr>\n",
       "      <th>4</th>\n",
       "      <td>0.023887</td>\n",
       "      <td>0.022948</td>\n",
       "      <td>0.014479</td>\n",
       "      <td>0.010378</td>\n",
       "      <td>0.001516</td>\n",
       "      <td>0.001421</td>\n",
       "      <td>0.005399</td>\n",
       "      <td>0.006112</td>\n",
       "    </tr>\n",
       "    <tr>\n",
       "      <th>...</th>\n",
       "      <td>...</td>\n",
       "      <td>...</td>\n",
       "      <td>...</td>\n",
       "      <td>...</td>\n",
       "      <td>...</td>\n",
       "      <td>...</td>\n",
       "      <td>...</td>\n",
       "      <td>...</td>\n",
       "    </tr>\n",
       "    <tr>\n",
       "      <th>152351</th>\n",
       "      <td>0.047067</td>\n",
       "      <td>0.059150</td>\n",
       "      <td>0.017973</td>\n",
       "      <td>0.029082</td>\n",
       "      <td>0.020224</td>\n",
       "      <td>0.082090</td>\n",
       "      <td>0.028469</td>\n",
       "      <td>0.007644</td>\n",
       "    </tr>\n",
       "    <tr>\n",
       "      <th>152352</th>\n",
       "      <td>0.046773</td>\n",
       "      <td>0.058888</td>\n",
       "      <td>0.017575</td>\n",
       "      <td>0.028512</td>\n",
       "      <td>0.020672</td>\n",
       "      <td>0.083181</td>\n",
       "      <td>0.029404</td>\n",
       "      <td>0.007471</td>\n",
       "    </tr>\n",
       "    <tr>\n",
       "      <th>152353</th>\n",
       "      <td>0.046298</td>\n",
       "      <td>0.058170</td>\n",
       "      <td>0.017171</td>\n",
       "      <td>0.027931</td>\n",
       "      <td>0.020330</td>\n",
       "      <td>0.082555</td>\n",
       "      <td>0.029349</td>\n",
       "      <td>0.007228</td>\n",
       "    </tr>\n",
       "    <tr>\n",
       "      <th>152354</th>\n",
       "      <td>0.046149</td>\n",
       "      <td>0.057681</td>\n",
       "      <td>0.016784</td>\n",
       "      <td>0.027443</td>\n",
       "      <td>0.019519</td>\n",
       "      <td>0.081155</td>\n",
       "      <td>0.029173</td>\n",
       "      <td>0.006884</td>\n",
       "    </tr>\n",
       "    <tr>\n",
       "      <th>152355</th>\n",
       "      <td>0.046208</td>\n",
       "      <td>0.057600</td>\n",
       "      <td>0.016640</td>\n",
       "      <td>0.027242</td>\n",
       "      <td>0.018592</td>\n",
       "      <td>0.075067</td>\n",
       "      <td>0.027454</td>\n",
       "      <td>0.006529</td>\n",
       "    </tr>\n",
       "  </tbody>\n",
       "</table>\n",
       "<p>152356 rows × 8 columns</p>\n",
       "</div>"
      ],
      "text/plain": [
       "              X1        X2        X3        X4        X5        X6        X7  \\\n",
       "0       0.024321  0.023497  0.014581  0.010379  0.000954  0.001048  0.005613   \n",
       "1       0.024123  0.023286  0.014564  0.010380  0.000833  0.001016  0.005693   \n",
       "2       0.024036  0.023155  0.014561  0.010375  0.000856  0.001051  0.005743   \n",
       "3       0.023977  0.023088  0.014534  0.010383  0.001162  0.001226  0.005583   \n",
       "4       0.023887  0.022948  0.014479  0.010378  0.001516  0.001421  0.005399   \n",
       "...          ...       ...       ...       ...       ...       ...       ...   \n",
       "152351  0.047067  0.059150  0.017973  0.029082  0.020224  0.082090  0.028469   \n",
       "152352  0.046773  0.058888  0.017575  0.028512  0.020672  0.083181  0.029404   \n",
       "152353  0.046298  0.058170  0.017171  0.027931  0.020330  0.082555  0.029349   \n",
       "152354  0.046149  0.057681  0.016784  0.027443  0.019519  0.081155  0.029173   \n",
       "152355  0.046208  0.057600  0.016640  0.027242  0.018592  0.075067  0.027454   \n",
       "\n",
       "              X8  \n",
       "0       0.005851  \n",
       "1       0.005926  \n",
       "2       0.005917  \n",
       "3       0.006073  \n",
       "4       0.006112  \n",
       "...          ...  \n",
       "152351  0.007644  \n",
       "152352  0.007471  \n",
       "152353  0.007228  \n",
       "152354  0.006884  \n",
       "152355  0.006529  \n",
       "\n",
       "[152356 rows x 8 columns]"
      ]
     },
     "execution_count": 46,
     "metadata": {},
     "output_type": "execute_result"
    }
   ],
   "source": [
    "# checking data and filling null values\n",
    "x=X_n\n",
    "x.fillna(x.mean())"
   ]
  },
  {
   "cell_type": "code",
   "execution_count": 47,
   "metadata": {},
   "outputs": [
    {
     "name": "stdout",
     "output_type": "stream",
     "text": [
      "[0 0 0 ... 0 0 0]\n",
      "K-Means\n",
      "Memory Usage\n",
      "C:\\ProgramData\\Anaconda3\\lib\\site-packages\\sklearn\\cluster\\_kmeans.py:940: size=595 KiB (+595 KiB), count=2 (+2), average=298 KiB\n",
      "Time complexity 0:00:06.433421\n"
     ]
    }
   ],
   "source": [
    "tracemalloc.start()\n",
    "snapshot1 = tracemalloc.take_snapshot()\n",
    "a = datetime.datetime.now()\n",
    "\n",
    "##########################################\n",
    "#Applying K Means algorithm to the dataset\n",
    "kmeans5 = KMeans(n_clusters=2)\n",
    "y_kmeans5 = kmeans5.fit_predict(x)\n",
    "print(y_kmeans5)\n",
    "kmeans5.cluster_centers_\n",
    "# print (y_kmeans5.score())\n",
    "##########################################\n",
    "\n",
    "snapshot2 = tracemalloc.take_snapshot()\n",
    "stats = snapshot2.compare_to(snapshot1,'lineno')\n",
    "print('K-Means')\n",
    "print(\"Memory Usage\")\n",
    "for stat in stats[:1]:\n",
    "    print(stat)\n",
    "b = datetime.datetime.now()\n",
    "print('Time complexity', b-a)"
   ]
  },
  {
   "cell_type": "markdown",
   "metadata": {},
   "source": [
    "#### Q10 - Compare the Gaussian-based anomaly detection algorithm, the supervised learning and the clustering approach"
   ]
  },
  {
   "cell_type": "markdown",
   "metadata": {},
   "source": [
    "Detection Capablities: (Score)\n",
    "1. Anomalous Model              0.8619329388560159\n",
    "2. Kneighbour                   0.9503616042077581\n",
    "3. K-Means                    \n",
    "\n",
    "Time requirements:\n",
    "1. Anomalous Model \n",
    " a. Training                     0:00:01.723531\n",
    " b. Test(Univariate/Independent) 0:00:00.076968\n",
    " c. Test(Multivariate/Dependent) 0:00:00.067554\n",
    "2. Kneighbour                    0:00:01.806330\n",
    "3. K-Means                       0:00:04.709879\n",
    "\n",
    "Memory requirements:\n",
    "1. Anomalous Model               144 KiB\n",
    "2. Kneighbour                    2874 KiB\n",
    "3. K-Means                       144 KiB"
   ]
  }
 ],
 "metadata": {
  "kernelspec": {
   "display_name": "Python 3",
   "language": "python",
   "name": "python3"
  },
  "language_info": {
   "codemirror_mode": {
    "name": "ipython",
    "version": 3
   },
   "file_extension": ".py",
   "mimetype": "text/x-python",
   "name": "python",
   "nbconvert_exporter": "python",
   "pygments_lexer": "ipython3",
   "version": "3.7.6"
  }
 },
 "nbformat": 4,
 "nbformat_minor": 4
}
